{
 "cells": [
  {
   "cell_type": "code",
   "execution_count": 1,
   "id": "9330b6e0-f020-408e-a492-8cd445b12c30",
   "metadata": {},
   "outputs": [],
   "source": [
    "root = '/work/magroup/4DN/DNALongBench/'"
   ]
  },
  {
   "cell_type": "code",
   "execution_count": 2,
   "id": "9a7400ef-20a7-4b7e-b959-560fda48a07d",
   "metadata": {},
   "outputs": [
    {
     "name": "stderr",
     "output_type": "stream",
     "text": [
      "2024-06-12 19:23:36.990758: I tensorflow/core/platform/cpu_feature_guard.cc:182] This TensorFlow binary is optimized to use available CPU instructions in performance-critical operations.\n",
      "To enable the following instructions: SSE4.1 SSE4.2 AVX AVX2 AVX512F FMA, in other operations, rebuild TensorFlow with the appropriate compiler flags.\n"
     ]
    }
   ],
   "source": [
    "import torch\n",
    "from utils import load_data"
   ]
  },
  {
   "cell_type": "markdown",
   "id": "0f2a5ba9-6fe7-4967-9b96-72fd2f335292",
   "metadata": {},
   "source": [
    "# Regulatory Sequence Activity Prediction"
   ]
  },
  {
   "cell_type": "markdown",
   "id": "8dd83bf0-acf3-4e56-a626-e5db000d0818",
   "metadata": {},
   "source": [
    "This task has two subsets: \"human\" and \"organism\""
   ]
  },
  {
   "cell_type": "code",
   "execution_count": 3,
   "id": "b138d306-4ad5-42dc-89fa-cd8354478ae9",
   "metadata": {},
   "outputs": [],
   "source": [
    "train_loader, valid_loader, test_loader = load_data(root=root, task_name = 'regulatory_sequence_activity', organism = 'human', cell_type=None, batch_size=16, sequence_length=196608)"
   ]
  },
  {
   "cell_type": "code",
   "execution_count": 4,
   "id": "67455970-615b-4656-93d8-9885e723d6e1",
   "metadata": {},
   "outputs": [
    {
     "name": "stdout",
     "output_type": "stream",
     "text": [
      "x: torch.Size([16, 196608, 4])\n",
      "y: torch.Size([16, 896, 5313])\n"
     ]
    },
    {
     "name": "stderr",
     "output_type": "stream",
     "text": [
      "/home/wenduoc/mambaforge/envs/enformer/lib/python3.8/site-packages/torch/utils/data/_utils/collate.py:171: UserWarning: The given NumPy array is not writable, and PyTorch does not support non-writable tensors. This means writing to this tensor will result in undefined behavior. You may want to copy the array to protect its data or make it writable before converting it to a tensor. This type of warning will be suppressed for the rest of this program. (Triggered internally at ../torch/csrc/utils/tensor_numpy.cpp:206.)\n",
      "  return collate([torch.as_tensor(b) for b in batch], collate_fn_map=collate_fn_map)\n"
     ]
    }
   ],
   "source": [
    "for batch in train_loader: \n",
    "        x, y = batch\n",
    "        print('x:',x.size())\n",
    "        print('y:',y.size())\n",
    "        break\n"
   ]
  },
  {
   "cell_type": "markdown",
   "id": "8348b2dc-1b5b-44a7-982f-9757694c3403",
   "metadata": {},
   "source": [
    "# Contact Map Prediction"
   ]
  },
  {
   "cell_type": "markdown",
   "id": "fa07a804-7963-4ce6-ab10-1cb6ae12455a",
   "metadata": {},
   "source": [
    "This task has five cell types: 'HFF', 'H1hESC', 'GM12878', 'IMR90', 'HCT116'}"
   ]
  },
  {
   "cell_type": "code",
   "execution_count": 5,
   "id": "661b94a3-e0f7-44db-91aa-39213ec940d5",
   "metadata": {},
   "outputs": [],
   "source": [
    "train_loader, valid_loader, test_loader = load_data(root=root, task_name = 'regulatory_sequence_activity', organism = 'human', cell_type='HFF', batch_size=16, sequence_length=196608)"
   ]
  },
  {
   "cell_type": "code",
   "execution_count": 6,
   "id": "d4092df2-dbbe-4ac2-b056-8ae45d1d58eb",
   "metadata": {},
   "outputs": [
    {
     "name": "stdout",
     "output_type": "stream",
     "text": [
      "x: torch.Size([16, 196608, 4])\n",
      "y: torch.Size([16, 896, 5313])\n"
     ]
    }
   ],
   "source": [
    "for batch in train_loader: \n",
    "        x, y = batch\n",
    "        print('x:',x.size())\n",
    "        print('y:',y.size())\n",
    "        break\n"
   ]
  },
  {
   "cell_type": "markdown",
   "id": "a4145e4d-c4fa-4b3c-8487-394bf6d561a6",
   "metadata": {},
   "source": [
    "# Transcription Initiation Signal Prediction"
   ]
  },
  {
   "cell_type": "code",
   "execution_count": 7,
   "id": "94967039-9b5b-4e40-b002-e705b76cf0f3",
   "metadata": {},
   "outputs": [],
   "source": [
    "train_loader, _, _ = load_data(root=root, task_name = 'transcription_initiation_signal_prediction', organism = 'human', cell_type='HFF', batch_size=16, sequence_length=196608)"
   ]
  },
  {
   "cell_type": "code",
   "execution_count": 8,
   "id": "49ad50ad-f441-44c0-90b5-604f7ef36d6d",
   "metadata": {},
   "outputs": [
    {
     "name": "stdout",
     "output_type": "stream",
     "text": [
      "x: torch.Size([16, 100000, 4])\n",
      "y: torch.Size([16, 10, 100000])\n"
     ]
    }
   ],
   "source": [
    "for batch in train_loader: \n",
    "        x, y = batch\n",
    "        print('x:',x.size())\n",
    "        print('y:',y.size())\n",
    "        break\n"
   ]
  },
  {
   "cell_type": "code",
   "execution_count": null,
   "id": "e7b541ca-3f2d-4046-8a1d-72449da678c1",
   "metadata": {},
   "outputs": [],
   "source": []
  }
 ],
 "metadata": {
  "kernelspec": {
   "display_name": "Python 3 (ipykernel)",
   "language": "python",
   "name": "python3"
  },
  "language_info": {
   "codemirror_mode": {
    "name": "ipython",
    "version": 3
   },
   "file_extension": ".py",
   "mimetype": "text/x-python",
   "name": "python",
   "nbconvert_exporter": "python",
   "pygments_lexer": "ipython3",
   "version": "3.8.19"
  }
 },
 "nbformat": 4,
 "nbformat_minor": 5
}
