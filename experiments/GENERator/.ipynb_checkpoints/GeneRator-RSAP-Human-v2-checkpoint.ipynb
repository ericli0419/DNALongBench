{
 "cells": [
  {
   "cell_type": "code",
   "execution_count": 1,
   "id": "22b46412-a357-4ad9-9e40-b7e24994aeb0",
   "metadata": {},
   "outputs": [
    {
     "name": "stdout",
     "output_type": "stream",
     "text": [
      "Tue Jul  8 23:09:34 2025       \n",
      "+-----------------------------------------------------------------------------------------+\n",
      "| NVIDIA-SMI 565.57.01              Driver Version: 565.57.01      CUDA Version: 12.7     |\n",
      "|-----------------------------------------+------------------------+----------------------+\n",
      "| GPU  Name                 Persistence-M | Bus-Id          Disp.A | Volatile Uncorr. ECC |\n",
      "| Fan  Temp   Perf          Pwr:Usage/Cap |           Memory-Usage | GPU-Util  Compute M. |\n",
      "|                                         |                        |               MIG M. |\n",
      "|=========================================+========================+======================|\n",
      "|   0  NVIDIA A100 80GB PCIe          On  |   00000000:52:00.0 Off |                    0 |\n",
      "| N/A   29C    P0             45W /  270W |       1MiB /  81920MiB |      0%      Default |\n",
      "|                                         |                        |             Disabled |\n",
      "+-----------------------------------------+------------------------+----------------------+\n",
      "                                                                                         \n",
      "+-----------------------------------------------------------------------------------------+\n",
      "| Processes:                                                                              |\n",
      "|  GPU   GI   CI        PID   Type   Process name                              GPU Memory |\n",
      "|        ID   ID                                                               Usage      |\n",
      "|=========================================================================================|\n",
      "|  No running processes found                                                             |\n",
      "+-----------------------------------------------------------------------------------------+\n"
     ]
    }
   ],
   "source": [
    "! nvidia-smi"
   ]
  },
  {
   "cell_type": "code",
   "execution_count": 2,
   "id": "a69885fa-a6b6-4fc6-b76e-c8807a91b3e2",
   "metadata": {},
   "outputs": [
    {
     "name": "stderr",
     "output_type": "stream",
     "text": [
      "/home/wenduoc/mambaforge/envs/dnalongbench/lib/python3.9/site-packages/transformers/utils/generic.py:496: FutureWarning: `torch.utils._pytree._register_pytree_node` is deprecated. Please use `torch.utils._pytree.register_pytree_node` instead.\n",
      "  _torch_pytree._register_pytree_node(\n",
      "/home/wenduoc/mambaforge/envs/dnalongbench/lib/python3.9/site-packages/transformers/utils/generic.py:353: FutureWarning: `torch.utils._pytree._register_pytree_node` is deprecated. Please use `torch.utils._pytree.register_pytree_node` instead.\n",
      "  _torch_pytree._register_pytree_node(\n",
      "/home/wenduoc/mambaforge/envs/dnalongbench/lib/python3.9/site-packages/transformers/utils/generic.py:353: FutureWarning: `torch.utils._pytree._register_pytree_node` is deprecated. Please use `torch.utils._pytree.register_pytree_node` instead.\n",
      "  _torch_pytree._register_pytree_node(\n",
      "/home/wenduoc/mambaforge/envs/dnalongbench/lib/python3.9/site-packages/torchvision/io/image.py:13: UserWarning: Failed to load image Python extension: '/home/wenduoc/mambaforge/envs/dnalongbench/lib/python3.9/site-packages/torchvision/image.so: undefined symbol: _ZN3c1017RegisterOperatorsD1Ev'If you don't plan on using image functionality from `torchvision.io`, you can ignore this warning. Otherwise, there might be something wrong with your environment. Did you have `libjpeg` or `libpng` installed before building `torchvision` from source?\n",
      "  warn(\n",
      "2025-07-08 23:09:40.449450: I tensorflow/core/util/port.cc:153] oneDNN custom operations are on. You may see slightly different numerical results due to floating-point round-off errors from different computation orders. To turn them off, set the environment variable `TF_ENABLE_ONEDNN_OPTS=0`.\n",
      "2025-07-08 23:09:40.462166: E external/local_xla/xla/stream_executor/cuda/cuda_fft.cc:485] Unable to register cuFFT factory: Attempting to register factory for plugin cuFFT when one has already been registered\n",
      "2025-07-08 23:09:40.478787: E external/local_xla/xla/stream_executor/cuda/cuda_dnn.cc:8454] Unable to register cuDNN factory: Attempting to register factory for plugin cuDNN when one has already been registered\n",
      "2025-07-08 23:09:40.483533: E external/local_xla/xla/stream_executor/cuda/cuda_blas.cc:1452] Unable to register cuBLAS factory: Attempting to register factory for plugin cuBLAS when one has already been registered\n",
      "2025-07-08 23:09:40.495069: I tensorflow/core/platform/cpu_feature_guard.cc:210] This TensorFlow binary is optimized to use available CPU instructions in performance-critical operations.\n",
      "To enable the following instructions: AVX2 AVX512F AVX512_VNNI FMA, in other operations, rebuild TensorFlow with the appropriate compiler flags.\n",
      "2025-07-08 23:09:41.503711: W tensorflow/compiler/tf2tensorrt/utils/py_utils.cc:38] TF-TRT Warning: Could not find TensorRT\n",
      "/home/wenduoc/mambaforge/envs/dnalongbench/lib/python3.9/site-packages/transformers/utils/generic.py:353: FutureWarning: `torch.utils._pytree._register_pytree_node` is deprecated. Please use `torch.utils._pytree.register_pytree_node` instead.\n",
      "  _torch_pytree._register_pytree_node(\n"
     ]
    }
   ],
   "source": [
    "import argparse\n",
    "import os\n",
    "import time\n",
    "from typing import Dict, Tuple, Union, Optional, Callable, List, Any\n",
    "from torch.utils.data import Dataset, DataLoader, Subset\n",
    "import numpy as np\n",
    "import torch\n",
    "import torch.distributed as dist\n",
    "import transformers\n",
    "import yaml\n",
    "from datasets import (\n",
    "    Dataset,\n",
    "    load_dataset,\n",
    "    DatasetDict,\n",
    "    IterableDatasetDict,\n",
    "    IterableDataset,\n",
    ")\n",
    "from datasets import Dataset as HFDataset, DatasetDict\n",
    "from sklearn.metrics import f1_score, matthews_corrcoef\n",
    "from sklearn.model_selection import KFold\n",
    "from transformers import (\n",
    "    AutoTokenizer,\n",
    "    AutoModelForSequenceClassification,\n",
    "    PreTrainedTokenizer,\n",
    "    TrainingArguments,\n",
    "    Trainer,\n",
    "    EarlyStoppingCallback,\n",
    "    DataCollatorWithPadding,\n",
    "    PreTrainedModel,\n",
    "    AutoConfig,\n",
    ")\n",
    "\n",
    "\n"
   ]
  },
  {
   "cell_type": "code",
   "execution_count": 3,
   "id": "09054935-17fc-45a1-902f-74d651dac489",
   "metadata": {},
   "outputs": [
    {
     "data": {
      "text/plain": [
       "device(type='cuda')"
      ]
     },
     "execution_count": 3,
     "metadata": {},
     "output_type": "execute_result"
    }
   ],
   "source": [
    "device = torch.device('cuda' if torch.cuda.is_available() else 'cpu')\n",
    "device "
   ]
  },
  {
   "cell_type": "code",
   "execution_count": 4,
   "id": "49fea7cb-a3b8-4295-945d-865d0dff1dce",
   "metadata": {},
   "outputs": [],
   "source": [
    "root = '/work/magroup/shared/DNA_LLM/DNALongBench/'"
   ]
  },
  {
   "cell_type": "code",
   "execution_count": 5,
   "id": "b4567ff0-b769-42c3-96ae-197f7f96a573",
   "metadata": {},
   "outputs": [],
   "source": [
    "import torch\n",
    "import dnalongbench\n",
    "from dnalongbench.utils import load_data, BasenjiDataSet\n",
    "import numpy as np\n",
    "import tensorflow as tf"
   ]
  },
  {
   "cell_type": "code",
   "execution_count": 6,
   "id": "cafbdcf8-b86b-427f-b0ae-180f75bd3523",
   "metadata": {},
   "outputs": [
    {
     "data": {
      "text/plain": [
       "[PhysicalDevice(name='/physical_device:GPU:0', device_type='GPU')]"
      ]
     },
     "execution_count": 6,
     "metadata": {},
     "output_type": "execute_result"
    }
   ],
   "source": [
    "tf.config.list_physical_devices('GPU')"
   ]
  },
  {
   "cell_type": "code",
   "execution_count": 7,
   "id": "b5d25b65-ef81-4cab-be6d-c64d6487097b",
   "metadata": {},
   "outputs": [],
   "source": [
    "tf.config.set_visible_devices([], 'GPU')"
   ]
  },
  {
   "cell_type": "code",
   "execution_count": 8,
   "id": "604f9418-8845-4d10-84a8-0b490722ada7",
   "metadata": {},
   "outputs": [],
   "source": [
    "# human_fasta_path = root + 'regulatory_sequence_activity_prediction/human/seqs/hg38.ml.fa'\n",
    "# data_path = root + 'regulatory_sequence_activity_prediction/'\n",
    "# organism = 'human'"
   ]
  },
  {
   "cell_type": "code",
   "execution_count": 9,
   "id": "061ad3b3-86f6-4a15-8d1d-cf789158e271",
   "metadata": {},
   "outputs": [],
   "source": [
    "# train_dataset = BasenjiDataSet(data_path, organism, 'train', 196608, human_fasta_path)"
   ]
  },
  {
   "cell_type": "code",
   "execution_count": 10,
   "id": "4509c3c0-6ef3-47b3-9da8-8b2cc8055a03",
   "metadata": {},
   "outputs": [],
   "source": [
    "# def custom_collate(batch):\n",
    "#     x, y = zip(*batch)\n",
    "#     x = torch.tensor(np.stack(x), dtype=torch.float32)\n",
    "#     y = torch.tensor(np.stack(y), dtype=torch.float32)\n",
    "#     return x, y\n",
    "\n",
    "# train_loader = torch.utils.data.DataLoader(\n",
    "#     train_dataset, batch_size=4, num_workers=0, collate_fn=custom_collate\n",
    "# )"
   ]
  },
  {
   "cell_type": "code",
   "execution_count": 11,
   "id": "a1b4828d-84e0-4e40-adaf-751b1cb7f65d",
   "metadata": {},
   "outputs": [],
   "source": [
    "# for batch in train_loader: \n",
    "#         x, y = batch\n",
    "#         print('x:',x.size())\n",
    "#         print('y:',y.size())\n",
    "#         break\n"
   ]
  },
  {
   "cell_type": "code",
   "execution_count": 12,
   "id": "cfe7d997-b19d-4b55-8aa3-35a608dda62d",
   "metadata": {},
   "outputs": [],
   "source": [
    "# train_loader = torch.utils.data.DataLoader(train_dataset, batch_size=4, num_workers=0)"
   ]
  },
  {
   "cell_type": "code",
   "execution_count": 13,
   "id": "a470fdc8-18d9-43c1-9cf2-24b9e3540051",
   "metadata": {},
   "outputs": [],
   "source": [
    "def load_data(root='/work/magroup/shared/DNA_LLM/DNALongBench/', task_name = 'regulatory_sequence_activity', organism = 'human', cell_type=None, batch_size=16, sequence_length=196608):\n",
    "    if task_name == 'regulatory_sequence_activity':\n",
    "        assert organism == \"human\" or organism == \"mouse\"\n",
    "        human_fasta_path = root + 'regulatory_sequence_activity_prediction/human/seqs/hg38.ml.fa'\n",
    "        mouse_fasta_path = root + 'regulatory_sequence_activity_prediction/mouse/seqs/mm10.ml.fa'\n",
    "        data_path = root + 'regulatory_sequence_activity_prediction/'\n",
    "        \n",
    "        # SEQUENCE_LENGTH = 196608\n",
    "        # BIN_SIZE = 128\n",
    "        # TARGET_LENGTH = 896\n",
    "\n",
    "        fasta_path = human_fasta_path if organism == \"human\" else mouse_fasta_path\n",
    "\n",
    "        train_dataset = BasenjiDataSet(data_path, organism, 'train', sequence_length, fasta_path)\n",
    "        valid_dataset = BasenjiDataSet(data_path, organism, 'valid', sequence_length, fasta_path)\n",
    "        test_dataset = BasenjiDataSet(data_path, organism, 'test', sequence_length, fasta_path)\n",
    "\n",
    "        def custom_collate(batch):\n",
    "            x, y = zip(*batch)\n",
    "            x = torch.tensor(np.stack(x), dtype=torch.float32)\n",
    "            y = torch.tensor(np.stack(y), dtype=torch.float32)\n",
    "            return x, y\n",
    "        \n",
    "        train_loader = torch.utils.data.DataLoader(train_dataset, batch_size=batch_size, num_workers=0, collate_fn=custom_collate)\n",
    "        valid_loader = torch.utils.data.DataLoader(valid_dataset, batch_size=batch_size, num_workers=0, collate_fn=custom_collate)\n",
    "        test_loader = torch.utils.data.DataLoader(test_dataset, batch_size=batch_size, num_workers=0, collate_fn=custom_collate)\n",
    "        return train_loader, valid_loader, test_loader "
   ]
  },
  {
   "cell_type": "code",
   "execution_count": 14,
   "id": "557a229a-7e3f-453c-a5d2-950b616e3b7e",
   "metadata": {},
   "outputs": [],
   "source": [
    "train_loader, valid_loader, test_loader = load_data(root=root, task_name = 'regulatory_sequence_activity', organism = 'human', cell_type=None, batch_size=16, sequence_length=196608)"
   ]
  },
  {
   "cell_type": "code",
   "execution_count": 15,
   "id": "1b9244c1-f707-4ec1-8853-a1239c01b996",
   "metadata": {},
   "outputs": [
    {
     "name": "stderr",
     "output_type": "stream",
     "text": [
      "2025-07-08 23:09:43.563517: E tensorflow/core/util/util.cc:131] oneDNN supports DT_HALF only on platforms with AVX-512. Falling back to the default Eigen-based implementation if present.\n"
     ]
    },
    {
     "name": "stdout",
     "output_type": "stream",
     "text": [
      "x: torch.Size([16, 196608, 4])\n",
      "y: torch.Size([16, 896, 5313])\n"
     ]
    }
   ],
   "source": [
    "for batch in train_loader: \n",
    "        x, y = batch\n",
    "        print('x:',x.size())\n",
    "        print('y:',y.size())\n",
    "        break\n"
   ]
  },
  {
   "cell_type": "code",
   "execution_count": 16,
   "id": "0b7498be-4fd9-4873-8b76-d0bbfe114608",
   "metadata": {},
   "outputs": [
    {
     "name": "stdout",
     "output_type": "stream",
     "text": [
      "Tue Jul  8 23:09:46 2025       \n",
      "+-----------------------------------------------------------------------------------------+\n",
      "| NVIDIA-SMI 565.57.01              Driver Version: 565.57.01      CUDA Version: 12.7     |\n",
      "|-----------------------------------------+------------------------+----------------------+\n",
      "| GPU  Name                 Persistence-M | Bus-Id          Disp.A | Volatile Uncorr. ECC |\n",
      "| Fan  Temp   Perf          Pwr:Usage/Cap |           Memory-Usage | GPU-Util  Compute M. |\n",
      "|                                         |                        |               MIG M. |\n",
      "|=========================================+========================+======================|\n",
      "|   0  NVIDIA A100 80GB PCIe          On  |   00000000:52:00.0 Off |                    0 |\n",
      "| N/A   29C    P0             45W /  270W |       4MiB /  81920MiB |      0%      Default |\n",
      "|                                         |                        |             Disabled |\n",
      "+-----------------------------------------+------------------------+----------------------+\n",
      "                                                                                         \n",
      "+-----------------------------------------------------------------------------------------+\n",
      "| Processes:                                                                              |\n",
      "|  GPU   GI   CI        PID   Type   Process name                              GPU Memory |\n",
      "|        ID   ID                                                               Usage      |\n",
      "|=========================================================================================|\n",
      "|  No running processes found                                                             |\n",
      "+-----------------------------------------------------------------------------------------+\n"
     ]
    }
   ],
   "source": [
    "!nvidia-smi"
   ]
  },
  {
   "cell_type": "code",
   "execution_count": 17,
   "id": "6e3da213-7d60-4e8c-be6f-91670d2c8229",
   "metadata": {},
   "outputs": [],
   "source": [
    "def collate_fn(batch, tokenizer, max_length=450000):\n",
    "    \"\"\"\n",
    "    Custom collate function for DNA data that converts one-hot encoded sequences to raw sequences\n",
    "    and tokenizes them.\n",
    "    \n",
    "    Args:\n",
    "        batch: List of tuples where each tuple is (x, y)\n",
    "               x is one-hot encoded DNA sequence of shape (seq_len, 4)\n",
    "               y is gene expression data of shape (10, seq_len)\n",
    "        tokenizer: The GENERator tokenizer\n",
    "        max_length: Maximum sequence length for tokenization\n",
    "    \n",
    "    Returns:\n",
    "        Dictionary with tokenized inputs and original gene expression data\n",
    "    \"\"\"\n",
    "    # Separate x and y from the batch\n",
    "    x_batch, y_batch = zip(*batch)\n",
    "    x_batch = torch.tensor(np.stack(x_batch), dtype=torch.float32)\n",
    "    y_batch = torch.tensor(np.stack(y_batch), dtype=torch.float32)\n",
    "    \n",
    "    # Convert one-hot encoded sequences to raw sequences\n",
    "    raw_sequences = []\n",
    "    nucleotides = ['A', 'C', 'G', 'T']\n",
    "    for one_hot_seq in x_batch:\n",
    "     \n",
    "        # Ensure one_hot_seq is a PyTorch tensor\n",
    "        if not isinstance(one_hot_seq, torch.Tensor):\n",
    "            one_hot_seq = torch.tensor(one_hot_seq)\n",
    "        \n",
    "        # Get indices of 1s in one-hot encoding (argmax along axis 1)\n",
    "        indices = torch.argmax(one_hot_seq, dim=1).cpu().numpy()\n",
    "        \n",
    "        # Convert indices to nucleotides\n",
    "        raw_seq = ''.join([nucleotides[idx] for idx in indices])\n",
    "        raw_sequences.append(raw_seq)\n",
    "    \n",
    "    # Tokenize the raw sequences\n",
    "    tokenizer.padding_side = \"right\"\n",
    "    inputs = tokenizer(\n",
    "        raw_sequences,\n",
    "        add_special_tokens=True,\n",
    "        return_tensors=\"pt\",\n",
    "        padding=False,\n",
    "        truncation=True,\n",
    "        # max_length=max_length\n",
    "    )\n",
    "\n",
    "    \n",
    "    # Convert y arrays to tensors and stack them\n",
    "    y_tensors = []\n",
    "    for y in y_batch:\n",
    "        if not isinstance(y, torch.Tensor):\n",
    "            y = torch.tensor(y, dtype=torch.float32)\n",
    "        y_tensors.append(y)\n",
    "    \n",
    "    y_stacked = torch.stack(y_tensors)\n",
    "    \n",
    "    # Return tokenized inputs and original y\n",
    "    return {\n",
    "        \"input_ids\": inputs[\"input_ids\"],\n",
    "        \"attention_mask\": inputs[\"attention_mask\"],\n",
    "        \"y\": y_stacked\n",
    "    }"
   ]
  },
  {
   "cell_type": "code",
   "execution_count": 18,
   "id": "32940061-b7b5-430b-9770-9e3c4b30130e",
   "metadata": {},
   "outputs": [],
   "source": [
    "\n",
    "# Set logging level for transformers\n",
    "transformers.logging.set_verbosity_info()\n",
    "\n",
    "# Define optimization direction for each metric (whether higher or lower is better)\n",
    "METRICS_DIRECTION: Dict[str, str] = {\n",
    "    \"accuracy\": \"max\",\n",
    "    \"f1_score\": \"max\",\n",
    "    \"mcc\": \"max\",\n",
    "    \"f1_max\": \"max\",\n",
    "    \"auprc_micro\": \"max\",\n",
    "    \"mse\": \"min\",\n",
    "    \"mae\": \"min\",\n",
    "    \"r2\": \"max\",\n",
    "    \"pearson\": \"max\",\n",
    "}\n",
    "\n",
    "\n",
    "def is_main_process() -> bool:\n",
    "    \"\"\"\n",
    "    Check if current process is the main process (rank 0) in distributed training.\n",
    "\n",
    "    Returns:\n",
    "        bool: True if this is the main process, False otherwise\n",
    "    \"\"\"\n",
    "    if dist.is_initialized():\n",
    "        return dist.get_rank() == 0\n",
    "    return True\n",
    "\n",
    "\n",
    "def dist_print(*args, **kwargs) -> None:\n",
    "    \"\"\"\n",
    "    Print only from the main process (rank 0) in distributed training.\n",
    "    Prevents duplicate outputs in multi-GPU settings.\n",
    "\n",
    "    Args:\n",
    "        *args: Arguments to pass to print function\n",
    "        **kwargs: Keyword arguments to pass to print function\n",
    "    \"\"\"\n",
    "    if is_main_process():\n",
    "        print(*args, **kwargs)\n"
   ]
  },
  {
   "cell_type": "code",
   "execution_count": 19,
   "id": "bc616855-3d44-48a2-a59f-d01df69b2e7e",
   "metadata": {},
   "outputs": [],
   "source": [
    "def setup_tokenizer(\n",
    "    model_name: str, padding_and_truncation_side: str\n",
    ") -> PreTrainedTokenizer:\n",
    "    \"\"\"\n",
    "    Load and configure tokenizer for sequence understanding.\n",
    "\n",
    "    Args:\n",
    "        model_name: Name or path of the HuggingFace model\n",
    "        padding_and_truncation_side: Side for padding and truncation (left or right)\n",
    "\n",
    "    Returns:\n",
    "        PreTrainedTokenizer: Configured tokenizer for the model\n",
    "    \"\"\"\n",
    "    dist_print(f\"🔤 Loading tokenizer from: {model_name}\")\n",
    "    start_time = time.time()\n",
    "\n",
    "    # Load tokenizer with trust_remote_code to support custom models\n",
    "    tokenizer = AutoTokenizer.from_pretrained(model_name, trust_remote_code=True)\n",
    "\n",
    "    # Configure padding and truncation settings\n",
    "    tokenizer.padding_side = padding_and_truncation_side\n",
    "    tokenizer.truncation_side = padding_and_truncation_side\n",
    "\n",
    "    # Set pad_token to eos_token if not defined\n",
    "    if tokenizer.pad_token is None:\n",
    "        tokenizer.pad_token = tokenizer.eos_token\n",
    "\n",
    "    dist_print(\n",
    "        f\"⏱️ Tokenizer loading completed in {time.time() - start_time:.2f} seconds\"\n",
    "    )\n",
    "\n",
    "    return tokenizer"
   ]
  },
  {
   "cell_type": "code",
   "execution_count": 20,
   "id": "f01bac99-e8b6-4f48-a827-1ba2f5d88cbb",
   "metadata": {},
   "outputs": [
    {
     "name": "stdout",
     "output_type": "stream",
     "text": [
      "🔤 Loading tokenizer from: GenerTeam/GENERator-eukaryote-1.2b-base\n"
     ]
    },
    {
     "name": "stderr",
     "output_type": "stream",
     "text": [
      "loading file added_tokens.json from cache at None\n",
      "loading file special_tokens_map.json from cache at /home/wenduoc/.cache/huggingface/hub/models--GenerTeam--GENERator-eukaryote-1.2b-base/snapshots/3be4abf390afbb7f4d8ccb3370f599338523f1cd/special_tokens_map.json\n",
      "loading file tokenizer_config.json from cache at /home/wenduoc/.cache/huggingface/hub/models--GenerTeam--GENERator-eukaryote-1.2b-base/snapshots/3be4abf390afbb7f4d8ccb3370f599338523f1cd/tokenizer_config.json\n",
      "loading file tokenizer.json from cache at None\n",
      "loading file chat_template.jinja from cache at None\n"
     ]
    },
    {
     "name": "stdout",
     "output_type": "stream",
     "text": [
      "⏱️ Tokenizer loading completed in 0.16 seconds\n"
     ]
    }
   ],
   "source": [
    "tokenizer = setup_tokenizer(\"GenerTeam/GENERator-eukaryote-1.2b-base\", 'right')"
   ]
  },
  {
   "cell_type": "code",
   "execution_count": 21,
   "id": "f668f563-b119-4576-9f7d-3ee93ce9c9b4",
   "metadata": {},
   "outputs": [
    {
     "data": {
      "text/plain": [
       "DNAKmerTokenizer(name_or_path='GenerTeam/GENERator-eukaryote-1.2b-base', vocab_size=4128, model_max_length=1000000000000000019884624838656, is_fast=False, padding_side='right', truncation_side='right', special_tokens={'bos_token': '<s>', 'eos_token': '</s>', 'unk_token': '<oov>', 'pad_token': '<pad>'}, clean_up_tokenization_spaces=True, added_tokens_decoder={\n",
       "\t0: AddedToken(\"<oov>\", rstrip=False, lstrip=False, single_word=False, normalized=False, special=True),\n",
       "\t1: AddedToken(\"<s>\", rstrip=False, lstrip=False, single_word=False, normalized=False, special=True),\n",
       "\t2: AddedToken(\"</s>\", rstrip=False, lstrip=False, single_word=False, normalized=False, special=True),\n",
       "\t3: AddedToken(\"<pad>\", rstrip=False, lstrip=False, single_word=False, normalized=False, special=True),\n",
       "}\n",
       ")"
      ]
     },
     "execution_count": 21,
     "metadata": {},
     "output_type": "execute_result"
    }
   ],
   "source": [
    "tokenizer"
   ]
  },
  {
   "cell_type": "code",
   "execution_count": 22,
   "id": "c3fffca8-f632-4a1f-ba54-87f1b855aff4",
   "metadata": {},
   "outputs": [],
   "source": [
    "train_loader2 = DataLoader(\n",
    "        train_loader.dataset,\n",
    "        batch_size=4,\n",
    "        collate_fn=lambda b: collate_fn(b, tokenizer, max_length=196_608)\n",
    "    )\n"
   ]
  },
  {
   "cell_type": "code",
   "execution_count": 23,
   "id": "f00352c2-c6a2-49c1-a019-918a3caa6aec",
   "metadata": {},
   "outputs": [
    {
     "name": "stderr",
     "output_type": "stream",
     "text": [
      "Asking to truncate to max_length but no maximum length is provided and the model has no predefined maximum length. Default to no truncation.\n"
     ]
    },
    {
     "name": "stdout",
     "output_type": "stream",
     "text": [
      "{'input_ids': tensor([[   1,  289,  291,  ...,  136, 4000,    2],\n",
      "        [   1, 2088,  236,  ..., 2075, 2303,    2],\n",
      "        [   1, 4095, 4068,  ...,  151,   51,    2],\n",
      "        [   1, 2337, 1405,  ..., 3567, 1469,    2]]), 'attention_mask': tensor([[1, 1, 1,  ..., 1, 1, 1],\n",
      "        [1, 1, 1,  ..., 1, 1, 1],\n",
      "        [1, 1, 1,  ..., 1, 1, 1],\n",
      "        [1, 1, 1,  ..., 1, 1, 1]]), 'y': tensor([[[0.1084, 0.1076, 0.0443,  ..., 0.0000, 0.0000, 0.0000],\n",
      "         [0.1016, 0.0933, 0.0095,  ..., 0.0000, 0.0000, 0.0000],\n",
      "         [0.1027, 0.1560, 0.0000,  ..., 0.0000, 0.0000, 0.0000],\n",
      "         ...,\n",
      "         [0.0771, 0.0768, 0.0351,  ..., 0.0000, 0.0193, 0.0000],\n",
      "         [0.0767, 0.0383, 0.0565,  ..., 0.0000, 0.0000, 0.0000],\n",
      "         [0.0832, 0.0605, 0.0216,  ..., 0.0000, 0.0000, 0.0000]],\n",
      "\n",
      "        [[0.0402, 0.0616, 0.0000,  ..., 0.0000, 0.0000, 0.4810],\n",
      "         [0.1345, 0.1501, 0.0000,  ..., 0.0000, 0.9844, 0.0000],\n",
      "         [0.1726, 0.3892, 0.0251,  ..., 0.0000, 0.0000, 0.0000],\n",
      "         ...,\n",
      "         [0.0977, 0.0776, 0.0422,  ..., 0.0000, 0.4829, 0.0000],\n",
      "         [0.0856, 0.0483, 0.0119,  ..., 0.0000, 0.0000, 0.0000],\n",
      "         [0.0609, 0.0828, 0.1149,  ..., 0.0000, 0.0000, 0.0000]],\n",
      "\n",
      "        [[0.0710, 0.0808, 0.0370,  ..., 0.0000, 0.0000, 0.0000],\n",
      "         [0.1190, 0.1143, 0.0283,  ..., 0.0000, 0.0000, 0.0000],\n",
      "         [0.0806, 0.0934, 0.0362,  ..., 0.0000, 0.0000, 0.0000],\n",
      "         ...,\n",
      "         [0.0771, 0.0588, 0.0412,  ..., 0.0000, 0.0000, 0.0000],\n",
      "         [0.0898, 0.0518, 0.0068,  ..., 0.0000, 0.0000, 0.0000],\n",
      "         [0.0941, 0.1157, 0.0443,  ..., 0.0000, 0.0000, 0.0000]],\n",
      "\n",
      "        [[0.0542, 0.1393, 0.0612,  ..., 0.0294, 0.0000, 0.0000],\n",
      "         [0.0096, 0.0208, 0.0135,  ..., 0.0000, 0.0000, 0.0000],\n",
      "         [0.0180, 0.0193, 0.0122,  ..., 0.0000, 0.0000, 0.0000],\n",
      "         ...,\n",
      "         [0.2263, 0.2136, 0.0876,  ..., 0.0000, 0.0000, 0.0000],\n",
      "         [0.3899, 0.4709, 0.4802,  ..., 0.0000, 0.0000, 0.0000],\n",
      "         [0.7471, 0.8164, 1.0078,  ..., 0.0000, 0.0000, 0.0000]]])}\n"
     ]
    }
   ],
   "source": [
    "for batch in train_loader2: \n",
    "        print(batch)\n",
    "        break\n"
   ]
  },
  {
   "cell_type": "code",
   "execution_count": 24,
   "id": "94962735-514b-4fec-980f-2dd350127c6e",
   "metadata": {},
   "outputs": [
    {
     "data": {
      "text/plain": [
       "(torch.Size([4, 32770]), torch.Size([4, 896, 5313]))"
      ]
     },
     "execution_count": 24,
     "metadata": {},
     "output_type": "execute_result"
    }
   ],
   "source": [
    "batch['input_ids'].shape, batch['y'].shape"
   ]
  },
  {
   "cell_type": "code",
   "execution_count": 25,
   "id": "a65dce9b-9173-4f7f-b383-ca356750354b",
   "metadata": {},
   "outputs": [
    {
     "name": "stdout",
     "output_type": "stream",
     "text": [
      "Tue Jul  8 23:09:47 2025       \n",
      "+-----------------------------------------------------------------------------------------+\n",
      "| NVIDIA-SMI 565.57.01              Driver Version: 565.57.01      CUDA Version: 12.7     |\n",
      "|-----------------------------------------+------------------------+----------------------+\n",
      "| GPU  Name                 Persistence-M | Bus-Id          Disp.A | Volatile Uncorr. ECC |\n",
      "| Fan  Temp   Perf          Pwr:Usage/Cap |           Memory-Usage | GPU-Util  Compute M. |\n",
      "|                                         |                        |               MIG M. |\n",
      "|=========================================+========================+======================|\n",
      "|   0  NVIDIA A100 80GB PCIe          On  |   00000000:52:00.0 Off |                    0 |\n",
      "| N/A   30C    P0             60W /  270W |       4MiB /  81920MiB |      0%      Default |\n",
      "|                                         |                        |             Disabled |\n",
      "+-----------------------------------------+------------------------+----------------------+\n",
      "                                                                                         \n",
      "+-----------------------------------------------------------------------------------------+\n",
      "| Processes:                                                                              |\n",
      "|  GPU   GI   CI        PID   Type   Process name                              GPU Memory |\n",
      "|        ID   ID                                                               Usage      |\n",
      "|=========================================================================================|\n",
      "|  No running processes found                                                             |\n",
      "+-----------------------------------------------------------------------------------------+\n"
     ]
    }
   ],
   "source": [
    "!nvidia-smi"
   ]
  },
  {
   "cell_type": "code",
   "execution_count": 26,
   "id": "20d016d1-704d-45e7-a660-9891b22d2f05",
   "metadata": {},
   "outputs": [],
   "source": [
    "# import math\n",
    "# import torch\n",
    "# import torch.nn as nn\n",
    "# import torch.nn.functional as F\n",
    "# from transformers import AutoModel\n",
    "\n",
    "# class RegulatorySignalPredictor(nn.Module):\n",
    "#     def __init__(\n",
    "#         self,\n",
    "#         base_model_name: str,\n",
    "#         max_subsequence_length: int = 4096,\n",
    "#         num_bins: int = 896,\n",
    "#         num_targets: int = 5313,\n",
    "#         gradient_checkpointing: bool = True,\n",
    "#     ):\n",
    "#         super().__init__()\n",
    "#         # 1) load your Llama‐style decoder\n",
    "#         self.base_model = AutoModel.from_pretrained(\n",
    "#             base_model_name, trust_remote_code=True\n",
    "#         )\n",
    "#         if gradient_checkpointing:\n",
    "#             self.base_model.gradient_checkpointing_enable()\n",
    "\n",
    "#         self.chunk_size = max_subsequence_length\n",
    "#         hidden_size = self.base_model.config.hidden_size\n",
    "\n",
    "#         # 2) adaptive pool along the token dimension → exactly `num_bins`\n",
    "#         self.pool = nn.AdaptiveAvgPool1d(num_bins)\n",
    "#         # 3) final head: H → num_targets\n",
    "#         self.head = nn.Linear(hidden_size, num_targets)\n",
    "\n",
    "#     def forward(self,\n",
    "#         input_ids: torch.Tensor,          # [B, 32770]\n",
    "#         attention_mask: torch.Tensor = None\n",
    "#     ):\n",
    "#         B, L = input_ids.shape\n",
    "#         if attention_mask is None:\n",
    "#             attention_mask = torch.ones_like(input_ids)\n",
    "\n",
    "#         # --- chunk & encode ---\n",
    "#         hidden_chunks = []\n",
    "#         num_chunks = math.ceil(L / self.chunk_size)\n",
    "#         for i in range(num_chunks):\n",
    "#             start = i * self.chunk_size\n",
    "#             end   = min((i + 1) * self.chunk_size, L)\n",
    "\n",
    "#             sub_ids  = input_ids[:, start:end]\n",
    "#             sub_mask = attention_mask[:, start:end]\n",
    "\n",
    "#             # pad last chunk up to chunk_size so model accepts it\n",
    "#             if end - start < self.chunk_size:\n",
    "#                 pad_len = self.chunk_size - (end - start)\n",
    "#                 sub_ids  = F.pad(sub_ids,  (0, pad_len), value=0)\n",
    "#                 sub_mask = F.pad(sub_mask, (0, pad_len), value=0)\n",
    "\n",
    "#             out = self.base_model(\n",
    "#                 input_ids=sub_ids,\n",
    "#                 attention_mask=sub_mask\n",
    "#             )\n",
    "#             hs = out.last_hidden_state  # → [B, chunk_size, H]\n",
    "\n",
    "#             # drop the padded tokens\n",
    "#             real_len = end - start\n",
    "#             hidden_chunks.append(hs[:, :real_len, :])  # [B, real_len, H]\n",
    "\n",
    "#         # --- reassemble full sequence hidden states ---\n",
    "#         x = torch.cat(hidden_chunks, dim=1)    # [B, L, H]\n",
    "\n",
    "#         # --- pool down to exactly `num_bins` positions ---\n",
    "#         x = x.transpose(1, 2)                 # [B, H, L]\n",
    "#         x = self.pool(x)                      # [B, H, num_bins]\n",
    "#         x = x.transpose(1, 2)                 # [B, num_bins, H]\n",
    "\n",
    "#         # --- project each bin to your 5,313 signals ---\n",
    "#         preds = self.head(x)                  # [B, 896, 5313]\n",
    "\n",
    "#         return {\"logits\": preds}\n"
   ]
  },
  {
   "cell_type": "code",
   "execution_count": 27,
   "id": "50813e18-5ad4-47c4-ab12-2f9d3c90d1c6",
   "metadata": {},
   "outputs": [],
   "source": [
    "# import torch\n",
    "# import torch.nn as nn\n",
    "# from transformers import AutoModel\n",
    "\n",
    "# class RegulatorySignalPredictor(nn.Module):\n",
    "#     def __init__(\n",
    "#         self,\n",
    "#         base_model_name: str,\n",
    "#         *,\n",
    "#         max_subsequence_length: int,\n",
    "#         num_subsequences: int,\n",
    "#         output_bins: int,\n",
    "#         output_tracks: int,\n",
    "#         gradient_checkpointing: bool = True\n",
    "#     ):\n",
    "#         super().__init__()\n",
    "#         self.base_model = AutoModel.from_pretrained(base_model_name, trust_remote_code=True)\n",
    "#         if gradient_checkpointing:\n",
    "#             self.base_model.gradient_checkpointing_enable()\n",
    "        \n",
    "#         self.max_subsequence_length = max_subsequence_length\n",
    "#         self.num_subsequences      = num_subsequences\n",
    "#         self.output_bins           = output_bins\n",
    "#         self.output_tracks         = output_tracks\n",
    "        \n",
    "#         hidden_size = self.base_model.config.hidden_size\n",
    "#         self.pool = nn.AdaptiveAvgPool1d(self.output_bins)    \n",
    "#         self.head = nn.Linear(hidden_size, self.output_tracks)  \n",
    "\n",
    "\n",
    "#     def forward(self, input_ids: torch.LongTensor, attention_mask: torch.LongTensor):\n",
    "#         # 1) collect all sub‐sequence embeddings\n",
    "#         seq_chunks = []\n",
    "#         for i in range(self.num_subsequences):\n",
    "#             start = i * self.max_subsequence_length\n",
    "#             end   = (i + 1) * self.max_subsequence_length\n",
    "            \n",
    "#             sub_ids  = input_ids[:, start:end]\n",
    "#             sub_mask = attention_mask[:, start:end]\n",
    "            \n",
    "#             out = self.base_model(input_ids=sub_ids, attention_mask=sub_mask)\n",
    "#             # append the **full** last_hidden_state, not just CLS\n",
    "#             seq_chunks.append(out.last_hidden_state)  # [B, sub_L, H]\n",
    "        \n",
    "#         # 2) stitch back into one long sequence → [B, total_L, H]\n",
    "#         seq_emb = torch.cat(seq_chunks, dim=1)\n",
    "        \n",
    "#         # 3) pool & per‐bin head\n",
    "#         x = seq_emb.transpose(1, 2)    # → [B, H, total_L]\n",
    "#         x = self.pool(x)               # → [B, H, output_bins]\n",
    "#         x = x.transpose(1, 2)          # → [B, output_bins, H]\n",
    "#         preds = self.head(x)           # → [B, output_bins, output_tracks]\n",
    "        \n",
    "#         return {\"logits\": preds}\n"
   ]
  },
  {
   "cell_type": "code",
   "execution_count": 28,
   "id": "6a03f561-54bb-42cc-94a7-d8cea5721a29",
   "metadata": {},
   "outputs": [],
   "source": [
    "import torch\n",
    "import torch.nn as nn\n",
    "from transformers import AutoModel\n",
    "\n",
    "class RegulatorySignalPredictor(nn.Module):\n",
    "    def __init__(\n",
    "        self,\n",
    "        base_model_name: str,\n",
    "        *,\n",
    "        max_subsequence_length: int,\n",
    "        num_subsequences: int,\n",
    "        output_bins: int,\n",
    "        output_tracks: int,\n",
    "        gradient_checkpointing: bool = True\n",
    "    ):\n",
    "        super().__init__()\n",
    "        # 1. backbone\n",
    "        self.base_model = AutoModel.from_pretrained(base_model_name, trust_remote_code=True)\n",
    "        if gradient_checkpointing:\n",
    "            self.base_model.gradient_checkpointing_enable()\n",
    "        \n",
    "        # 2. bookkeeping\n",
    "        self.max_subsequence_length = max_subsequence_length\n",
    "        self.num_subsequences    = num_subsequences\n",
    "        self.output_bins         = output_bins\n",
    "        self.output_tracks       = output_tracks\n",
    "        \n",
    "        # 3. pooling + small head (instead of one giant regression matrix)\n",
    "        hidden_size = self.base_model.config.hidden_size\n",
    "   \n",
    "        # self.head = nn.Linear(hidden_size, self.output_tracks) \n",
    "        self.head = nn.Sequential(\n",
    "            nn.Linear(hidden_size * num_subsequences, 256),\n",
    "            nn.ReLU(inplace=True),\n",
    "            nn.Linear(256, output_bins * output_tracks),\n",
    "        )\n",
    "\n",
    "\n",
    "    def forward(self, input_ids: torch.LongTensor, attention_mask: torch.LongTensor):\n",
    "        \"\"\"\n",
    "        input_ids:       [B, L]\n",
    "        attention_mask:  [B, L]\n",
    "        returns preds:   [B, output_bins, output_tracks]\n",
    "        \"\"\"\n",
    "        # 1) run each chunk through the backbone and collect all token embeddings\n",
    "        hidden_states = []\n",
    "        for i in range(self.num_subsequences):\n",
    "            start_idx = i * self.max_subsequence_length\n",
    "            end_idx = (i + 1) * self.max_subsequence_length\n",
    "            sub_input_ids = input_ids[:, start_idx:end_idx]\n",
    "            sub_attention_mask = attention_mask[:, start_idx:end_idx]\n",
    "\n",
    "            outputs = self.base_model(input_ids=sub_input_ids, attention_mask=sub_attention_mask)\n",
    "            last_hidden_state = outputs.last_hidden_state\n",
    "            cls_embedding = last_hidden_state[:, -1, :]\n",
    "            hidden_states.append(cls_embedding)\n",
    "        \n",
    "        # 2) stitch back into one long sequence → [B, total_L, H]\n",
    "        combined_hidden_states = torch.cat(hidden_states, dim=-1) # [4, 16384]\n",
    "        \n",
    "        \n",
    "        preds = self.head(combined_hidden_states )\n",
    "        \n",
    "        return {\"logits\": preds}"
   ]
  },
  {
   "cell_type": "code",
   "execution_count": 29,
   "id": "d2ff6d1d-a494-42a5-9955-f1a8bd510c64",
   "metadata": {},
   "outputs": [
    {
     "name": "stderr",
     "output_type": "stream",
     "text": [
      "loading configuration file config.json from cache at /home/wenduoc/.cache/huggingface/hub/models--GenerTeam--GENERator-eukaryote-1.2b-base/snapshots/3be4abf390afbb7f4d8ccb3370f599338523f1cd/config.json\n",
      "Model config LlamaConfig {\n",
      "  \"architectures\": [\n",
      "    \"LlamaForCausalLM\"\n",
      "  ],\n",
      "  \"attention_bias\": false,\n",
      "  \"attention_dropout\": 0.0,\n",
      "  \"bos_token_id\": 1,\n",
      "  \"eos_token_id\": 2,\n",
      "  \"head_dim\": 64,\n",
      "  \"hidden_act\": \"silu\",\n",
      "  \"hidden_size\": 2048,\n",
      "  \"initializer_range\": 0.02,\n",
      "  \"intermediate_size\": 5632,\n",
      "  \"max_position_embeddings\": 16384,\n",
      "  \"mlp_bias\": false,\n",
      "  \"model_type\": \"llama\",\n",
      "  \"num_attention_heads\": 32,\n",
      "  \"num_hidden_layers\": 26,\n",
      "  \"num_key_value_heads\": 4,\n",
      "  \"pretraining_tp\": 1,\n",
      "  \"rms_norm_eps\": 1e-05,\n",
      "  \"rope_scaling\": null,\n",
      "  \"rope_theta\": 500000.0,\n",
      "  \"tie_word_embeddings\": false,\n",
      "  \"torch_dtype\": \"float32\",\n",
      "  \"transformers_version\": \"4.51.3\",\n",
      "  \"use_cache\": true,\n",
      "  \"vocab_size\": 4128\n",
      "}\n",
      "\n",
      "loading weights file model.safetensors from cache at /home/wenduoc/.cache/huggingface/hub/models--GenerTeam--GENERator-eukaryote-1.2b-base/snapshots/3be4abf390afbb7f4d8ccb3370f599338523f1cd/model.safetensors\n",
      "Some weights of the model checkpoint at GenerTeam/GENERator-eukaryote-1.2b-base were not used when initializing LlamaModel: ['lm_head.weight']\n",
      "- This IS expected if you are initializing LlamaModel from the checkpoint of a model trained on another task or with another architecture (e.g. initializing a BertForSequenceClassification model from a BertForPreTraining model).\n",
      "- This IS NOT expected if you are initializing LlamaModel from the checkpoint of a model that you expect to be exactly identical (initializing a BertForSequenceClassification model from a BertForSequenceClassification model).\n",
      "All the weights of LlamaModel were initialized from the model checkpoint at GenerTeam/GENERator-eukaryote-1.2b-base.\n",
      "If your task is similar to the task the model of the checkpoint was trained on, you can already use LlamaModel for predictions without further training.\n"
     ]
    }
   ],
   "source": [
    "model = RegulatorySignalPredictor(\n",
    "    base_model_name=\"GenerTeam/GENERator-eukaryote-1.2b-base\",\n",
    "    max_subsequence_length=4096,   # e.g. 32770/8 ≈ 4096\n",
    "    num_subsequences=8,\n",
    "    output_bins=896,\n",
    "    output_tracks=5313\n",
    ")\n"
   ]
  },
  {
   "cell_type": "code",
   "execution_count": 30,
   "id": "ed7ea44c-1d7e-4c73-a5c1-8016b0b2bf47",
   "metadata": {},
   "outputs": [],
   "source": [
    "model=model.to(torch.bfloat16).to(device)"
   ]
  },
  {
   "cell_type": "code",
   "execution_count": 31,
   "id": "4470d1f2-0b4f-43e3-b61c-58c4336f3ef5",
   "metadata": {},
   "outputs": [
    {
     "data": {
      "text/plain": [
       "{'logits': tensor([[ 1.4844, -2.4219,  3.1562,  ..., -0.5430, -2.2344,  0.3613],\n",
       "         [ 2.3281, -2.0312,  3.5469,  ..., -1.2656, -1.7891,  0.0505],\n",
       "         [ 2.0469, -1.8828,  3.5469,  ..., -0.7109, -1.9688,  0.1641],\n",
       "         [ 1.2500, -2.3750,  2.4531,  ..., -1.1797, -1.4375,  0.2314]],\n",
       "        device='cuda:0', dtype=torch.bfloat16)}"
      ]
     },
     "execution_count": 31,
     "metadata": {},
     "output_type": "execute_result"
    }
   ],
   "source": [
    "with torch.no_grad():\n",
    "    preds = model(batch['input_ids'].to(device), batch['attention_mask'].to(device))\n",
    "preds"
   ]
  },
  {
   "cell_type": "code",
   "execution_count": 32,
   "id": "e595af27-0feb-4704-8eb4-df080e6937a0",
   "metadata": {},
   "outputs": [
    {
     "data": {
      "text/plain": [
       "RegulatorySignalPredictor(\n",
       "  (base_model): LlamaModel(\n",
       "    (embed_tokens): Embedding(4128, 2048)\n",
       "    (layers): ModuleList(\n",
       "      (0-25): 26 x LlamaDecoderLayer(\n",
       "        (self_attn): LlamaAttention(\n",
       "          (q_proj): Linear(in_features=2048, out_features=2048, bias=False)\n",
       "          (k_proj): Linear(in_features=2048, out_features=256, bias=False)\n",
       "          (v_proj): Linear(in_features=2048, out_features=256, bias=False)\n",
       "          (o_proj): Linear(in_features=2048, out_features=2048, bias=False)\n",
       "        )\n",
       "        (mlp): LlamaMLP(\n",
       "          (gate_proj): Linear(in_features=2048, out_features=5632, bias=False)\n",
       "          (up_proj): Linear(in_features=2048, out_features=5632, bias=False)\n",
       "          (down_proj): Linear(in_features=5632, out_features=2048, bias=False)\n",
       "          (act_fn): SiLU()\n",
       "        )\n",
       "        (input_layernorm): LlamaRMSNorm((2048,), eps=1e-05)\n",
       "        (post_attention_layernorm): LlamaRMSNorm((2048,), eps=1e-05)\n",
       "      )\n",
       "    )\n",
       "    (norm): LlamaRMSNorm((2048,), eps=1e-05)\n",
       "    (rotary_emb): LlamaRotaryEmbedding()\n",
       "  )\n",
       "  (head): Sequential(\n",
       "    (0): Linear(in_features=16384, out_features=256, bias=True)\n",
       "    (1): ReLU(inplace=True)\n",
       "    (2): Linear(in_features=256, out_features=4760448, bias=True)\n",
       "  )\n",
       ")"
      ]
     },
     "execution_count": 32,
     "metadata": {},
     "output_type": "execute_result"
    }
   ],
   "source": [
    "model"
   ]
  },
  {
   "cell_type": "code",
   "execution_count": 33,
   "id": "8efa25fc-9302-4038-85c6-da4d39aa8a47",
   "metadata": {},
   "outputs": [],
   "source": [
    "def count_parameters(model):\n",
    "    total_params = sum(p.numel() for p in model.parameters())\n",
    "    trainable_params = sum(p.numel() for p in model.parameters() if p.requires_grad)\n",
    "\n",
    "    print(f\"Total parameters:     {total_params:,}\")\n",
    "    print(f\"Trainable parameters: {trainable_params:,}\")\n",
    "    print(f\"Trainable %:          {100 * trainable_params / total_params:.2f}%\")\n"
   ]
  },
  {
   "cell_type": "code",
   "execution_count": 34,
   "id": "b594454e-e712-47c8-8363-2add57b86508",
   "metadata": {},
   "outputs": [
    {
     "name": "stdout",
     "output_type": "stream",
     "text": [
      "Total parameters:     2,381,237,376\n",
      "Trainable parameters: 2,381,237,376\n",
      "Trainable %:          100.00%\n"
     ]
    }
   ],
   "source": [
    "count_parameters(model)"
   ]
  },
  {
   "cell_type": "code",
   "execution_count": 35,
   "id": "f7b69134-d9c7-4485-8605-34c7b1aecb9d",
   "metadata": {},
   "outputs": [],
   "source": [
    "for param in model.base_model.parameters():\n",
    "    param.requires_grad = False\n",
    "\n",
    "# Unfreeze the last 8 LLaMA decoder layers\n",
    "for layer in model.base_model.layers[-6:]:\n",
    "    for param in layer.parameters():\n",
    "        param.requires_grad = True\n"
   ]
  },
  {
   "cell_type": "code",
   "execution_count": 36,
   "id": "b80206f3-332e-48bb-8588-9f4384389e4f",
   "metadata": {},
   "outputs": [
    {
     "name": "stdout",
     "output_type": "stream",
     "text": [
      "Total parameters:     2,381,237,376\n",
      "Trainable parameters: 1,491,895,424\n",
      "Trainable %:          62.65%\n"
     ]
    }
   ],
   "source": [
    "count_parameters(model)"
   ]
  },
  {
   "cell_type": "markdown",
   "id": "14943caa-13df-44d3-9363-9e3ccb85a9df",
   "metadata": {},
   "source": [
    "# Train"
   ]
  },
  {
   "cell_type": "code",
   "execution_count": 37,
   "id": "a8705b78-df73-4dba-9753-3845c654f12f",
   "metadata": {},
   "outputs": [],
   "source": [
    "\n",
    "# def evaluate_model_custom(\n",
    "#     model: PreTrainedModel,\n",
    "#     data_loader: DataLoader,\n",
    "#     device: str,\n",
    "#     criterion: nn.Module\n",
    "# ) -> Dict[str, float]:\n",
    "#     \"\"\"\n",
    "#     Evaluate regression model on a dataset.\n",
    "    \n",
    "#     Args:\n",
    "#         model: Model to evaluate\n",
    "#         data_loader: DataLoader for evaluation\n",
    "#         device: Device to run evaluation on\n",
    "#         criterion: Loss function (MSE)\n",
    "    \n",
    "#     Returns:\n",
    "#         Dictionary of evaluation metrics (MSE, MAE, R², PCC)\n",
    "#     \"\"\"\n",
    "#     model.eval()\n",
    "#     total_loss = 0.0\n",
    "#     all_predictions = []\n",
    "#     all_labels = []\n",
    "#     num_batches = 0\n",
    "    \n",
    "#     with torch.no_grad():\n",
    "#         for batch in tqdm(data_loader, desc=\"Evaluating\"):\n",
    "#             input_ids = batch['input_ids'].to(device)\n",
    "#             attention_mask = batch['attention_mask'].to(device)\n",
    "#             labels = batch['y'].to(device)\n",
    "\n",
    "#             # input_ids = input_ids.to(model.dtype)\n",
    "#             # attention_mask = attention_mask.to(model.dtype)\n",
    "            \n",
    "#             outputs = model(input_ids=input_ids,attention_mask=attention_mask)\n",
    "#             logits = outputs['logits']\n",
    "            \n",
    "#             # Process labels for regression\n",
    "#             if labels.dim() > 1:\n",
    "#                 labels = labels.view(-1).float()\n",
    "            \n",
    "#             # Calculate MSE loss\n",
    "#             loss = criterion(logits.view(-1), labels)\n",
    "            \n",
    "#             # Get predictions (no activation function needed for regression)\n",
    "#             predictions = logits.float().cpu().numpy()\n",
    "     \n",
    "#             total_loss += loss.item()\n",
    "            \n",
    "#             # Store for metrics\n",
    "#             all_predictions.extend(predictions.flatten())\n",
    "#             all_labels.extend(labels.cpu().numpy().flatten())\n",
    "                \n",
    "#             num_batches += 1\n",
    "    \n",
    "#     # Compute average loss\n",
    "#     avg_loss = total_loss / num_batches\n",
    "    \n",
    "#     # Convert lists to numpy arrays\n",
    "#     all_predictions = np.array(all_predictions)\n",
    "#     all_labels = np.array(all_labels)\n",
    "    \n",
    "#     # Mean Squared Error\n",
    "#     mse = mean_squared_error(all_labels, all_predictions)\n",
    "    \n",
    "#     # Mean Absolute Error\n",
    "#     mae = mean_absolute_error(all_labels, all_predictions)\n",
    "    \n",
    "#     # R-squared score\n",
    "#     r2 = r2_score(all_labels, all_predictions)\n",
    "    \n",
    "#     # Pearson Correlation Coefficient\n",
    "#     pcc, p_value = pearsonr(all_labels, all_predictions)\n",
    "    \n",
    "#     # Root Mean Squared Error\n",
    "#     rmse = np.sqrt(mse)\n",
    "    \n",
    "#     return {\n",
    "#         'loss': avg_loss,\n",
    "#         'mse': mse,\n",
    "#         'mae': mae,\n",
    "#         'rmse': rmse,\n",
    "#         'r2': r2,\n",
    "#         'pcc': pcc,\n",
    "#         'pcc_p_value': p_value,\n",
    "#         'num_samples': len(all_predictions)\n",
    "#     }"
   ]
  },
  {
   "cell_type": "code",
   "execution_count": 40,
   "id": "4f934f28-23b2-4b41-9bd0-4338046d7b65",
   "metadata": {},
   "outputs": [],
   "source": [
    "from tqdm import tqdm\n",
    "import torch\n",
    "import torch.nn as nn\n",
    "import numpy as np\n",
    "from scipy.stats import pearsonr\n",
    "from sklearn.metrics import mean_squared_error, mean_absolute_error, r2_score\n",
    "import time\n",
    "import os\n",
    "from typing import Dict, Any, Optional\n",
    "from torch.utils.data import DataLoader\n",
    "from transformers import PreTrainedModel, PreTrainedTokenizer\n",
    "\n",
    "\n",
    "\n",
    "import math\n",
    "import torch\n",
    "from tqdm import tqdm\n",
    "from typing import Dict\n",
    "from scipy.stats import t as t_dist\n",
    "\n",
    "def evaluate_model_custom(\n",
    "    model: torch.nn.Module,\n",
    "    data_loader: torch.utils.data.DataLoader,\n",
    "    device: str,\n",
    "    criterion: torch.nn.Module\n",
    ") -> Dict[str, float]:\n",
    "    \"\"\"\n",
    "    Streaming evaluation: regression metrics (MSE, MAE, RMSE, R², PCC)\n",
    "    entirely in PyTorch to avoid NumPy import issues.\n",
    "    \"\"\"\n",
    "    model.eval()\n",
    "\n",
    "    # Streaming accumulators (all Python floats)\n",
    "    n = 0\n",
    "    sum_loss     = 0.0\n",
    "    sum_sq_err   = 0.0\n",
    "    sum_abs_err  = 0.0\n",
    "    sum_pred     = 0.0\n",
    "    sum_lbl      = 0.0\n",
    "    sum_pred_sq  = 0.0\n",
    "    sum_lbl_sq   = 0.0\n",
    "    sum_pred_lbl = 0.0\n",
    "\n",
    "    with torch.no_grad():\n",
    "        for batch in tqdm(data_loader, desc=\"Evaluating\"):\n",
    "            input_ids      = batch['input_ids'].to(device)\n",
    "            attention_mask = batch['attention_mask'].to(device)\n",
    "            labels         = batch['y'].view(-1).float().to(device)\n",
    "\n",
    "            outputs  = model(input_ids=input_ids, attention_mask=attention_mask)\n",
    "            preds_t  = outputs['logits'].view(-1)  # might be bfloat16\n",
    "            preds_f  = preds_t.float()             # cast to float32\n",
    "            b        = preds_f.size(0)\n",
    "            n       += b\n",
    "\n",
    "            # loss\n",
    "            loss_b = criterion(preds_t, labels).item()\n",
    "            sum_loss += loss_b * b\n",
    "\n",
    "            # streaming stats in torch\n",
    "            diff      = preds_f - labels\n",
    "            sum_sq_err   += diff.pow(2).sum().item()\n",
    "            sum_abs_err  += diff.abs().sum().item()\n",
    "            sum_pred     += preds_f.sum().item()\n",
    "            sum_lbl      += labels.sum().item()\n",
    "            sum_pred_sq  += preds_f.pow(2).sum().item()\n",
    "            sum_lbl_sq   += labels.pow(2).sum().item()\n",
    "            sum_pred_lbl += (preds_f * labels).sum().item()\n",
    "\n",
    "    # compute final metrics\n",
    "    mse  = sum_sq_err / n\n",
    "    mae  = sum_abs_err / n\n",
    "    rmse = math.sqrt(mse)\n",
    "\n",
    "    ss_tot = sum_lbl_sq - (sum_lbl**2) / n\n",
    "    r2     = 1 - (sum_sq_err / ss_tot) if ss_tot > 0 else float('nan')\n",
    "\n",
    "    num = n * sum_pred_lbl - sum_pred * sum_lbl\n",
    "    den = math.sqrt((n * sum_pred_sq - sum_pred**2) * (n * sum_lbl_sq - sum_lbl**2))\n",
    "    pcc = num / den if den > 0 else 0.0\n",
    "\n",
    "    if n > 2:\n",
    "        t_stat = pcc * math.sqrt((n - 2) / (1 - pcc**2))\n",
    "        p_val  = 2 * (1 - t_dist.cdf(abs(t_stat), df=n-2))\n",
    "    else:\n",
    "        p_val = float('nan')\n",
    "\n",
    "    return {\n",
    "        'loss':        sum_loss / n,\n",
    "        'mse':         mse,\n",
    "        'mae':         mae,\n",
    "        'rmse':        rmse,\n",
    "        'r2':          r2,\n",
    "        'pcc':         pcc,\n",
    "        'pcc_p_value': p_val,\n",
    "        'num_samples': n\n",
    "    }\n",
    "\n",
    "\n",
    "def train_model_custom(\n",
    "    model: PreTrainedModel,\n",
    "    tokenizer: PreTrainedTokenizer,\n",
    "    train_loader: DataLoader,\n",
    "    val_loader: DataLoader,\n",
    "    test_loader: Optional[DataLoader] = None,\n",
    "    num_epochs: int = 10,\n",
    "    learning_rate: float = 1e-5,\n",
    "    weight_decay: float = 0.01,\n",
    "    warmup_steps: int = 0,\n",
    "    max_grad_norm: float = 1.0,\n",
    "    save_dir: str = None,\n",
    "    save_steps: int = 10,\n",
    "    early_stopping_patience: int = 5,\n",
    "    device: str = \"cuda\",\n",
    "    use_wandb: bool = False,\n",
    "    gradient_accumulation_steps: int = 1,\n",
    "\n",
    ") -> Dict[str, Any]:\n",
    "    \"\"\"\n",
    "    Custom training function for DNA sequence models with gene expression prediction (regression).\n",
    "    Modified to evaluate after each epoch and save model based on lowest validation loss (MSE).\n",
    "    \"\"\"\n",
    "    model = model.to(device)\n",
    "    model.train()\n",
    "\n",
    "    if save_dir is None:\n",
    "        save_dir = f\"/work/magroup/wenduoc/DNALongBench/experiments/GENERator/results/RSAP/human/v2\"\n",
    "    os.makedirs(save_dir, exist_ok=True)\n",
    "    \n",
    "    train_loader_custom = DataLoader(\n",
    "        train_loader.dataset,\n",
    "        batch_size=4,\n",
    "        collate_fn=lambda b: collate_fn(b, tokenizer)\n",
    "    )\n",
    "\n",
    "    val_loader_custom = DataLoader(\n",
    "        val_loader.dataset,\n",
    "        batch_size=4,\n",
    "        collate_fn=lambda b: collate_fn(b, tokenizer)\n",
    "    )\n",
    "\n",
    "    if test_loader is not None:\n",
    "        test_loader_custom = DataLoader(\n",
    "            test_loader.dataset,\n",
    "            batch_size=4,\n",
    "            collate_fn=lambda b: collate_fn(b, tokenizer)\n",
    "        )\n",
    "\n",
    "    optimizer = torch.optim.AdamW(\n",
    "        model.parameters(),\n",
    "        lr=learning_rate,\n",
    "        weight_decay=weight_decay\n",
    "    )\n",
    "\n",
    "    # scheduler = torch.optim.lr_scheduler.LinearLR(\n",
    "    #     optimizer,\n",
    "    #     start_factor=0.1,\n",
    "    #     end_factor=1.0,\n",
    "    #     total_iters=warmup_steps\n",
    "    # )\n",
    "    scheduler = torch.optim.lr_scheduler.ReduceLROnPlateau(\n",
    "        optimizer,\n",
    "        patience=1,\n",
    "        factor=0.5,\n",
    "        mode='min'\n",
    "    )\n",
    "\n",
    "    # Use MSE loss for regression\n",
    "    criterion = nn.MSELoss()\n",
    "\n",
    "    best_val_loss = float('inf')\n",
    "    best_val_pcc = -1.0  # Track best PCC as well\n",
    "   \n",
    "    global_step = 0\n",
    "    training_history = {\n",
    "        'train_loss': [],\n",
    "        'val_loss': [],\n",
    "        'val_pcc': [],\n",
    "        'val_r2': [],\n",
    "        'learning_rates': []\n",
    "    }\n",
    "\n",
    "    print(f\"🚀 Starting regression training for {num_epochs} epochs...\")\n",
    "    print(f\"🔧 Gradient accumulation steps: {gradient_accumulation_steps}\")\n",
    "    print(f\"📊 Evaluation will occur after each epoch\")\n",
    "    print(f\"💾 Model will be saved based on lowest validation MSE loss\")\n",
    "\n",
    "    start_time = time.time()\n",
    "\n",
    "    best_train_loss = float('inf')\n",
    "    for epoch in range(num_epochs):\n",
    "        print(f\"\\n{'='*50}\")\n",
    "        print(f\"Epoch {epoch + 1}/{num_epochs}\")\n",
    "        print(f\"{'='*50}\")\n",
    "\n",
    "        model.train()\n",
    "        epoch_train_loss = 0.0\n",
    "        train_steps = 0\n",
    "\n",
    "        progress_bar = tqdm(train_loader_custom, desc=f\"Epoch {epoch + 1}\")\n",
    "\n",
    "        for step, batch in enumerate(progress_bar):\n",
    "            input_ids = batch['input_ids'].to(device)\n",
    "            attention_mask = batch['attention_mask'].to(device)\n",
    "            labels = batch['y'].to(device)\n",
    "\n",
    "            # input_ids = input_ids.to(model.dtype)\n",
    "            # attention_mask = attention_mask.to(model.dtype)\n",
    "\n",
    "            with torch.cuda.amp.autocast():\n",
    "                outputs = model(input_ids=input_ids,attention_mask=attention_mask)\n",
    "                logits = outputs['logits']\n",
    "\n",
    "                if labels.dim() > 1:\n",
    "                    labels = labels.view(-1).float()\n",
    "\n",
    "                # MSE loss for regression\n",
    "                loss = criterion(logits.view(-1), labels)\n",
    "                loss = loss / gradient_accumulation_steps\n",
    "\n",
    "                step_train_loss = loss.item() * gradient_accumulation_steps\n",
    "\n",
    "            loss.backward()\n",
    "\n",
    "            if (step + 1) % gradient_accumulation_steps == 0:\n",
    "                torch.nn.utils.clip_grad_norm_(model.parameters(), max_grad_norm)\n",
    "                optimizer.step()\n",
    "                # scheduler.step()\n",
    "                optimizer.zero_grad()\n",
    "                global_step += 1\n",
    "\n",
    "            epoch_train_loss += loss.item() * gradient_accumulation_steps\n",
    "            train_steps += 1\n",
    "\n",
    "            progress_bar.set_postfix({\n",
    "                'mse_loss': f\"{(loss.item() * gradient_accumulation_steps):.4f}\",\n",
    "                'lr': f\"{scheduler.get_last_lr()[0]:.2e}\"\n",
    "            })\n",
    "\n",
    "            # if global_step % save_steps == 0:\n",
    "            if global_step > 0 and global_step % 50 == 0:\n",
    "                checkpoint_path = os.path.join(save_dir, f'checkpoint_step_{global_step}.pt')\n",
    "                torch.save({\n",
    "                    'epoch': epoch,\n",
    "                    'model_state_dict': model.state_dict(),\n",
    "                    'optimizer_state_dict': optimizer.state_dict(),\n",
    "                    'scheduler_state_dict': scheduler.state_dict(),\n",
    "                    'global_step': global_step\n",
    "                }, checkpoint_path)\n",
    "                print(f\"💾 Intermediate checkpoint saved at step {global_step}\")\n",
    "            if step_train_loss < best_train_loss:\n",
    "                best_train_loss = step_train_loss\n",
    "                checkpoint_path = os.path.join(save_dir, f'best_model.pt')\n",
    "                torch.save({\n",
    "                    'epoch': epoch,\n",
    "                    'model_state_dict': model.state_dict(),\n",
    "                    'optimizer_state_dict': optimizer.state_dict(),\n",
    "                    'scheduler_state_dict': scheduler.state_dict(),\n",
    "                    'global_step': global_step\n",
    "                }, checkpoint_path)\n",
    "                print(f\"💾 [step {global_step}] new best TRAIN loss: {best_train_loss:.4f}\")\n",
    "                # else:\n",
    "                #     print(f\"⏭️ [step {global_step}] train loss {step_train_loss:.4f} ≥ best {best_train_loss:.4f}, skipping save\")\n",
    "         \n",
    "\n",
    "        avg_train_loss = epoch_train_loss / train_steps\n",
    "        training_history['train_loss'].append(avg_train_loss)\n",
    "        training_history['learning_rates'].append(scheduler.get_last_lr()[0])\n",
    "\n",
    "        print(f\"\\n🔄 Evaluating after epoch {epoch + 1}...\")\n",
    "        val_metrics = evaluate_model_custom(model, val_loader_custom, device, criterion)\n",
    "        training_history['val_loss'].append(val_metrics['loss'])\n",
    "        training_history['val_pcc'].append(val_metrics['pcc'])\n",
    "        training_history['val_r2'].append(val_metrics['r2'])\n",
    "\n",
    "        print(f\"\\n📈 Epoch {epoch + 1} Summary:\")\n",
    "        print(f\"  Train MSE Loss: {avg_train_loss:.4f}\")\n",
    "        print(f\"  Val MSE Loss: {val_metrics['loss']:.4f}\")\n",
    "        print(f\"  Val PCC: {val_metrics['pcc']:.4f}\")\n",
    "        print(f\"  Val R²: {val_metrics['r2']:.4f}\")\n",
    "        print(f\"  Val RMSE: {val_metrics['rmse']:.4f}\")\n",
    "        print(f\"  Learning Rate: {scheduler.get_last_lr()[0]:.2e}\")\n",
    "\n",
    "        # Save model based on lowest validation loss\n",
    "        if val_metrics['loss'] < best_val_loss:\n",
    "            best_val_loss = val_metrics['loss']\n",
    "            best_val_pcc = val_metrics['pcc']\n",
    "\n",
    "            scheduler.step(val_metrics['loss'])\n",
    "\n",
    "            torch.save({\n",
    "                'epoch': epoch,\n",
    "                'model_state_dict': model.state_dict(),\n",
    "                'optimizer_state_dict': optimizer.state_dict(),\n",
    "                'scheduler_state_dict': scheduler.state_dict(),\n",
    "                'best_val_loss': best_val_loss,\n",
    "                'best_val_pcc': best_val_pcc,\n",
    "                'global_step': global_step\n",
    "            }, os.path.join(save_dir, 'best_model.pt'))\n",
    "\n",
    "            print(f\"💾 New best model saved! Val MSE: {best_val_loss:.4f}, Val PCC: {best_val_pcc:.4f}\")\n",
    "       \n",
    "        epoch_checkpoint_path = os.path.join(save_dir, f'model_epoch_{epoch + 1}.pt')\n",
    "        torch.save({\n",
    "            'epoch': epoch,\n",
    "            'model_state_dict': model.state_dict(),\n",
    "            'optimizer_state_dict': optimizer.state_dict(),\n",
    "            'scheduler_state_dict': scheduler.state_dict(),\n",
    "            'val_loss': val_metrics['loss'],\n",
    "            'val_pcc': val_metrics['pcc'],\n",
    "            'global_step': global_step\n",
    "        }, epoch_checkpoint_path)\n",
    "        print(f\"💾 Epoch {epoch + 1} checkpoint saved\")\n",
    "\n",
    "    \n",
    "        model.train()\n",
    "\n",
    "    total_time = time.time() - start_time\n",
    "    print(f\"\\n✅ Training completed in {total_time/60:.2f} minutes\")\n",
    "    print(f\"🏆 Best validation MSE loss achieved: {best_val_loss:.4f}\")\n",
    "    print(f\"🏆 Best validation PCC achieved: {best_val_pcc:.4f}\")\n",
    "\n",
    "    final_metrics = {\n",
    "        'training_history': training_history, \n",
    "        'best_val_loss': best_val_loss,\n",
    "        'best_val_pcc': best_val_pcc\n",
    "    }\n",
    "    \n",
    "    if test_loader is not None:\n",
    "        print(\"\\n🧪 Evaluating on test set...\")\n",
    "        test_metrics = evaluate_model_custom(model, test_loader_custom, device, criterion)\n",
    "        final_metrics['test_metrics'] = test_metrics\n",
    "\n",
    "        print(\"📊 Final Test Metrics:\")\n",
    "        print(f\"  MSE: {test_metrics['mse']:.4f}\")\n",
    "        print(f\"  RMSE: {test_metrics['rmse']:.4f}\")\n",
    "        print(f\"  MAE: {test_metrics['mae']:.4f}\")\n",
    "        print(f\"  R²: {test_metrics['r2']:.4f}\")\n",
    "        print(f\"  PCC: {test_metrics['pcc']:.4f}\")\n",
    "        print(f\"  PCC p-value: {test_metrics['pcc_p_value']:.6f}\")\n",
    "\n",
    "    return final_metrics"
   ]
  },
  {
   "cell_type": "code",
   "execution_count": null,
   "id": "c229ff9f-4013-4c40-9864-a498946cade8",
   "metadata": {},
   "outputs": [
    {
     "name": "stdout",
     "output_type": "stream",
     "text": [
      "🚀 Starting regression training for 3 epochs...\n",
      "🔧 Gradient accumulation steps: 16\n",
      "📊 Evaluation will occur after each epoch\n",
      "💾 Model will be saved based on lowest validation MSE loss\n",
      "\n",
      "==================================================\n",
      "Epoch 1/3\n",
      "==================================================\n"
     ]
    },
    {
     "name": "stderr",
     "output_type": "stream",
     "text": [
      "Epoch 1: 0it [00:00, ?it/s]/tmp/ipykernel_2719257/1919700480.py:210: FutureWarning: `torch.cuda.amp.autocast(args...)` is deprecated. Please use `torch.amp.autocast('cuda', args...)` instead.\n",
      "  with torch.cuda.amp.autocast():\n",
      "Epoch 1: 1it [00:25, 25.36s/it, mse_loss=14.4632, lr=1.00e-05]"
     ]
    },
    {
     "name": "stdout",
     "output_type": "stream",
     "text": [
      "💾 [step 0] new best TRAIN loss: 14.4632\n"
     ]
    },
    {
     "name": "stderr",
     "output_type": "stream",
     "text": [
      "Epoch 1: 2it [00:50, 24.97s/it, mse_loss=10.3192, lr=1.00e-05]"
     ]
    },
    {
     "name": "stdout",
     "output_type": "stream",
     "text": [
      "💾 [step 0] new best TRAIN loss: 10.3192\n"
     ]
    },
    {
     "name": "stderr",
     "output_type": "stream",
     "text": [
      "Epoch 1: 10it [03:01, 18.69s/it, mse_loss=9.8488, lr=1.00e-05]"
     ]
    },
    {
     "name": "stdout",
     "output_type": "stream",
     "text": [
      "💾 [step 0] new best TRAIN loss: 9.8488\n"
     ]
    },
    {
     "name": "stderr",
     "output_type": "stream",
     "text": [
      "Epoch 1: 19it [05:55, 26.21s/it, mse_loss=8.5407, lr=1.00e-05] "
     ]
    },
    {
     "name": "stdout",
     "output_type": "stream",
     "text": [
      "💾 [step 1] new best TRAIN loss: 8.5407\n"
     ]
    },
    {
     "name": "stderr",
     "output_type": "stream",
     "text": [
      "Epoch 1: 34it [10:16, 25.07s/it, mse_loss=6.9989, lr=1.00e-05] "
     ]
    },
    {
     "name": "stdout",
     "output_type": "stream",
     "text": [
      "💾 [step 2] new best TRAIN loss: 6.9989\n"
     ]
    },
    {
     "name": "stderr",
     "output_type": "stream",
     "text": [
      "Epoch 1: 65it [18:45, 25.41s/it, mse_loss=6.7361, lr=1.00e-05] "
     ]
    },
    {
     "name": "stdout",
     "output_type": "stream",
     "text": [
      "💾 [step 4] new best TRAIN loss: 6.7361\n"
     ]
    },
    {
     "name": "stderr",
     "output_type": "stream",
     "text": [
      "Epoch 1: 72it [21:03, 25.73s/it, mse_loss=6.6234, lr=1.00e-05] "
     ]
    },
    {
     "name": "stdout",
     "output_type": "stream",
     "text": [
      "💾 [step 4] new best TRAIN loss: 6.6234\n"
     ]
    },
    {
     "name": "stderr",
     "output_type": "stream",
     "text": [
      "Epoch 1: 76it [22:43, 29.65s/it, mse_loss=6.2188, lr=1.00e-05] "
     ]
    },
    {
     "name": "stdout",
     "output_type": "stream",
     "text": [
      "💾 [step 4] new best TRAIN loss: 6.2188\n"
     ]
    },
    {
     "name": "stderr",
     "output_type": "stream",
     "text": [
      "Epoch 1: 93it [27:37, 25.72s/it, mse_loss=5.9474, lr=1.00e-05] "
     ]
    },
    {
     "name": "stdout",
     "output_type": "stream",
     "text": [
      "💾 [step 5] new best TRAIN loss: 5.9474\n"
     ]
    },
    {
     "name": "stderr",
     "output_type": "stream",
     "text": [
      "Epoch 1: 101it [30:12, 25.76s/it, mse_loss=5.8227, lr=1.00e-05] "
     ]
    },
    {
     "name": "stdout",
     "output_type": "stream",
     "text": [
      "💾 [step 6] new best TRAIN loss: 5.8227\n"
     ]
    },
    {
     "name": "stderr",
     "output_type": "stream",
     "text": [
      "Epoch 1: 128it [37:40, 25.67s/it, mse_loss=4.7864, lr=1.00e-05] "
     ]
    },
    {
     "name": "stdout",
     "output_type": "stream",
     "text": [
      "💾 [step 8] new best TRAIN loss: 4.7864\n"
     ]
    },
    {
     "name": "stderr",
     "output_type": "stream",
     "text": [
      "Epoch 1: 163it [47:09, 25.48s/it, mse_loss=3.7784, lr=1.00e-05] "
     ]
    },
    {
     "name": "stdout",
     "output_type": "stream",
     "text": [
      "💾 [step 10] new best TRAIN loss: 3.7784\n"
     ]
    },
    {
     "name": "stderr",
     "output_type": "stream",
     "text": [
      "Epoch 1: 192it [55:05, 25.25s/it, mse_loss=3.7722, lr=1.00e-05] "
     ]
    },
    {
     "name": "stdout",
     "output_type": "stream",
     "text": [
      "💾 [step 12] new best TRAIN loss: 3.7722\n"
     ]
    },
    {
     "name": "stderr",
     "output_type": "stream",
     "text": [
      "Epoch 1: 228it [1:04:47, 25.02s/it, mse_loss=3.3729, lr=1.00e-05] "
     ]
    },
    {
     "name": "stdout",
     "output_type": "stream",
     "text": [
      "💾 [step 14] new best TRAIN loss: 3.3729\n"
     ]
    },
    {
     "name": "stderr",
     "output_type": "stream",
     "text": [
      "Epoch 1: 245it [1:09:40, 25.29s/it, mse_loss=3.0137, lr=1.00e-05] "
     ]
    },
    {
     "name": "stdout",
     "output_type": "stream",
     "text": [
      "💾 [step 15] new best TRAIN loss: 3.0137\n"
     ]
    },
    {
     "name": "stderr",
     "output_type": "stream",
     "text": [
      "Epoch 1: 260it [1:14:00, 24.98s/it, mse_loss=2.5985, lr=1.00e-05] "
     ]
    },
    {
     "name": "stdout",
     "output_type": "stream",
     "text": [
      "💾 [step 16] new best TRAIN loss: 2.5985\n"
     ]
    },
    {
     "name": "stderr",
     "output_type": "stream",
     "text": [
      "Epoch 1: 264it [1:15:01, 17.48s/it, mse_loss=8.3468, lr=1.00e-05] "
     ]
    }
   ],
   "source": [
    "\n",
    "\n",
    "# Train the model\n",
    "training_results = train_model_custom(\n",
    "    model=model,\n",
    "    tokenizer=tokenizer,\n",
    "    train_loader=train_loader,\n",
    "    val_loader=valid_loader,\n",
    "    test_loader=test_loader,\n",
    "    num_epochs=3,\n",
    "    learning_rate=1e-5,\n",
    "    # batch_size=1,  # Start small due to memory constraints\n",
    "\n",
    "    device=device,\n",
    "    use_wandb=False,  \n",
    "    gradient_accumulation_steps=16,  # Effective batch size = 1 * 8 = 8\n",
    ")\n",
    "\n"
   ]
  },
  {
   "cell_type": "code",
   "execution_count": null,
   "id": "8f9a42c8-da82-4c10-a0b0-a956d74f83b7",
   "metadata": {},
   "outputs": [],
   "source": [
    "checkpoint = torch.load(f\"/work/magroup/wenduoc/DNALongBench/experiments/GENERator/results/RSAP/mouse/v2/checkpoint_step_320.pt\", map_location=device)\n",
    "\n",
    "model.load_state_dict(checkpoint['model_state_dict'])"
   ]
  },
  {
   "cell_type": "code",
   "execution_count": null,
   "id": "2d1597a7-80c7-4b32-b920-68229f6aa952",
   "metadata": {},
   "outputs": [],
   "source": [
    "import math\n",
    "import torch\n",
    "from tqdm import tqdm\n",
    "from typing import Dict\n",
    "from scipy.stats import t as t_dist\n",
    "\n",
    "def evaluate_model_custom(\n",
    "    model: torch.nn.Module,\n",
    "    data_loader: torch.utils.data.DataLoader,\n",
    "    device: str,\n",
    "    criterion: torch.nn.Module\n",
    ") -> Dict[str, float]:\n",
    "    \"\"\"\n",
    "    Streaming evaluation: regression metrics (MSE, MAE, RMSE, R², PCC)\n",
    "    entirely in PyTorch to avoid NumPy import issues.\n",
    "    \"\"\"\n",
    "    model.eval()\n",
    "\n",
    "    # Streaming accumulators (all Python floats)\n",
    "    n = 0\n",
    "    sum_loss     = 0.0\n",
    "    sum_sq_err   = 0.0\n",
    "    sum_abs_err  = 0.0\n",
    "    sum_pred     = 0.0\n",
    "    sum_lbl      = 0.0\n",
    "    sum_pred_sq  = 0.0\n",
    "    sum_lbl_sq   = 0.0\n",
    "    sum_pred_lbl = 0.0\n",
    "\n",
    "    with torch.no_grad():\n",
    "        for batch in tqdm(data_loader, desc=\"Evaluating\"):\n",
    "            input_ids      = batch['input_ids'].to(device)\n",
    "            attention_mask = batch['attention_mask'].to(device)\n",
    "            labels         = batch['y'].view(-1).float().to(device)\n",
    "\n",
    "            outputs  = model(input_ids=input_ids, attention_mask=attention_mask)\n",
    "            preds_t  = outputs['logits'].view(-1)  # might be bfloat16\n",
    "            preds_f  = preds_t.float()             # cast to float32\n",
    "            b        = preds_f.size(0)\n",
    "            n       += b\n",
    "\n",
    "            # loss\n",
    "            loss_b = criterion(preds_t, labels).item()\n",
    "            sum_loss += loss_b * b\n",
    "\n",
    "            # streaming stats in torch\n",
    "            diff      = preds_f - labels\n",
    "            sum_sq_err   += diff.pow(2).sum().item()\n",
    "            sum_abs_err  += diff.abs().sum().item()\n",
    "            sum_pred     += preds_f.sum().item()\n",
    "            sum_lbl      += labels.sum().item()\n",
    "            sum_pred_sq  += preds_f.pow(2).sum().item()\n",
    "            sum_lbl_sq   += labels.pow(2).sum().item()\n",
    "            sum_pred_lbl += (preds_f * labels).sum().item()\n",
    "\n",
    "    # compute final metrics\n",
    "    mse  = sum_sq_err / n\n",
    "    mae  = sum_abs_err / n\n",
    "    rmse = math.sqrt(mse)\n",
    "\n",
    "    ss_tot = sum_lbl_sq - (sum_lbl**2) / n\n",
    "    r2     = 1 - (sum_sq_err / ss_tot) if ss_tot > 0 else float('nan')\n",
    "\n",
    "    num = n * sum_pred_lbl - sum_pred * sum_lbl\n",
    "    den = math.sqrt((n * sum_pred_sq - sum_pred**2) * (n * sum_lbl_sq - sum_lbl**2))\n",
    "    pcc = num / den if den > 0 else 0.0\n",
    "\n",
    "    if n > 2:\n",
    "        t_stat = pcc * math.sqrt((n - 2) / (1 - pcc**2))\n",
    "        p_val  = 2 * (1 - t_dist.cdf(abs(t_stat), df=n-2))\n",
    "    else:\n",
    "        p_val = float('nan')\n",
    "\n",
    "    return {\n",
    "        'loss':        sum_loss / n,\n",
    "        'mse':         mse,\n",
    "        'mae':         mae,\n",
    "        'rmse':        rmse,\n",
    "        'r2':          r2,\n",
    "        'pcc':         pcc,\n",
    "        'pcc_p_value': p_val,\n",
    "        'num_samples': n\n",
    "    }\n"
   ]
  },
  {
   "cell_type": "code",
   "execution_count": null,
   "id": "c5a747dc-331b-4d75-82e6-ec7c3a9d79bb",
   "metadata": {},
   "outputs": [],
   "source": [
    "# Final evaluation on test set if provided\n",
    "final_metrics = {}\n",
    "\n",
    "test_loader_custom = DataLoader(\n",
    "            test_loader.dataset,\n",
    "            batch_size=4,\n",
    "            collate_fn=lambda b: collate_fn(b, tokenizer)\n",
    "        )\n",
    "\n",
    "criterion = nn.MSELoss()\n",
    "\n",
    "print(\"\\n🧪 Evaluating on test set...\")\n",
    "test_metrics = evaluate_model_custom(model, test_loader_custom, device, criterion)\n",
    "final_metrics['test_metrics'] = test_metrics\n",
    "\n",
    "print(\"📊 Final Test Metrics:\")\n",
    "for key, value in test_metrics.items():\n",
    "    print(f\"  {key}: {value:.4f}\")\n",
    "\n",
    "print(final_metrics)"
   ]
  },
  {
   "cell_type": "code",
   "execution_count": null,
   "id": "60ddcfb2-22ef-4ad0-b1f3-146304eba260",
   "metadata": {},
   "outputs": [],
   "source": []
  }
 ],
 "metadata": {
  "kernelspec": {
   "display_name": "Python 3 (ipykernel)",
   "language": "python",
   "name": "python3"
  },
  "language_info": {
   "codemirror_mode": {
    "name": "ipython",
    "version": 3
   },
   "file_extension": ".py",
   "mimetype": "text/x-python",
   "name": "python",
   "nbconvert_exporter": "python",
   "pygments_lexer": "ipython3",
   "version": "3.9.20"
  }
 },
 "nbformat": 4,
 "nbformat_minor": 5
}
