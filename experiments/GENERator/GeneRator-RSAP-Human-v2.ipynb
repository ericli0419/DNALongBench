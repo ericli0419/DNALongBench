{
 "cells": [
  {
   "cell_type": "code",
   "execution_count": 1,
   "id": "22b46412-a357-4ad9-9e40-b7e24994aeb0",
   "metadata": {},
   "outputs": [
    {
     "name": "stdout",
     "output_type": "stream",
     "text": [
      "Tue Jul  8 23:09:34 2025       \n",
      "+-----------------------------------------------------------------------------------------+\n",
      "| NVIDIA-SMI 565.57.01              Driver Version: 565.57.01      CUDA Version: 12.7     |\n",
      "|-----------------------------------------+------------------------+----------------------+\n",
      "| GPU  Name                 Persistence-M | Bus-Id          Disp.A | Volatile Uncorr. ECC |\n",
      "| Fan  Temp   Perf          Pwr:Usage/Cap |           Memory-Usage | GPU-Util  Compute M. |\n",
      "|                                         |                        |               MIG M. |\n",
      "|=========================================+========================+======================|\n",
      "|   0  NVIDIA A100 80GB PCIe          On  |   00000000:52:00.0 Off |                    0 |\n",
      "| N/A   29C    P0             45W /  270W |       1MiB /  81920MiB |      0%      Default |\n",
      "|                                         |                        |             Disabled |\n",
      "+-----------------------------------------+------------------------+----------------------+\n",
      "                                                                                         \n",
      "+-----------------------------------------------------------------------------------------+\n",
      "| Processes:                                                                              |\n",
      "|  GPU   GI   CI        PID   Type   Process name                              GPU Memory |\n",
      "|        ID   ID                                                               Usage      |\n",
      "|=========================================================================================|\n",
      "|  No running processes found                                                             |\n",
      "+-----------------------------------------------------------------------------------------+\n"
     ]
    }
   ],
   "source": [
    "! nvidia-smi"
   ]
  },
  {
   "cell_type": "code",
   "execution_count": 2,
   "id": "a69885fa-a6b6-4fc6-b76e-c8807a91b3e2",
   "metadata": {},
   "outputs": [
    {
     "name": "stderr",
     "output_type": "stream",
     "text": [
      "/home/wenduoc/mambaforge/envs/dnalongbench/lib/python3.9/site-packages/transformers/utils/generic.py:496: FutureWarning: `torch.utils._pytree._register_pytree_node` is deprecated. Please use `torch.utils._pytree.register_pytree_node` instead.\n",
      "  _torch_pytree._register_pytree_node(\n",
      "/home/wenduoc/mambaforge/envs/dnalongbench/lib/python3.9/site-packages/transformers/utils/generic.py:353: FutureWarning: `torch.utils._pytree._register_pytree_node` is deprecated. Please use `torch.utils._pytree.register_pytree_node` instead.\n",
      "  _torch_pytree._register_pytree_node(\n",
      "/home/wenduoc/mambaforge/envs/dnalongbench/lib/python3.9/site-packages/transformers/utils/generic.py:353: FutureWarning: `torch.utils._pytree._register_pytree_node` is deprecated. Please use `torch.utils._pytree.register_pytree_node` instead.\n",
      "  _torch_pytree._register_pytree_node(\n",
      "/home/wenduoc/mambaforge/envs/dnalongbench/lib/python3.9/site-packages/torchvision/io/image.py:13: UserWarning: Failed to load image Python extension: '/home/wenduoc/mambaforge/envs/dnalongbench/lib/python3.9/site-packages/torchvision/image.so: undefined symbol: _ZN3c1017RegisterOperatorsD1Ev'If you don't plan on using image functionality from `torchvision.io`, you can ignore this warning. Otherwise, there might be something wrong with your environment. Did you have `libjpeg` or `libpng` installed before building `torchvision` from source?\n",
      "  warn(\n",
      "2025-07-08 23:09:40.449450: I tensorflow/core/util/port.cc:153] oneDNN custom operations are on. You may see slightly different numerical results due to floating-point round-off errors from different computation orders. To turn them off, set the environment variable `TF_ENABLE_ONEDNN_OPTS=0`.\n",
      "2025-07-08 23:09:40.462166: E external/local_xla/xla/stream_executor/cuda/cuda_fft.cc:485] Unable to register cuFFT factory: Attempting to register factory for plugin cuFFT when one has already been registered\n",
      "2025-07-08 23:09:40.478787: E external/local_xla/xla/stream_executor/cuda/cuda_dnn.cc:8454] Unable to register cuDNN factory: Attempting to register factory for plugin cuDNN when one has already been registered\n",
      "2025-07-08 23:09:40.483533: E external/local_xla/xla/stream_executor/cuda/cuda_blas.cc:1452] Unable to register cuBLAS factory: Attempting to register factory for plugin cuBLAS when one has already been registered\n",
      "2025-07-08 23:09:40.495069: I tensorflow/core/platform/cpu_feature_guard.cc:210] This TensorFlow binary is optimized to use available CPU instructions in performance-critical operations.\n",
      "To enable the following instructions: AVX2 AVX512F AVX512_VNNI FMA, in other operations, rebuild TensorFlow with the appropriate compiler flags.\n",
      "2025-07-08 23:09:41.503711: W tensorflow/compiler/tf2tensorrt/utils/py_utils.cc:38] TF-TRT Warning: Could not find TensorRT\n",
      "/home/wenduoc/mambaforge/envs/dnalongbench/lib/python3.9/site-packages/transformers/utils/generic.py:353: FutureWarning: `torch.utils._pytree._register_pytree_node` is deprecated. Please use `torch.utils._pytree.register_pytree_node` instead.\n",
      "  _torch_pytree._register_pytree_node(\n"
     ]
    }
   ],
   "source": [
    "import argparse\n",
    "import os\n",
    "import time\n",
    "from typing import Dict, Tuple, Union, Optional, Callable, List, Any\n",
    "from torch.utils.data import Dataset, DataLoader, Subset\n",
    "import numpy as np\n",
    "import torch\n",
    "import torch.distributed as dist\n",
    "import transformers\n",
    "import yaml\n",
    "from datasets import (\n",
    "    Dataset,\n",
    "    load_dataset,\n",
    "    DatasetDict,\n",
    "    IterableDatasetDict,\n",
    "    IterableDataset,\n",
    ")\n",
    "from datasets import Dataset as HFDataset, DatasetDict\n",
    "from sklearn.metrics import f1_score, matthews_corrcoef\n",
    "from sklearn.model_selection import KFold\n",
    "from transformers import (\n",
    "    AutoTokenizer,\n",
    "    AutoModelForSequenceClassification,\n",
    "    PreTrainedTokenizer,\n",
    "    TrainingArguments,\n",
    "    Trainer,\n",
    "    EarlyStoppingCallback,\n",
    "    DataCollatorWithPadding,\n",
    "    PreTrainedModel,\n",
    "    AutoConfig,\n",
    ")\n",
    "\n",
    "\n"
   ]
  },
  {
   "cell_type": "code",
   "execution_count": 3,
   "id": "09054935-17fc-45a1-902f-74d651dac489",
   "metadata": {},
   "outputs": [
    {
     "data": {
      "text/plain": [
       "device(type='cuda')"
      ]
     },
     "execution_count": 3,
     "metadata": {},
     "output_type": "execute_result"
    }
   ],
   "source": [
    "device = torch.device('cuda' if torch.cuda.is_available() else 'cpu')\n",
    "device "
   ]
  },
  {
   "cell_type": "code",
   "execution_count": 4,
   "id": "49fea7cb-a3b8-4295-945d-865d0dff1dce",
   "metadata": {},
   "outputs": [],
   "source": [
    "root = '/work/magroup/shared/DNA_LLM/DNALongBench/'"
   ]
  },
  {
   "cell_type": "code",
   "execution_count": 5,
   "id": "b4567ff0-b769-42c3-96ae-197f7f96a573",
   "metadata": {},
   "outputs": [],
   "source": [
    "import torch\n",
    "import dnalongbench\n",
    "from dnalongbench.utils import load_data, BasenjiDataSet\n",
    "import numpy as np\n",
    "import tensorflow as tf"
   ]
  },
  {
   "cell_type": "code",
   "execution_count": 6,
   "id": "cafbdcf8-b86b-427f-b0ae-180f75bd3523",
   "metadata": {},
   "outputs": [
    {
     "data": {
      "text/plain": [
       "[PhysicalDevice(name='/physical_device:GPU:0', device_type='GPU')]"
      ]
     },
     "execution_count": 6,
     "metadata": {},
     "output_type": "execute_result"
    }
   ],
   "source": [
    "tf.config.list_physical_devices('GPU')"
   ]
  },
  {
   "cell_type": "code",
   "execution_count": 7,
   "id": "b5d25b65-ef81-4cab-be6d-c64d6487097b",
   "metadata": {},
   "outputs": [],
   "source": [
    "tf.config.set_visible_devices([], 'GPU')"
   ]
  },
  {
   "cell_type": "code",
   "execution_count": 8,
   "id": "604f9418-8845-4d10-84a8-0b490722ada7",
   "metadata": {},
   "outputs": [],
   "source": [
    "# human_fasta_path = root + 'regulatory_sequence_activity_prediction/human/seqs/hg38.ml.fa'\n",
    "# data_path = root + 'regulatory_sequence_activity_prediction/'\n",
    "# organism = 'human'"
   ]
  },
  {
   "cell_type": "code",
   "execution_count": 9,
   "id": "061ad3b3-86f6-4a15-8d1d-cf789158e271",
   "metadata": {},
   "outputs": [],
   "source": [
    "# train_dataset = BasenjiDataSet(data_path, organism, 'train', 196608, human_fasta_path)"
   ]
  },
  {
   "cell_type": "code",
   "execution_count": 10,
   "id": "4509c3c0-6ef3-47b3-9da8-8b2cc8055a03",
   "metadata": {},
   "outputs": [],
   "source": [
    "# def custom_collate(batch):\n",
    "#     x, y = zip(*batch)\n",
    "#     x = torch.tensor(np.stack(x), dtype=torch.float32)\n",
    "#     y = torch.tensor(np.stack(y), dtype=torch.float32)\n",
    "#     return x, y\n",
    "\n",
    "# train_loader = torch.utils.data.DataLoader(\n",
    "#     train_dataset, batch_size=4, num_workers=0, collate_fn=custom_collate\n",
    "# )"
   ]
  },
  {
   "cell_type": "code",
   "execution_count": 11,
   "id": "a1b4828d-84e0-4e40-adaf-751b1cb7f65d",
   "metadata": {},
   "outputs": [],
   "source": [
    "# for batch in train_loader: \n",
    "#         x, y = batch\n",
    "#         print('x:',x.size())\n",
    "#         print('y:',y.size())\n",
    "#         break\n"
   ]
  },
  {
   "cell_type": "code",
   "execution_count": 12,
   "id": "cfe7d997-b19d-4b55-8aa3-35a608dda62d",
   "metadata": {},
   "outputs": [],
   "source": [
    "# train_loader = torch.utils.data.DataLoader(train_dataset, batch_size=4, num_workers=0)"
   ]
  },
  {
   "cell_type": "code",
   "execution_count": 13,
   "id": "a470fdc8-18d9-43c1-9cf2-24b9e3540051",
   "metadata": {},
   "outputs": [],
   "source": [
    "def load_data(root='/work/magroup/shared/DNA_LLM/DNALongBench/', task_name = 'regulatory_sequence_activity', organism = 'human', cell_type=None, batch_size=16, sequence_length=196608):\n",
    "    if task_name == 'regulatory_sequence_activity':\n",
    "        assert organism == \"human\" or organism == \"mouse\"\n",
    "        human_fasta_path = root + 'regulatory_sequence_activity_prediction/human/seqs/hg38.ml.fa'\n",
    "        mouse_fasta_path = root + 'regulatory_sequence_activity_prediction/mouse/seqs/mm10.ml.fa'\n",
    "        data_path = root + 'regulatory_sequence_activity_prediction/'\n",
    "        \n",
    "        # SEQUENCE_LENGTH = 196608\n",
    "        # BIN_SIZE = 128\n",
    "        # TARGET_LENGTH = 896\n",
    "\n",
    "        fasta_path = human_fasta_path if organism == \"human\" else mouse_fasta_path\n",
    "\n",
    "        train_dataset = BasenjiDataSet(data_path, organism, 'train', sequence_length, fasta_path)\n",
    "        valid_dataset = BasenjiDataSet(data_path, organism, 'valid', sequence_length, fasta_path)\n",
    "        test_dataset = BasenjiDataSet(data_path, organism, 'test', sequence_length, fasta_path)\n",
    "\n",
    "        def custom_collate(batch):\n",
    "            x, y = zip(*batch)\n",
    "            x = torch.tensor(np.stack(x), dtype=torch.float32)\n",
    "            y = torch.tensor(np.stack(y), dtype=torch.float32)\n",
    "            return x, y\n",
    "        \n",
    "        train_loader = torch.utils.data.DataLoader(train_dataset, batch_size=batch_size, num_workers=0, collate_fn=custom_collate)\n",
    "        valid_loader = torch.utils.data.DataLoader(valid_dataset, batch_size=batch_size, num_workers=0, collate_fn=custom_collate)\n",
    "        test_loader = torch.utils.data.DataLoader(test_dataset, batch_size=batch_size, num_workers=0, collate_fn=custom_collate)\n",
    "        return train_loader, valid_loader, test_loader "
   ]
  },
  {
   "cell_type": "code",
   "execution_count": 14,
   "id": "557a229a-7e3f-453c-a5d2-950b616e3b7e",
   "metadata": {},
   "outputs": [],
   "source": [
    "train_loader, valid_loader, test_loader = load_data(root=root, task_name = 'regulatory_sequence_activity', organism = 'human', cell_type=None, batch_size=16, sequence_length=196608)"
   ]
  },
  {
   "cell_type": "code",
   "execution_count": 15,
   "id": "1b9244c1-f707-4ec1-8853-a1239c01b996",
   "metadata": {},
   "outputs": [
    {
     "name": "stderr",
     "output_type": "stream",
     "text": [
      "2025-07-08 23:09:43.563517: E tensorflow/core/util/util.cc:131] oneDNN supports DT_HALF only on platforms with AVX-512. Falling back to the default Eigen-based implementation if present.\n"
     ]
    },
    {
     "name": "stdout",
     "output_type": "stream",
     "text": [
      "x: torch.Size([16, 196608, 4])\n",
      "y: torch.Size([16, 896, 5313])\n"
     ]
    }
   ],
   "source": [
    "for batch in train_loader: \n",
    "        x, y = batch\n",
    "        print('x:',x.size())\n",
    "        print('y:',y.size())\n",
    "        break\n"
   ]
  },
  {
   "cell_type": "code",
   "execution_count": 16,
   "id": "0b7498be-4fd9-4873-8b76-d0bbfe114608",
   "metadata": {},
   "outputs": [
    {
     "name": "stdout",
     "output_type": "stream",
     "text": [
      "Tue Jul  8 23:09:46 2025       \n",
      "+-----------------------------------------------------------------------------------------+\n",
      "| NVIDIA-SMI 565.57.01              Driver Version: 565.57.01      CUDA Version: 12.7     |\n",
      "|-----------------------------------------+------------------------+----------------------+\n",
      "| GPU  Name                 Persistence-M | Bus-Id          Disp.A | Volatile Uncorr. ECC |\n",
      "| Fan  Temp   Perf          Pwr:Usage/Cap |           Memory-Usage | GPU-Util  Compute M. |\n",
      "|                                         |                        |               MIG M. |\n",
      "|=========================================+========================+======================|\n",
      "|   0  NVIDIA A100 80GB PCIe          On  |   00000000:52:00.0 Off |                    0 |\n",
      "| N/A   29C    P0             45W /  270W |       4MiB /  81920MiB |      0%      Default |\n",
      "|                                         |                        |             Disabled |\n",
      "+-----------------------------------------+------------------------+----------------------+\n",
      "                                                                                         \n",
      "+-----------------------------------------------------------------------------------------+\n",
      "| Processes:                                                                              |\n",
      "|  GPU   GI   CI        PID   Type   Process name                              GPU Memory |\n",
      "|        ID   ID                                                               Usage      |\n",
      "|=========================================================================================|\n",
      "|  No running processes found                                                             |\n",
      "+-----------------------------------------------------------------------------------------+\n"
     ]
    }
   ],
   "source": [
    "!nvidia-smi"
   ]
  },
  {
   "cell_type": "code",
   "execution_count": 17,
   "id": "6e3da213-7d60-4e8c-be6f-91670d2c8229",
   "metadata": {},
   "outputs": [],
   "source": [
    "def collate_fn(batch, tokenizer, max_length=450000):\n",
    "    \"\"\"\n",
    "    Custom collate function for DNA data that converts one-hot encoded sequences to raw sequences\n",
    "    and tokenizes them.\n",
    "    \n",
    "    Args:\n",
    "        batch: List of tuples where each tuple is (x, y)\n",
    "               x is one-hot encoded DNA sequence of shape (seq_len, 4)\n",
    "               y is gene expression data of shape (10, seq_len)\n",
    "        tokenizer: The GENERator tokenizer\n",
    "        max_length: Maximum sequence length for tokenization\n",
    "    \n",
    "    Returns:\n",
    "        Dictionary with tokenized inputs and original gene expression data\n",
    "    \"\"\"\n",
    "    # Separate x and y from the batch\n",
    "    x_batch, y_batch = zip(*batch)\n",
    "    x_batch = torch.tensor(np.stack(x_batch), dtype=torch.float32)\n",
    "    y_batch = torch.tensor(np.stack(y_batch), dtype=torch.float32)\n",
    "    \n",
    "    # Convert one-hot encoded sequences to raw sequences\n",
    "    raw_sequences = []\n",
    "    nucleotides = ['A', 'C', 'G', 'T']\n",
    "    for one_hot_seq in x_batch:\n",
    "     \n",
    "        # Ensure one_hot_seq is a PyTorch tensor\n",
    "        if not isinstance(one_hot_seq, torch.Tensor):\n",
    "            one_hot_seq = torch.tensor(one_hot_seq)\n",
    "        \n",
    "        # Get indices of 1s in one-hot encoding (argmax along axis 1)\n",
    "        indices = torch.argmax(one_hot_seq, dim=1).cpu().numpy()\n",
    "        \n",
    "        # Convert indices to nucleotides\n",
    "        raw_seq = ''.join([nucleotides[idx] for idx in indices])\n",
    "        raw_sequences.append(raw_seq)\n",
    "    \n",
    "    # Tokenize the raw sequences\n",
    "    tokenizer.padding_side = \"right\"\n",
    "    inputs = tokenizer(\n",
    "        raw_sequences,\n",
    "        add_special_tokens=True,\n",
    "        return_tensors=\"pt\",\n",
    "        padding=False,\n",
    "        truncation=True,\n",
    "        # max_length=max_length\n",
    "    )\n",
    "\n",
    "    \n",
    "    # Convert y arrays to tensors and stack them\n",
    "    y_tensors = []\n",
    "    for y in y_batch:\n",
    "        if not isinstance(y, torch.Tensor):\n",
    "            y = torch.tensor(y, dtype=torch.float32)\n",
    "        y_tensors.append(y)\n",
    "    \n",
    "    y_stacked = torch.stack(y_tensors)\n",
    "    \n",
    "    # Return tokenized inputs and original y\n",
    "    return {\n",
    "        \"input_ids\": inputs[\"input_ids\"],\n",
    "        \"attention_mask\": inputs[\"attention_mask\"],\n",
    "        \"y\": y_stacked\n",
    "    }"
   ]
  },
  {
   "cell_type": "code",
   "execution_count": 18,
   "id": "32940061-b7b5-430b-9770-9e3c4b30130e",
   "metadata": {},
   "outputs": [],
   "source": [
    "\n",
    "# Set logging level for transformers\n",
    "transformers.logging.set_verbosity_info()\n",
    "\n",
    "# Define optimization direction for each metric (whether higher or lower is better)\n",
    "METRICS_DIRECTION: Dict[str, str] = {\n",
    "    \"accuracy\": \"max\",\n",
    "    \"f1_score\": \"max\",\n",
    "    \"mcc\": \"max\",\n",
    "    \"f1_max\": \"max\",\n",
    "    \"auprc_micro\": \"max\",\n",
    "    \"mse\": \"min\",\n",
    "    \"mae\": \"min\",\n",
    "    \"r2\": \"max\",\n",
    "    \"pearson\": \"max\",\n",
    "}\n",
    "\n",
    "\n",
    "def is_main_process() -> bool:\n",
    "    \"\"\"\n",
    "    Check if current process is the main process (rank 0) in distributed training.\n",
    "\n",
    "    Returns:\n",
    "        bool: True if this is the main process, False otherwise\n",
    "    \"\"\"\n",
    "    if dist.is_initialized():\n",
    "        return dist.get_rank() == 0\n",
    "    return True\n",
    "\n",
    "\n",
    "def dist_print(*args, **kwargs) -> None:\n",
    "    \"\"\"\n",
    "    Print only from the main process (rank 0) in distributed training.\n",
    "    Prevents duplicate outputs in multi-GPU settings.\n",
    "\n",
    "    Args:\n",
    "        *args: Arguments to pass to print function\n",
    "        **kwargs: Keyword arguments to pass to print function\n",
    "    \"\"\"\n",
    "    if is_main_process():\n",
    "        print(*args, **kwargs)\n"
   ]
  },
  {
   "cell_type": "code",
   "execution_count": 19,
   "id": "bc616855-3d44-48a2-a59f-d01df69b2e7e",
   "metadata": {},
   "outputs": [],
   "source": [
    "def setup_tokenizer(\n",
    "    model_name: str, padding_and_truncation_side: str\n",
    ") -> PreTrainedTokenizer:\n",
    "    \"\"\"\n",
    "    Load and configure tokenizer for sequence understanding.\n",
    "\n",
    "    Args:\n",
    "        model_name: Name or path of the HuggingFace model\n",
    "        padding_and_truncation_side: Side for padding and truncation (left or right)\n",
    "\n",
    "    Returns:\n",
    "        PreTrainedTokenizer: Configured tokenizer for the model\n",
    "    \"\"\"\n",
    "    dist_print(f\"🔤 Loading tokenizer from: {model_name}\")\n",
    "    start_time = time.time()\n",
    "\n",
    "    # Load tokenizer with trust_remote_code to support custom models\n",
    "    tokenizer = AutoTokenizer.from_pretrained(model_name, trust_remote_code=True)\n",
    "\n",
    "    # Configure padding and truncation settings\n",
    "    tokenizer.padding_side = padding_and_truncation_side\n",
    "    tokenizer.truncation_side = padding_and_truncation_side\n",
    "\n",
    "    # Set pad_token to eos_token if not defined\n",
    "    if tokenizer.pad_token is None:\n",
    "        tokenizer.pad_token = tokenizer.eos_token\n",
    "\n",
    "    dist_print(\n",
    "        f\"⏱️ Tokenizer loading completed in {time.time() - start_time:.2f} seconds\"\n",
    "    )\n",
    "\n",
    "    return tokenizer"
   ]
  },
  {
   "cell_type": "code",
   "execution_count": 20,
   "id": "f01bac99-e8b6-4f48-a827-1ba2f5d88cbb",
   "metadata": {},
   "outputs": [
    {
     "name": "stdout",
     "output_type": "stream",
     "text": [
      "🔤 Loading tokenizer from: GenerTeam/GENERator-eukaryote-1.2b-base\n"
     ]
    },
    {
     "name": "stderr",
     "output_type": "stream",
     "text": [
      "loading file added_tokens.json from cache at None\n",
      "loading file special_tokens_map.json from cache at /home/wenduoc/.cache/huggingface/hub/models--GenerTeam--GENERator-eukaryote-1.2b-base/snapshots/3be4abf390afbb7f4d8ccb3370f599338523f1cd/special_tokens_map.json\n",
      "loading file tokenizer_config.json from cache at /home/wenduoc/.cache/huggingface/hub/models--GenerTeam--GENERator-eukaryote-1.2b-base/snapshots/3be4abf390afbb7f4d8ccb3370f599338523f1cd/tokenizer_config.json\n",
      "loading file tokenizer.json from cache at None\n",
      "loading file chat_template.jinja from cache at None\n"
     ]
    },
    {
     "name": "stdout",
     "output_type": "stream",
     "text": [
      "⏱️ Tokenizer loading completed in 0.16 seconds\n"
     ]
    }
   ],
   "source": [
    "tokenizer = setup_tokenizer(\"GenerTeam/GENERator-eukaryote-1.2b-base\", 'right')"
   ]
  },
  {
   "cell_type": "code",
   "execution_count": 21,
   "id": "f668f563-b119-4576-9f7d-3ee93ce9c9b4",
   "metadata": {},
   "outputs": [
    {
     "data": {
      "text/plain": [
       "DNAKmerTokenizer(name_or_path='GenerTeam/GENERator-eukaryote-1.2b-base', vocab_size=4128, model_max_length=1000000000000000019884624838656, is_fast=False, padding_side='right', truncation_side='right', special_tokens={'bos_token': '<s>', 'eos_token': '</s>', 'unk_token': '<oov>', 'pad_token': '<pad>'}, clean_up_tokenization_spaces=True, added_tokens_decoder={\n",
       "\t0: AddedToken(\"<oov>\", rstrip=False, lstrip=False, single_word=False, normalized=False, special=True),\n",
       "\t1: AddedToken(\"<s>\", rstrip=False, lstrip=False, single_word=False, normalized=False, special=True),\n",
       "\t2: AddedToken(\"</s>\", rstrip=False, lstrip=False, single_word=False, normalized=False, special=True),\n",
       "\t3: AddedToken(\"<pad>\", rstrip=False, lstrip=False, single_word=False, normalized=False, special=True),\n",
       "}\n",
       ")"
      ]
     },
     "execution_count": 21,
     "metadata": {},
     "output_type": "execute_result"
    }
   ],
   "source": [
    "tokenizer"
   ]
  },
  {
   "cell_type": "code",
   "execution_count": 22,
   "id": "c3fffca8-f632-4a1f-ba54-87f1b855aff4",
   "metadata": {},
   "outputs": [],
   "source": [
    "train_loader2 = DataLoader(\n",
    "        train_loader.dataset,\n",
    "        batch_size=4,\n",
    "        collate_fn=lambda b: collate_fn(b, tokenizer, max_length=196_608)\n",
    "    )\n"
   ]
  },
  {
   "cell_type": "code",
   "execution_count": 23,
   "id": "f00352c2-c6a2-49c1-a019-918a3caa6aec",
   "metadata": {},
   "outputs": [
    {
     "name": "stderr",
     "output_type": "stream",
     "text": [
      "Asking to truncate to max_length but no maximum length is provided and the model has no predefined maximum length. Default to no truncation.\n"
     ]
    },
    {
     "name": "stdout",
     "output_type": "stream",
     "text": [
      "{'input_ids': tensor([[   1,  289,  291,  ...,  136, 4000,    2],\n",
      "        [   1, 2088,  236,  ..., 2075, 2303,    2],\n",
      "        [   1, 4095, 4068,  ...,  151,   51,    2],\n",
      "        [   1, 2337, 1405,  ..., 3567, 1469,    2]]), 'attention_mask': tensor([[1, 1, 1,  ..., 1, 1, 1],\n",
      "        [1, 1, 1,  ..., 1, 1, 1],\n",
      "        [1, 1, 1,  ..., 1, 1, 1],\n",
      "        [1, 1, 1,  ..., 1, 1, 1]]), 'y': tensor([[[0.1084, 0.1076, 0.0443,  ..., 0.0000, 0.0000, 0.0000],\n",
      "         [0.1016, 0.0933, 0.0095,  ..., 0.0000, 0.0000, 0.0000],\n",
      "         [0.1027, 0.1560, 0.0000,  ..., 0.0000, 0.0000, 0.0000],\n",
      "         ...,\n",
      "         [0.0771, 0.0768, 0.0351,  ..., 0.0000, 0.0193, 0.0000],\n",
      "         [0.0767, 0.0383, 0.0565,  ..., 0.0000, 0.0000, 0.0000],\n",
      "         [0.0832, 0.0605, 0.0216,  ..., 0.0000, 0.0000, 0.0000]],\n",
      "\n",
      "        [[0.0402, 0.0616, 0.0000,  ..., 0.0000, 0.0000, 0.4810],\n",
      "         [0.1345, 0.1501, 0.0000,  ..., 0.0000, 0.9844, 0.0000],\n",
      "         [0.1726, 0.3892, 0.0251,  ..., 0.0000, 0.0000, 0.0000],\n",
      "         ...,\n",
      "         [0.0977, 0.0776, 0.0422,  ..., 0.0000, 0.4829, 0.0000],\n",
      "         [0.0856, 0.0483, 0.0119,  ..., 0.0000, 0.0000, 0.0000],\n",
      "         [0.0609, 0.0828, 0.1149,  ..., 0.0000, 0.0000, 0.0000]],\n",
      "\n",
      "        [[0.0710, 0.0808, 0.0370,  ..., 0.0000, 0.0000, 0.0000],\n",
      "         [0.1190, 0.1143, 0.0283,  ..., 0.0000, 0.0000, 0.0000],\n",
      "         [0.0806, 0.0934, 0.0362,  ..., 0.0000, 0.0000, 0.0000],\n",
      "         ...,\n",
      "         [0.0771, 0.0588, 0.0412,  ..., 0.0000, 0.0000, 0.0000],\n",
      "         [0.0898, 0.0518, 0.0068,  ..., 0.0000, 0.0000, 0.0000],\n",
      "         [0.0941, 0.1157, 0.0443,  ..., 0.0000, 0.0000, 0.0000]],\n",
      "\n",
      "        [[0.0542, 0.1393, 0.0612,  ..., 0.0294, 0.0000, 0.0000],\n",
      "         [0.0096, 0.0208, 0.0135,  ..., 0.0000, 0.0000, 0.0000],\n",
      "         [0.0180, 0.0193, 0.0122,  ..., 0.0000, 0.0000, 0.0000],\n",
      "         ...,\n",
      "         [0.2263, 0.2136, 0.0876,  ..., 0.0000, 0.0000, 0.0000],\n",
      "         [0.3899, 0.4709, 0.4802,  ..., 0.0000, 0.0000, 0.0000],\n",
      "         [0.7471, 0.8164, 1.0078,  ..., 0.0000, 0.0000, 0.0000]]])}\n"
     ]
    }
   ],
   "source": [
    "for batch in train_loader2: \n",
    "        print(batch)\n",
    "        break\n"
   ]
  },
  {
   "cell_type": "code",
   "execution_count": 24,
   "id": "94962735-514b-4fec-980f-2dd350127c6e",
   "metadata": {},
   "outputs": [
    {
     "data": {
      "text/plain": [
       "(torch.Size([4, 32770]), torch.Size([4, 896, 5313]))"
      ]
     },
     "execution_count": 24,
     "metadata": {},
     "output_type": "execute_result"
    }
   ],
   "source": [
    "batch['input_ids'].shape, batch['y'].shape"
   ]
  },
  {
   "cell_type": "code",
   "execution_count": 25,
   "id": "a65dce9b-9173-4f7f-b383-ca356750354b",
   "metadata": {},
   "outputs": [
    {
     "name": "stdout",
     "output_type": "stream",
     "text": [
      "Tue Jul  8 23:09:47 2025       \n",
      "+-----------------------------------------------------------------------------------------+\n",
      "| NVIDIA-SMI 565.57.01              Driver Version: 565.57.01      CUDA Version: 12.7     |\n",
      "|-----------------------------------------+------------------------+----------------------+\n",
      "| GPU  Name                 Persistence-M | Bus-Id          Disp.A | Volatile Uncorr. ECC |\n",
      "| Fan  Temp   Perf          Pwr:Usage/Cap |           Memory-Usage | GPU-Util  Compute M. |\n",
      "|                                         |                        |               MIG M. |\n",
      "|=========================================+========================+======================|\n",
      "|   0  NVIDIA A100 80GB PCIe          On  |   00000000:52:00.0 Off |                    0 |\n",
      "| N/A   30C    P0             60W /  270W |       4MiB /  81920MiB |      0%      Default |\n",
      "|                                         |                        |             Disabled |\n",
      "+-----------------------------------------+------------------------+----------------------+\n",
      "                                                                                         \n",
      "+-----------------------------------------------------------------------------------------+\n",
      "| Processes:                                                                              |\n",
      "|  GPU   GI   CI        PID   Type   Process name                              GPU Memory |\n",
      "|        ID   ID                                                               Usage      |\n",
      "|=========================================================================================|\n",
      "|  No running processes found                                                             |\n",
      "+-----------------------------------------------------------------------------------------+\n"
     ]
    }
   ],
   "source": [
    "!nvidia-smi"
   ]
  },
  {
   "cell_type": "code",
   "execution_count": 26,
   "id": "20d016d1-704d-45e7-a660-9891b22d2f05",
   "metadata": {},
   "outputs": [],
   "source": [
    "# import math\n",
    "# import torch\n",
    "# import torch.nn as nn\n",
    "# import torch.nn.functional as F\n",
    "# from transformers import AutoModel\n",
    "\n",
    "# class RegulatorySignalPredictor(nn.Module):\n",
    "#     def __init__(\n",
    "#         self,\n",
    "#         base_model_name: str,\n",
    "#         max_subsequence_length: int = 4096,\n",
    "#         num_bins: int = 896,\n",
    "#         num_targets: int = 5313,\n",
    "#         gradient_checkpointing: bool = True,\n",
    "#     ):\n",
    "#         super().__init__()\n",
    "#         # 1) load your Llama‐style decoder\n",
    "#         self.base_model = AutoModel.from_pretrained(\n",
    "#             base_model_name, trust_remote_code=True\n",
    "#         )\n",
    "#         if gradient_checkpointing:\n",
    "#             self.base_model.gradient_checkpointing_enable()\n",
    "\n",
    "#         self.chunk_size = max_subsequence_length\n",
    "#         hidden_size = self.base_model.config.hidden_size\n",
    "\n",
    "#         # 2) adaptive pool along the token dimension → exactly `num_bins`\n",
    "#         self.pool = nn.AdaptiveAvgPool1d(num_bins)\n",
    "#         # 3) final head: H → num_targets\n",
    "#         self.head = nn.Linear(hidden_size, num_targets)\n",
    "\n",
    "#     def forward(self,\n",
    "#         input_ids: torch.Tensor,          # [B, 32770]\n",
    "#         attention_mask: torch.Tensor = None\n",
    "#     ):\n",
    "#         B, L = input_ids.shape\n",
    "#         if attention_mask is None:\n",
    "#             attention_mask = torch.ones_like(input_ids)\n",
    "\n",
    "#         # --- chunk & encode ---\n",
    "#         hidden_chunks = []\n",
    "#         num_chunks = math.ceil(L / self.chunk_size)\n",
    "#         for i in range(num_chunks):\n",
    "#             start = i * self.chunk_size\n",
    "#             end   = min((i + 1) * self.chunk_size, L)\n",
    "\n",
    "#             sub_ids  = input_ids[:, start:end]\n",
    "#             sub_mask = attention_mask[:, start:end]\n",
    "\n",
    "#             # pad last chunk up to chunk_size so model accepts it\n",
    "#             if end - start < self.chunk_size:\n",
    "#                 pad_len = self.chunk_size - (end - start)\n",
    "#                 sub_ids  = F.pad(sub_ids,  (0, pad_len), value=0)\n",
    "#                 sub_mask = F.pad(sub_mask, (0, pad_len), value=0)\n",
    "\n",
    "#             out = self.base_model(\n",
    "#                 input_ids=sub_ids,\n",
    "#                 attention_mask=sub_mask\n",
    "#             )\n",
    "#             hs = out.last_hidden_state  # → [B, chunk_size, H]\n",
    "\n",
    "#             # drop the padded tokens\n",
    "#             real_len = end - start\n",
    "#             hidden_chunks.append(hs[:, :real_len, :])  # [B, real_len, H]\n",
    "\n",
    "#         # --- reassemble full sequence hidden states ---\n",
    "#         x = torch.cat(hidden_chunks, dim=1)    # [B, L, H]\n",
    "\n",
    "#         # --- pool down to exactly `num_bins` positions ---\n",
    "#         x = x.transpose(1, 2)                 # [B, H, L]\n",
    "#         x = self.pool(x)                      # [B, H, num_bins]\n",
    "#         x = x.transpose(1, 2)                 # [B, num_bins, H]\n",
    "\n",
    "#         # --- project each bin to your 5,313 signals ---\n",
    "#         preds = self.head(x)                  # [B, 896, 5313]\n",
    "\n",
    "#         return {\"logits\": preds}\n"
   ]
  },
  {
   "cell_type": "code",
   "execution_count": 27,
   "id": "50813e18-5ad4-47c4-ab12-2f9d3c90d1c6",
   "metadata": {},
   "outputs": [],
   "source": [
    "# import torch\n",
    "# import torch.nn as nn\n",
    "# from transformers import AutoModel\n",
    "\n",
    "# class RegulatorySignalPredictor(nn.Module):\n",
    "#     def __init__(\n",
    "#         self,\n",
    "#         base_model_name: str,\n",
    "#         *,\n",
    "#         max_subsequence_length: int,\n",
    "#         num_subsequences: int,\n",
    "#         output_bins: int,\n",
    "#         output_tracks: int,\n",
    "#         gradient_checkpointing: bool = True\n",
    "#     ):\n",
    "#         super().__init__()\n",
    "#         self.base_model = AutoModel.from_pretrained(base_model_name, trust_remote_code=True)\n",
    "#         if gradient_checkpointing:\n",
    "#             self.base_model.gradient_checkpointing_enable()\n",
    "        \n",
    "#         self.max_subsequence_length = max_subsequence_length\n",
    "#         self.num_subsequences      = num_subsequences\n",
    "#         self.output_bins           = output_bins\n",
    "#         self.output_tracks         = output_tracks\n",
    "        \n",
    "#         hidden_size = self.base_model.config.hidden_size\n",
    "#         self.pool = nn.AdaptiveAvgPool1d(self.output_bins)    \n",
    "#         self.head = nn.Linear(hidden_size, self.output_tracks)  \n",
    "\n",
    "\n",
    "#     def forward(self, input_ids: torch.LongTensor, attention_mask: torch.LongTensor):\n",
    "#         # 1) collect all sub‐sequence embeddings\n",
    "#         seq_chunks = []\n",
    "#         for i in range(self.num_subsequences):\n",
    "#             start = i * self.max_subsequence_length\n",
    "#             end   = (i + 1) * self.max_subsequence_length\n",
    "            \n",
    "#             sub_ids  = input_ids[:, start:end]\n",
    "#             sub_mask = attention_mask[:, start:end]\n",
    "            \n",
    "#             out = self.base_model(input_ids=sub_ids, attention_mask=sub_mask)\n",
    "#             # append the **full** last_hidden_state, not just CLS\n",
    "#             seq_chunks.append(out.last_hidden_state)  # [B, sub_L, H]\n",
    "        \n",
    "#         # 2) stitch back into one long sequence → [B, total_L, H]\n",
    "#         seq_emb = torch.cat(seq_chunks, dim=1)\n",
    "        \n",
    "#         # 3) pool & per‐bin head\n",
    "#         x = seq_emb.transpose(1, 2)    # → [B, H, total_L]\n",
    "#         x = self.pool(x)               # → [B, H, output_bins]\n",
    "#         x = x.transpose(1, 2)          # → [B, output_bins, H]\n",
    "#         preds = self.head(x)           # → [B, output_bins, output_tracks]\n",
    "        \n",
    "#         return {\"logits\": preds}\n"
   ]
  },
  {
   "cell_type": "code",
   "execution_count": 28,
   "id": "6a03f561-54bb-42cc-94a7-d8cea5721a29",
   "metadata": {},
   "outputs": [],
   "source": [
    "import torch\n",
    "import torch.nn as nn\n",
    "from transformers import AutoModel\n",
    "\n",
    "class RegulatorySignalPredictor(nn.Module):\n",
    "    def __init__(\n",
    "        self,\n",
    "        base_model_name: str,\n",
    "        *,\n",
    "        max_subsequence_length: int,\n",
    "        num_subsequences: int,\n",
    "        output_bins: int,\n",
    "        output_tracks: int,\n",
    "        gradient_checkpointing: bool = True\n",
    "    ):\n",
    "        super().__init__()\n",
    "        # 1. backbone\n",
    "        self.base_model = AutoModel.from_pretrained(base_model_name, trust_remote_code=True)\n",
    "        if gradient_checkpointing:\n",
    "            self.base_model.gradient_checkpointing_enable()\n",
    "        \n",
    "        # 2. bookkeeping\n",
    "        self.max_subsequence_length = max_subsequence_length\n",
    "        self.num_subsequences    = num_subsequences\n",
    "        self.output_bins         = output_bins\n",
    "        self.output_tracks       = output_tracks\n",
    "        \n",
    "        # 3. pooling + small head (instead of one giant regression matrix)\n",
    "        hidden_size = self.base_model.config.hidden_size\n",
    "   \n",
    "        # self.head = nn.Linear(hidden_size, self.output_tracks) \n",
    "        self.head = nn.Sequential(\n",
    "            nn.Linear(hidden_size * num_subsequences, 256),\n",
    "            nn.ReLU(inplace=True),\n",
    "            nn.Linear(256, output_bins * output_tracks),\n",
    "        )\n",
    "\n",
    "\n",
    "    def forward(self, input_ids: torch.LongTensor, attention_mask: torch.LongTensor):\n",
    "        \"\"\"\n",
    "        input_ids:       [B, L]\n",
    "        attention_mask:  [B, L]\n",
    "        returns preds:   [B, output_bins, output_tracks]\n",
    "        \"\"\"\n",
    "        # 1) run each chunk through the backbone and collect all token embeddings\n",
    "        hidden_states = []\n",
    "        for i in range(self.num_subsequences):\n",
    "            start_idx = i * self.max_subsequence_length\n",
    "            end_idx = (i + 1) * self.max_subsequence_length\n",
    "            sub_input_ids = input_ids[:, start_idx:end_idx]\n",
    "            sub_attention_mask = attention_mask[:, start_idx:end_idx]\n",
    "\n",
    "            outputs = self.base_model(input_ids=sub_input_ids, attention_mask=sub_attention_mask)\n",
    "            last_hidden_state = outputs.last_hidden_state\n",
    "            cls_embedding = last_hidden_state[:, -1, :]\n",
    "            hidden_states.append(cls_embedding)\n",
    "        \n",
    "        # 2) stitch back into one long sequence → [B, total_L, H]\n",
    "        combined_hidden_states = torch.cat(hidden_states, dim=-1) # [4, 16384]\n",
    "        \n",
    "        \n",
    "        preds = self.head(combined_hidden_states )\n",
    "        \n",
    "        return {\"logits\": preds}"
   ]
  },
  {
   "cell_type": "code",
   "execution_count": 29,
   "id": "d2ff6d1d-a494-42a5-9955-f1a8bd510c64",
   "metadata": {},
   "outputs": [
    {
     "name": "stderr",
     "output_type": "stream",
     "text": [
      "loading configuration file config.json from cache at /home/wenduoc/.cache/huggingface/hub/models--GenerTeam--GENERator-eukaryote-1.2b-base/snapshots/3be4abf390afbb7f4d8ccb3370f599338523f1cd/config.json\n",
      "Model config LlamaConfig {\n",
      "  \"architectures\": [\n",
      "    \"LlamaForCausalLM\"\n",
      "  ],\n",
      "  \"attention_bias\": false,\n",
      "  \"attention_dropout\": 0.0,\n",
      "  \"bos_token_id\": 1,\n",
      "  \"eos_token_id\": 2,\n",
      "  \"head_dim\": 64,\n",
      "  \"hidden_act\": \"silu\",\n",
      "  \"hidden_size\": 2048,\n",
      "  \"initializer_range\": 0.02,\n",
      "  \"intermediate_size\": 5632,\n",
      "  \"max_position_embeddings\": 16384,\n",
      "  \"mlp_bias\": false,\n",
      "  \"model_type\": \"llama\",\n",
      "  \"num_attention_heads\": 32,\n",
      "  \"num_hidden_layers\": 26,\n",
      "  \"num_key_value_heads\": 4,\n",
      "  \"pretraining_tp\": 1,\n",
      "  \"rms_norm_eps\": 1e-05,\n",
      "  \"rope_scaling\": null,\n",
      "  \"rope_theta\": 500000.0,\n",
      "  \"tie_word_embeddings\": false,\n",
      "  \"torch_dtype\": \"float32\",\n",
      "  \"transformers_version\": \"4.51.3\",\n",
      "  \"use_cache\": true,\n",
      "  \"vocab_size\": 4128\n",
      "}\n",
      "\n",
      "loading weights file model.safetensors from cache at /home/wenduoc/.cache/huggingface/hub/models--GenerTeam--GENERator-eukaryote-1.2b-base/snapshots/3be4abf390afbb7f4d8ccb3370f599338523f1cd/model.safetensors\n",
      "Some weights of the model checkpoint at GenerTeam/GENERator-eukaryote-1.2b-base were not used when initializing LlamaModel: ['lm_head.weight']\n",
      "- This IS expected if you are initializing LlamaModel from the checkpoint of a model trained on another task or with another architecture (e.g. initializing a BertForSequenceClassification model from a BertForPreTraining model).\n",
      "- This IS NOT expected if you are initializing LlamaModel from the checkpoint of a model that you expect to be exactly identical (initializing a BertForSequenceClassification model from a BertForSequenceClassification model).\n",
      "All the weights of LlamaModel were initialized from the model checkpoint at GenerTeam/GENERator-eukaryote-1.2b-base.\n",
      "If your task is similar to the task the model of the checkpoint was trained on, you can already use LlamaModel for predictions without further training.\n"
     ]
    }
   ],
   "source": [
    "model = RegulatorySignalPredictor(\n",
    "    base_model_name=\"GenerTeam/GENERator-eukaryote-1.2b-base\",\n",
    "    max_subsequence_length=4096,   # e.g. 32770/8 ≈ 4096\n",
    "    num_subsequences=8,\n",
    "    output_bins=896,\n",
    "    output_tracks=5313\n",
    ")\n"
   ]
  },
  {
   "cell_type": "code",
   "execution_count": 30,
   "id": "ed7ea44c-1d7e-4c73-a5c1-8016b0b2bf47",
   "metadata": {},
   "outputs": [],
   "source": [
    "model=model.to(torch.bfloat16).to(device)"
   ]
  },
  {
   "cell_type": "code",
   "execution_count": 31,
   "id": "4470d1f2-0b4f-43e3-b61c-58c4336f3ef5",
   "metadata": {},
   "outputs": [
    {
     "data": {
      "text/plain": [
       "{'logits': tensor([[ 1.4844, -2.4219,  3.1562,  ..., -0.5430, -2.2344,  0.3613],\n",
       "         [ 2.3281, -2.0312,  3.5469,  ..., -1.2656, -1.7891,  0.0505],\n",
       "         [ 2.0469, -1.8828,  3.5469,  ..., -0.7109, -1.9688,  0.1641],\n",
       "         [ 1.2500, -2.3750,  2.4531,  ..., -1.1797, -1.4375,  0.2314]],\n",
       "        device='cuda:0', dtype=torch.bfloat16)}"
      ]
     },
     "execution_count": 31,
     "metadata": {},
     "output_type": "execute_result"
    }
   ],
   "source": [
    "with torch.no_grad():\n",
    "    preds = model(batch['input_ids'].to(device), batch['attention_mask'].to(device))\n",
    "preds"
   ]
  },
  {
   "cell_type": "code",
   "execution_count": 32,
   "id": "e595af27-0feb-4704-8eb4-df080e6937a0",
   "metadata": {},
   "outputs": [
    {
     "data": {
      "text/plain": [
       "RegulatorySignalPredictor(\n",
       "  (base_model): LlamaModel(\n",
       "    (embed_tokens): Embedding(4128, 2048)\n",
       "    (layers): ModuleList(\n",
       "      (0-25): 26 x LlamaDecoderLayer(\n",
       "        (self_attn): LlamaAttention(\n",
       "          (q_proj): Linear(in_features=2048, out_features=2048, bias=False)\n",
       "          (k_proj): Linear(in_features=2048, out_features=256, bias=False)\n",
       "          (v_proj): Linear(in_features=2048, out_features=256, bias=False)\n",
       "          (o_proj): Linear(in_features=2048, out_features=2048, bias=False)\n",
       "        )\n",
       "        (mlp): LlamaMLP(\n",
       "          (gate_proj): Linear(in_features=2048, out_features=5632, bias=False)\n",
       "          (up_proj): Linear(in_features=2048, out_features=5632, bias=False)\n",
       "          (down_proj): Linear(in_features=5632, out_features=2048, bias=False)\n",
       "          (act_fn): SiLU()\n",
       "        )\n",
       "        (input_layernorm): LlamaRMSNorm((2048,), eps=1e-05)\n",
       "        (post_attention_layernorm): LlamaRMSNorm((2048,), eps=1e-05)\n",
       "      )\n",
       "    )\n",
       "    (norm): LlamaRMSNorm((2048,), eps=1e-05)\n",
       "    (rotary_emb): LlamaRotaryEmbedding()\n",
       "  )\n",
       "  (head): Sequential(\n",
       "    (0): Linear(in_features=16384, out_features=256, bias=True)\n",
       "    (1): ReLU(inplace=True)\n",
       "    (2): Linear(in_features=256, out_features=4760448, bias=True)\n",
       "  )\n",
       ")"
      ]
     },
     "execution_count": 32,
     "metadata": {},
     "output_type": "execute_result"
    }
   ],
   "source": [
    "model"
   ]
  },
  {
   "cell_type": "code",
   "execution_count": 33,
   "id": "8efa25fc-9302-4038-85c6-da4d39aa8a47",
   "metadata": {},
   "outputs": [],
   "source": [
    "def count_parameters(model):\n",
    "    total_params = sum(p.numel() for p in model.parameters())\n",
    "    trainable_params = sum(p.numel() for p in model.parameters() if p.requires_grad)\n",
    "\n",
    "    print(f\"Total parameters:     {total_params:,}\")\n",
    "    print(f\"Trainable parameters: {trainable_params:,}\")\n",
    "    print(f\"Trainable %:          {100 * trainable_params / total_params:.2f}%\")\n"
   ]
  },
  {
   "cell_type": "code",
   "execution_count": 34,
   "id": "b594454e-e712-47c8-8363-2add57b86508",
   "metadata": {},
   "outputs": [
    {
     "name": "stdout",
     "output_type": "stream",
     "text": [
      "Total parameters:     2,381,237,376\n",
      "Trainable parameters: 2,381,237,376\n",
      "Trainable %:          100.00%\n"
     ]
    }
   ],
   "source": [
    "count_parameters(model)"
   ]
  },
  {
   "cell_type": "code",
   "execution_count": 35,
   "id": "f7b69134-d9c7-4485-8605-34c7b1aecb9d",
   "metadata": {},
   "outputs": [],
   "source": [
    "for param in model.base_model.parameters():\n",
    "    param.requires_grad = False\n",
    "\n",
    "# Unfreeze the last 8 LLaMA decoder layers\n",
    "for layer in model.base_model.layers[-6:]:\n",
    "    for param in layer.parameters():\n",
    "        param.requires_grad = True\n"
   ]
  },
  {
   "cell_type": "code",
   "execution_count": 36,
   "id": "b80206f3-332e-48bb-8588-9f4384389e4f",
   "metadata": {},
   "outputs": [
    {
     "name": "stdout",
     "output_type": "stream",
     "text": [
      "Total parameters:     2,381,237,376\n",
      "Trainable parameters: 1,491,895,424\n",
      "Trainable %:          62.65%\n"
     ]
    }
   ],
   "source": [
    "count_parameters(model)"
   ]
  },
  {
   "cell_type": "markdown",
   "id": "14943caa-13df-44d3-9363-9e3ccb85a9df",
   "metadata": {},
   "source": [
    "# Train"
   ]
  },
  {
   "cell_type": "code",
   "execution_count": 37,
   "id": "a8705b78-df73-4dba-9753-3845c654f12f",
   "metadata": {},
   "outputs": [],
   "source": [
    "\n",
    "# def evaluate_model_custom(\n",
    "#     model: PreTrainedModel,\n",
    "#     data_loader: DataLoader,\n",
    "#     device: str,\n",
    "#     criterion: nn.Module\n",
    "# ) -> Dict[str, float]:\n",
    "#     \"\"\"\n",
    "#     Evaluate regression model on a dataset.\n",
    "    \n",
    "#     Args:\n",
    "#         model: Model to evaluate\n",
    "#         data_loader: DataLoader for evaluation\n",
    "#         device: Device to run evaluation on\n",
    "#         criterion: Loss function (MSE)\n",
    "    \n",
    "#     Returns:\n",
    "#         Dictionary of evaluation metrics (MSE, MAE, R², PCC)\n",
    "#     \"\"\"\n",
    "#     model.eval()\n",
    "#     total_loss = 0.0\n",
    "#     all_predictions = []\n",
    "#     all_labels = []\n",
    "#     num_batches = 0\n",
    "    \n",
    "#     with torch.no_grad():\n",
    "#         for batch in tqdm(data_loader, desc=\"Evaluating\"):\n",
    "#             input_ids = batch['input_ids'].to(device)\n",
    "#             attention_mask = batch['attention_mask'].to(device)\n",
    "#             labels = batch['y'].to(device)\n",
    "\n",
    "#             # input_ids = input_ids.to(model.dtype)\n",
    "#             # attention_mask = attention_mask.to(model.dtype)\n",
    "            \n",
    "#             outputs = model(input_ids=input_ids,attention_mask=attention_mask)\n",
    "#             logits = outputs['logits']\n",
    "            \n",
    "#             # Process labels for regression\n",
    "#             if labels.dim() > 1:\n",
    "#                 labels = labels.view(-1).float()\n",
    "            \n",
    "#             # Calculate MSE loss\n",
    "#             loss = criterion(logits.view(-1), labels)\n",
    "            \n",
    "#             # Get predictions (no activation function needed for regression)\n",
    "#             predictions = logits.float().cpu().numpy()\n",
    "     \n",
    "#             total_loss += loss.item()\n",
    "            \n",
    "#             # Store for metrics\n",
    "#             all_predictions.extend(predictions.flatten())\n",
    "#             all_labels.extend(labels.cpu().numpy().flatten())\n",
    "                \n",
    "#             num_batches += 1\n",
    "    \n",
    "#     # Compute average loss\n",
    "#     avg_loss = total_loss / num_batches\n",
    "    \n",
    "#     # Convert lists to numpy arrays\n",
    "#     all_predictions = np.array(all_predictions)\n",
    "#     all_labels = np.array(all_labels)\n",
    "    \n",
    "#     # Mean Squared Error\n",
    "#     mse = mean_squared_error(all_labels, all_predictions)\n",
    "    \n",
    "#     # Mean Absolute Error\n",
    "#     mae = mean_absolute_error(all_labels, all_predictions)\n",
    "    \n",
    "#     # R-squared score\n",
    "#     r2 = r2_score(all_labels, all_predictions)\n",
    "    \n",
    "#     # Pearson Correlation Coefficient\n",
    "#     pcc, p_value = pearsonr(all_labels, all_predictions)\n",
    "    \n",
    "#     # Root Mean Squared Error\n",
    "#     rmse = np.sqrt(mse)\n",
    "    \n",
    "#     return {\n",
    "#         'loss': avg_loss,\n",
    "#         'mse': mse,\n",
    "#         'mae': mae,\n",
    "#         'rmse': rmse,\n",
    "#         'r2': r2,\n",
    "#         'pcc': pcc,\n",
    "#         'pcc_p_value': p_value,\n",
    "#         'num_samples': len(all_predictions)\n",
    "#     }"
   ]
  },
  {
   "cell_type": "code",
   "execution_count": 40,
   "id": "4f934f28-23b2-4b41-9bd0-4338046d7b65",
   "metadata": {},
   "outputs": [],
   "source": [
    "from tqdm import tqdm\n",
    "import torch\n",
    "import torch.nn as nn\n",
    "import numpy as np\n",
    "from scipy.stats import pearsonr\n",
    "from sklearn.metrics import mean_squared_error, mean_absolute_error, r2_score\n",
    "import time\n",
    "import os\n",
    "from typing import Dict, Any, Optional\n",
    "from torch.utils.data import DataLoader\n",
    "from transformers import PreTrainedModel, PreTrainedTokenizer\n",
    "\n",
    "\n",
    "\n",
    "import math\n",
    "import torch\n",
    "from tqdm import tqdm\n",
    "from typing import Dict\n",
    "from scipy.stats import t as t_dist\n",
    "\n",
    "def evaluate_model_custom(\n",
    "    model: torch.nn.Module,\n",
    "    data_loader: torch.utils.data.DataLoader,\n",
    "    device: str,\n",
    "    criterion: torch.nn.Module\n",
    ") -> Dict[str, float]:\n",
    "    \"\"\"\n",
    "    Streaming evaluation: regression metrics (MSE, MAE, RMSE, R², PCC)\n",
    "    entirely in PyTorch to avoid NumPy import issues.\n",
    "    \"\"\"\n",
    "    model.eval()\n",
    "\n",
    "    # Streaming accumulators (all Python floats)\n",
    "    n = 0\n",
    "    sum_loss     = 0.0\n",
    "    sum_sq_err   = 0.0\n",
    "    sum_abs_err  = 0.0\n",
    "    sum_pred     = 0.0\n",
    "    sum_lbl      = 0.0\n",
    "    sum_pred_sq  = 0.0\n",
    "    sum_lbl_sq   = 0.0\n",
    "    sum_pred_lbl = 0.0\n",
    "\n",
    "    with torch.no_grad():\n",
    "        for batch in tqdm(data_loader, desc=\"Evaluating\"):\n",
    "            input_ids      = batch['input_ids'].to(device)\n",
    "            attention_mask = batch['attention_mask'].to(device)\n",
    "            labels         = batch['y'].view(-1).float().to(device)\n",
    "\n",
    "            outputs  = model(input_ids=input_ids, attention_mask=attention_mask)\n",
    "            preds_t  = outputs['logits'].view(-1)  # might be bfloat16\n",
    "            preds_f  = preds_t.float()             # cast to float32\n",
    "            b        = preds_f.size(0)\n",
    "            n       += b\n",
    "\n",
    "            # loss\n",
    "            loss_b = criterion(preds_t, labels).item()\n",
    "            sum_loss += loss_b * b\n",
    "\n",
    "            # streaming stats in torch\n",
    "            diff      = preds_f - labels\n",
    "            sum_sq_err   += diff.pow(2).sum().item()\n",
    "            sum_abs_err  += diff.abs().sum().item()\n",
    "            sum_pred     += preds_f.sum().item()\n",
    "            sum_lbl      += labels.sum().item()\n",
    "            sum_pred_sq  += preds_f.pow(2).sum().item()\n",
    "            sum_lbl_sq   += labels.pow(2).sum().item()\n",
    "            sum_pred_lbl += (preds_f * labels).sum().item()\n",
    "\n",
    "    # compute final metrics\n",
    "    mse  = sum_sq_err / n\n",
    "    mae  = sum_abs_err / n\n",
    "    rmse = math.sqrt(mse)\n",
    "\n",
    "    ss_tot = sum_lbl_sq - (sum_lbl**2) / n\n",
    "    r2     = 1 - (sum_sq_err / ss_tot) if ss_tot > 0 else float('nan')\n",
    "\n",
    "    num = n * sum_pred_lbl - sum_pred * sum_lbl\n",
    "    den = math.sqrt((n * sum_pred_sq - sum_pred**2) * (n * sum_lbl_sq - sum_lbl**2))\n",
    "    pcc = num / den if den > 0 else 0.0\n",
    "\n",
    "    if n > 2:\n",
    "        t_stat = pcc * math.sqrt((n - 2) / (1 - pcc**2))\n",
    "        p_val  = 2 * (1 - t_dist.cdf(abs(t_stat), df=n-2))\n",
    "    else:\n",
    "        p_val = float('nan')\n",
    "\n",
    "    return {\n",
    "        'loss':        sum_loss / n,\n",
    "        'mse':         mse,\n",
    "        'mae':         mae,\n",
    "        'rmse':        rmse,\n",
    "        'r2':          r2,\n",
    "        'pcc':         pcc,\n",
    "        'pcc_p_value': p_val,\n",
    "        'num_samples': n\n",
    "    }\n",
    "\n",
    "\n",
    "def train_model_custom(\n",
    "    model: PreTrainedModel,\n",
    "    tokenizer: PreTrainedTokenizer,\n",
    "    train_loader: DataLoader,\n",
    "    val_loader: DataLoader,\n",
    "    test_loader: Optional[DataLoader] = None,\n",
    "    num_epochs: int = 10,\n",
    "    learning_rate: float = 1e-5,\n",
    "    weight_decay: float = 0.01,\n",
    "    warmup_steps: int = 0,\n",
    "    max_grad_norm: float = 1.0,\n",
    "    save_dir: str = None,\n",
    "    save_steps: int = 10,\n",
    "    early_stopping_patience: int = 5,\n",
    "    device: str = \"cuda\",\n",
    "    use_wandb: bool = False,\n",
    "    gradient_accumulation_steps: int = 1,\n",
    "\n",
    ") -> Dict[str, Any]:\n",
    "    \"\"\"\n",
    "    Custom training function for DNA sequence models with gene expression prediction (regression).\n",
    "    Modified to evaluate after each epoch and save model based on lowest validation loss (MSE).\n",
    "    \"\"\"\n",
    "    model = model.to(device)\n",
    "    model.train()\n",
    "\n",
    "    if save_dir is None:\n",
    "        save_dir = f\"/work/magroup/wenduoc/DNALongBench/experiments/GENERator/results/RSAP/human/v2\"\n",
    "    os.makedirs(save_dir, exist_ok=True)\n",
    "    \n",
    "    train_loader_custom = DataLoader(\n",
    "        train_loader.dataset,\n",
    "        batch_size=4,\n",
    "        collate_fn=lambda b: collate_fn(b, tokenizer)\n",
    "    )\n",
    "\n",
    "    val_loader_custom = DataLoader(\n",
    "        val_loader.dataset,\n",
    "        batch_size=4,\n",
    "        collate_fn=lambda b: collate_fn(b, tokenizer)\n",
    "    )\n",
    "\n",
    "    if test_loader is not None:\n",
    "        test_loader_custom = DataLoader(\n",
    "            test_loader.dataset,\n",
    "            batch_size=4,\n",
    "            collate_fn=lambda b: collate_fn(b, tokenizer)\n",
    "        )\n",
    "\n",
    "    optimizer = torch.optim.AdamW(\n",
    "        model.parameters(),\n",
    "        lr=learning_rate,\n",
    "        weight_decay=weight_decay\n",
    "    )\n",
    "\n",
    "    # scheduler = torch.optim.lr_scheduler.LinearLR(\n",
    "    #     optimizer,\n",
    "    #     start_factor=0.1,\n",
    "    #     end_factor=1.0,\n",
    "    #     total_iters=warmup_steps\n",
    "    # )\n",
    "    scheduler = torch.optim.lr_scheduler.ReduceLROnPlateau(\n",
    "        optimizer,\n",
    "        patience=1,\n",
    "        factor=0.5,\n",
    "        mode='min'\n",
    "    )\n",
    "\n",
    "    # Use MSE loss for regression\n",
    "    criterion = nn.MSELoss()\n",
    "\n",
    "    best_val_loss = float('inf')\n",
    "    best_val_pcc = -1.0  # Track best PCC as well\n",
    "   \n",
    "    global_step = 0\n",
    "    training_history = {\n",
    "        'train_loss': [],\n",
    "        'val_loss': [],\n",
    "        'val_pcc': [],\n",
    "        'val_r2': [],\n",
    "        'learning_rates': []\n",
    "    }\n",
    "\n",
    "    print(f\"🚀 Starting regression training for {num_epochs} epochs...\")\n",
    "    print(f\"🔧 Gradient accumulation steps: {gradient_accumulation_steps}\")\n",
    "    print(f\"📊 Evaluation will occur after each epoch\")\n",
    "    print(f\"💾 Model will be saved based on lowest validation MSE loss\")\n",
    "\n",
    "    start_time = time.time()\n",
    "\n",
    "    best_train_loss = float('inf')\n",
    "    for epoch in range(num_epochs):\n",
    "        print(f\"\\n{'='*50}\")\n",
    "        print(f\"Epoch {epoch + 1}/{num_epochs}\")\n",
    "        print(f\"{'='*50}\")\n",
    "\n",
    "        model.train()\n",
    "        epoch_train_loss = 0.0\n",
    "        train_steps = 0\n",
    "\n",
    "        progress_bar = tqdm(train_loader_custom, desc=f\"Epoch {epoch + 1}\")\n",
    "\n",
    "        for step, batch in enumerate(progress_bar):\n",
    "            input_ids = batch['input_ids'].to(device)\n",
    "            attention_mask = batch['attention_mask'].to(device)\n",
    "            labels = batch['y'].to(device)\n",
    "\n",
    "            # input_ids = input_ids.to(model.dtype)\n",
    "            # attention_mask = attention_mask.to(model.dtype)\n",
    "\n",
    "            with torch.cuda.amp.autocast():\n",
    "                outputs = model(input_ids=input_ids,attention_mask=attention_mask)\n",
    "                logits = outputs['logits']\n",
    "\n",
    "                if labels.dim() > 1:\n",
    "                    labels = labels.view(-1).float()\n",
    "\n",
    "                # MSE loss for regression\n",
    "                loss = criterion(logits.view(-1), labels)\n",
    "                loss = loss / gradient_accumulation_steps\n",
    "\n",
    "                step_train_loss = loss.item() * gradient_accumulation_steps\n",
    "\n",
    "            loss.backward()\n",
    "\n",
    "            if (step + 1) % gradient_accumulation_steps == 0:\n",
    "                torch.nn.utils.clip_grad_norm_(model.parameters(), max_grad_norm)\n",
    "                optimizer.step()\n",
    "                # scheduler.step()\n",
    "                optimizer.zero_grad()\n",
    "                global_step += 1\n",
    "\n",
    "            epoch_train_loss += loss.item() * gradient_accumulation_steps\n",
    "            train_steps += 1\n",
    "\n",
    "            progress_bar.set_postfix({\n",
    "                'mse_loss': f\"{(loss.item() * gradient_accumulation_steps):.4f}\",\n",
    "                'lr': f\"{scheduler.get_last_lr()[0]:.2e}\"\n",
    "            })\n",
    "\n",
    "            # if global_step % save_steps == 0:\n",
    "            if global_step > 0 and global_step % 50 == 0:\n",
    "                checkpoint_path = os.path.join(save_dir, f'checkpoint_step_{global_step}.pt')\n",
    "                torch.save({\n",
    "                    'epoch': epoch,\n",
    "                    'model_state_dict': model.state_dict(),\n",
    "                    'optimizer_state_dict': optimizer.state_dict(),\n",
    "                    'scheduler_state_dict': scheduler.state_dict(),\n",
    "                    'global_step': global_step\n",
    "                }, checkpoint_path)\n",
    "                print(f\"💾 Intermediate checkpoint saved at step {global_step}\")\n",
    "            if step_train_loss < best_train_loss:\n",
    "                best_train_loss = step_train_loss\n",
    "                checkpoint_path = os.path.join(save_dir, f'best_model.pt')\n",
    "                torch.save({\n",
    "                    'epoch': epoch,\n",
    "                    'model_state_dict': model.state_dict(),\n",
    "                    'optimizer_state_dict': optimizer.state_dict(),\n",
    "                    'scheduler_state_dict': scheduler.state_dict(),\n",
    "                    'global_step': global_step\n",
    "                }, checkpoint_path)\n",
    "                print(f\"💾 [step {global_step}] new best TRAIN loss: {best_train_loss:.4f}\")\n",
    "                # else:\n",
    "                #     print(f\"⏭️ [step {global_step}] train loss {step_train_loss:.4f} ≥ best {best_train_loss:.4f}, skipping save\")\n",
    "         \n",
    "\n",
    "        avg_train_loss = epoch_train_loss / train_steps\n",
    "        training_history['train_loss'].append(avg_train_loss)\n",
    "        training_history['learning_rates'].append(scheduler.get_last_lr()[0])\n",
    "\n",
    "        print(f\"\\n🔄 Evaluating after epoch {epoch + 1}...\")\n",
    "        val_metrics = evaluate_model_custom(model, val_loader_custom, device, criterion)\n",
    "        training_history['val_loss'].append(val_metrics['loss'])\n",
    "        training_history['val_pcc'].append(val_metrics['pcc'])\n",
    "        training_history['val_r2'].append(val_metrics['r2'])\n",
    "\n",
    "        print(f\"\\n📈 Epoch {epoch + 1} Summary:\")\n",
    "        print(f\"  Train MSE Loss: {avg_train_loss:.4f}\")\n",
    "        print(f\"  Val MSE Loss: {val_metrics['loss']:.4f}\")\n",
    "        print(f\"  Val PCC: {val_metrics['pcc']:.4f}\")\n",
    "        print(f\"  Val R²: {val_metrics['r2']:.4f}\")\n",
    "        print(f\"  Val RMSE: {val_metrics['rmse']:.4f}\")\n",
    "        print(f\"  Learning Rate: {scheduler.get_last_lr()[0]:.2e}\")\n",
    "\n",
    "        # Save model based on lowest validation loss\n",
    "        if val_metrics['loss'] < best_val_loss:\n",
    "            best_val_loss = val_metrics['loss']\n",
    "            best_val_pcc = val_metrics['pcc']\n",
    "\n",
    "            scheduler.step(val_metrics['loss'])\n",
    "\n",
    "            torch.save({\n",
    "                'epoch': epoch,\n",
    "                'model_state_dict': model.state_dict(),\n",
    "                'optimizer_state_dict': optimizer.state_dict(),\n",
    "                'scheduler_state_dict': scheduler.state_dict(),\n",
    "                'best_val_loss': best_val_loss,\n",
    "                'best_val_pcc': best_val_pcc,\n",
    "                'global_step': global_step\n",
    "            }, os.path.join(save_dir, 'best_model.pt'))\n",
    "\n",
    "            print(f\"💾 New best model saved! Val MSE: {best_val_loss:.4f}, Val PCC: {best_val_pcc:.4f}\")\n",
    "       \n",
    "        epoch_checkpoint_path = os.path.join(save_dir, f'model_epoch_{epoch + 1}.pt')\n",
    "        torch.save({\n",
    "            'epoch': epoch,\n",
    "            'model_state_dict': model.state_dict(),\n",
    "            'optimizer_state_dict': optimizer.state_dict(),\n",
    "            'scheduler_state_dict': scheduler.state_dict(),\n",
    "            'val_loss': val_metrics['loss'],\n",
    "            'val_pcc': val_metrics['pcc'],\n",
    "            'global_step': global_step\n",
    "        }, epoch_checkpoint_path)\n",
    "        print(f\"💾 Epoch {epoch + 1} checkpoint saved\")\n",
    "\n",
    "    \n",
    "        model.train()\n",
    "\n",
    "    total_time = time.time() - start_time\n",
    "    print(f\"\\n✅ Training completed in {total_time/60:.2f} minutes\")\n",
    "    print(f\"🏆 Best validation MSE loss achieved: {best_val_loss:.4f}\")\n",
    "    print(f\"🏆 Best validation PCC achieved: {best_val_pcc:.4f}\")\n",
    "\n",
    "    final_metrics = {\n",
    "        'training_history': training_history, \n",
    "        'best_val_loss': best_val_loss,\n",
    "        'best_val_pcc': best_val_pcc\n",
    "    }\n",
    "    \n",
    "    if test_loader is not None:\n",
    "        print(\"\\n🧪 Evaluating on test set...\")\n",
    "        test_metrics = evaluate_model_custom(model, test_loader_custom, device, criterion)\n",
    "        final_metrics['test_metrics'] = test_metrics\n",
    "\n",
    "        print(\"📊 Final Test Metrics:\")\n",
    "        print(f\"  MSE: {test_metrics['mse']:.4f}\")\n",
    "        print(f\"  RMSE: {test_metrics['rmse']:.4f}\")\n",
    "        print(f\"  MAE: {test_metrics['mae']:.4f}\")\n",
    "        print(f\"  R²: {test_metrics['r2']:.4f}\")\n",
    "        print(f\"  PCC: {test_metrics['pcc']:.4f}\")\n",
    "        print(f\"  PCC p-value: {test_metrics['pcc_p_value']:.6f}\")\n",
    "\n",
    "    return final_metrics"
   ]
  },
  {
   "cell_type": "code",
   "execution_count": 41,
   "id": "c229ff9f-4013-4c40-9864-a498946cade8",
   "metadata": {},
   "outputs": [
    {
     "name": "stdout",
     "output_type": "stream",
     "text": [
      "🚀 Starting regression training for 3 epochs...\n",
      "🔧 Gradient accumulation steps: 16\n",
      "📊 Evaluation will occur after each epoch\n",
      "💾 Model will be saved based on lowest validation MSE loss\n",
      "\n",
      "==================================================\n",
      "Epoch 1/3\n",
      "==================================================\n"
     ]
    },
    {
     "name": "stderr",
     "output_type": "stream",
     "text": [
      "Epoch 1: 0it [00:00, ?it/s]/tmp/ipykernel_2719257/1919700480.py:210: FutureWarning: `torch.cuda.amp.autocast(args...)` is deprecated. Please use `torch.amp.autocast('cuda', args...)` instead.\n",
      "  with torch.cuda.amp.autocast():\n",
      "Epoch 1: 1it [00:25, 25.36s/it, mse_loss=14.4632, lr=1.00e-05]"
     ]
    },
    {
     "name": "stdout",
     "output_type": "stream",
     "text": [
      "💾 [step 0] new best TRAIN loss: 14.4632\n"
     ]
    },
    {
     "name": "stderr",
     "output_type": "stream",
     "text": [
      "Epoch 1: 2it [00:50, 24.97s/it, mse_loss=10.3192, lr=1.00e-05]"
     ]
    },
    {
     "name": "stdout",
     "output_type": "stream",
     "text": [
      "💾 [step 0] new best TRAIN loss: 10.3192\n"
     ]
    },
    {
     "name": "stderr",
     "output_type": "stream",
     "text": [
      "Epoch 1: 10it [03:01, 18.69s/it, mse_loss=9.8488, lr=1.00e-05]"
     ]
    },
    {
     "name": "stdout",
     "output_type": "stream",
     "text": [
      "💾 [step 0] new best TRAIN loss: 9.8488\n"
     ]
    },
    {
     "name": "stderr",
     "output_type": "stream",
     "text": [
      "Epoch 1: 19it [05:55, 26.21s/it, mse_loss=8.5407, lr=1.00e-05] "
     ]
    },
    {
     "name": "stdout",
     "output_type": "stream",
     "text": [
      "💾 [step 1] new best TRAIN loss: 8.5407\n"
     ]
    },
    {
     "name": "stderr",
     "output_type": "stream",
     "text": [
      "Epoch 1: 34it [10:16, 25.07s/it, mse_loss=6.9989, lr=1.00e-05] "
     ]
    },
    {
     "name": "stdout",
     "output_type": "stream",
     "text": [
      "💾 [step 2] new best TRAIN loss: 6.9989\n"
     ]
    },
    {
     "name": "stderr",
     "output_type": "stream",
     "text": [
      "Epoch 1: 65it [18:45, 25.41s/it, mse_loss=6.7361, lr=1.00e-05] "
     ]
    },
    {
     "name": "stdout",
     "output_type": "stream",
     "text": [
      "💾 [step 4] new best TRAIN loss: 6.7361\n"
     ]
    },
    {
     "name": "stderr",
     "output_type": "stream",
     "text": [
      "Epoch 1: 72it [21:03, 25.73s/it, mse_loss=6.6234, lr=1.00e-05] "
     ]
    },
    {
     "name": "stdout",
     "output_type": "stream",
     "text": [
      "💾 [step 4] new best TRAIN loss: 6.6234\n"
     ]
    },
    {
     "name": "stderr",
     "output_type": "stream",
     "text": [
      "Epoch 1: 76it [22:43, 29.65s/it, mse_loss=6.2188, lr=1.00e-05] "
     ]
    },
    {
     "name": "stdout",
     "output_type": "stream",
     "text": [
      "💾 [step 4] new best TRAIN loss: 6.2188\n"
     ]
    },
    {
     "name": "stderr",
     "output_type": "stream",
     "text": [
      "Epoch 1: 93it [27:37, 25.72s/it, mse_loss=5.9474, lr=1.00e-05] "
     ]
    },
    {
     "name": "stdout",
     "output_type": "stream",
     "text": [
      "💾 [step 5] new best TRAIN loss: 5.9474\n"
     ]
    },
    {
     "name": "stderr",
     "output_type": "stream",
     "text": [
      "Epoch 1: 101it [30:12, 25.76s/it, mse_loss=5.8227, lr=1.00e-05] "
     ]
    },
    {
     "name": "stdout",
     "output_type": "stream",
     "text": [
      "💾 [step 6] new best TRAIN loss: 5.8227\n"
     ]
    },
    {
     "name": "stderr",
     "output_type": "stream",
     "text": [
      "Epoch 1: 128it [37:40, 25.67s/it, mse_loss=4.7864, lr=1.00e-05] "
     ]
    },
    {
     "name": "stdout",
     "output_type": "stream",
     "text": [
      "💾 [step 8] new best TRAIN loss: 4.7864\n"
     ]
    },
    {
     "name": "stderr",
     "output_type": "stream",
     "text": [
      "Epoch 1: 163it [47:09, 25.48s/it, mse_loss=3.7784, lr=1.00e-05] "
     ]
    },
    {
     "name": "stdout",
     "output_type": "stream",
     "text": [
      "💾 [step 10] new best TRAIN loss: 3.7784\n"
     ]
    },
    {
     "name": "stderr",
     "output_type": "stream",
     "text": [
      "Epoch 1: 192it [55:05, 25.25s/it, mse_loss=3.7722, lr=1.00e-05] "
     ]
    },
    {
     "name": "stdout",
     "output_type": "stream",
     "text": [
      "💾 [step 12] new best TRAIN loss: 3.7722\n"
     ]
    },
    {
     "name": "stderr",
     "output_type": "stream",
     "text": [
      "Epoch 1: 228it [1:04:47, 25.02s/it, mse_loss=3.3729, lr=1.00e-05] "
     ]
    },
    {
     "name": "stdout",
     "output_type": "stream",
     "text": [
      "💾 [step 14] new best TRAIN loss: 3.3729\n"
     ]
    },
    {
     "name": "stderr",
     "output_type": "stream",
     "text": [
      "Epoch 1: 245it [1:09:40, 25.29s/it, mse_loss=3.0137, lr=1.00e-05] "
     ]
    },
    {
     "name": "stdout",
     "output_type": "stream",
     "text": [
      "💾 [step 15] new best TRAIN loss: 3.0137\n"
     ]
    },
    {
     "name": "stderr",
     "output_type": "stream",
     "text": [
      "Epoch 1: 260it [1:14:00, 24.98s/it, mse_loss=2.5985, lr=1.00e-05] "
     ]
    },
    {
     "name": "stdout",
     "output_type": "stream",
     "text": [
      "💾 [step 16] new best TRAIN loss: 2.5985\n"
     ]
    },
    {
     "name": "stderr",
     "output_type": "stream",
     "text": [
      "Epoch 1: 385it [1:46:26, 25.68s/it, mse_loss=2.4112, lr=1.00e-05] "
     ]
    },
    {
     "name": "stdout",
     "output_type": "stream",
     "text": [
      "💾 [step 24] new best TRAIN loss: 2.4112\n"
     ]
    },
    {
     "name": "stderr",
     "output_type": "stream",
     "text": [
      "Epoch 1: 440it [2:00:59, 25.16s/it, mse_loss=2.3945, lr=1.00e-05] "
     ]
    },
    {
     "name": "stdout",
     "output_type": "stream",
     "text": [
      "💾 [step 27] new best TRAIN loss: 2.3945\n"
     ]
    },
    {
     "name": "stderr",
     "output_type": "stream",
     "text": [
      "Epoch 1: 473it [2:09:55, 25.21s/it, mse_loss=2.3573, lr=1.00e-05] "
     ]
    },
    {
     "name": "stdout",
     "output_type": "stream",
     "text": [
      "💾 [step 29] new best TRAIN loss: 2.3573\n"
     ]
    },
    {
     "name": "stderr",
     "output_type": "stream",
     "text": [
      "Epoch 1: 535it [2:26:14, 25.32s/it, mse_loss=2.1128, lr=1.00e-05] "
     ]
    },
    {
     "name": "stdout",
     "output_type": "stream",
     "text": [
      "💾 [step 33] new best TRAIN loss: 2.1128\n"
     ]
    },
    {
     "name": "stderr",
     "output_type": "stream",
     "text": [
      "Epoch 1: 587it [2:40:00, 25.35s/it, mse_loss=2.0604, lr=1.00e-05] "
     ]
    },
    {
     "name": "stdout",
     "output_type": "stream",
     "text": [
      "💾 [step 36] new best TRAIN loss: 2.0604\n"
     ]
    },
    {
     "name": "stderr",
     "output_type": "stream",
     "text": [
      "Epoch 1: 800it [3:34:46, 24.67s/it, mse_loss=8.5594, lr=1.00e-05] "
     ]
    },
    {
     "name": "stdout",
     "output_type": "stream",
     "text": [
      "💾 Intermediate checkpoint saved at step 50\n"
     ]
    },
    {
     "name": "stderr",
     "output_type": "stream",
     "text": [
      "Epoch 1: 801it [3:35:35, 32.20s/it, mse_loss=4.4823, lr=1.00e-05]"
     ]
    },
    {
     "name": "stdout",
     "output_type": "stream",
     "text": [
      "💾 Intermediate checkpoint saved at step 50\n"
     ]
    },
    {
     "name": "stderr",
     "output_type": "stream",
     "text": [
      "Epoch 1: 802it [3:36:30, 38.91s/it, mse_loss=13.6635, lr=1.00e-05]"
     ]
    },
    {
     "name": "stdout",
     "output_type": "stream",
     "text": [
      "💾 Intermediate checkpoint saved at step 50\n"
     ]
    },
    {
     "name": "stderr",
     "output_type": "stream",
     "text": [
      "Epoch 1: 803it [3:37:22, 42.76s/it, mse_loss=7.4439, lr=1.00e-05] "
     ]
    },
    {
     "name": "stdout",
     "output_type": "stream",
     "text": [
      "💾 Intermediate checkpoint saved at step 50\n"
     ]
    },
    {
     "name": "stderr",
     "output_type": "stream",
     "text": [
      "Epoch 1: 804it [3:38:17, 46.43s/it, mse_loss=9.1326, lr=1.00e-05]"
     ]
    },
    {
     "name": "stdout",
     "output_type": "stream",
     "text": [
      "💾 Intermediate checkpoint saved at step 50\n"
     ]
    },
    {
     "name": "stderr",
     "output_type": "stream",
     "text": [
      "Epoch 1: 805it [3:39:09, 48.04s/it, mse_loss=11.0401, lr=1.00e-05]"
     ]
    },
    {
     "name": "stdout",
     "output_type": "stream",
     "text": [
      "💾 Intermediate checkpoint saved at step 50\n"
     ]
    },
    {
     "name": "stderr",
     "output_type": "stream",
     "text": [
      "Epoch 1: 806it [3:40:03, 49.94s/it, mse_loss=6.4246, lr=1.00e-05] "
     ]
    },
    {
     "name": "stdout",
     "output_type": "stream",
     "text": [
      "💾 Intermediate checkpoint saved at step 50\n"
     ]
    },
    {
     "name": "stderr",
     "output_type": "stream",
     "text": [
      "Epoch 1: 807it [3:40:55, 50.44s/it, mse_loss=4.2398, lr=1.00e-05]"
     ]
    },
    {
     "name": "stdout",
     "output_type": "stream",
     "text": [
      "💾 Intermediate checkpoint saved at step 50\n"
     ]
    },
    {
     "name": "stderr",
     "output_type": "stream",
     "text": [
      "Epoch 1: 808it [3:41:51, 52.37s/it, mse_loss=4.1346, lr=1.00e-05]"
     ]
    },
    {
     "name": "stdout",
     "output_type": "stream",
     "text": [
      "💾 Intermediate checkpoint saved at step 50\n"
     ]
    },
    {
     "name": "stderr",
     "output_type": "stream",
     "text": [
      "Epoch 1: 809it [3:42:45, 52.82s/it, mse_loss=4.6696, lr=1.00e-05]"
     ]
    },
    {
     "name": "stdout",
     "output_type": "stream",
     "text": [
      "💾 Intermediate checkpoint saved at step 50\n"
     ]
    },
    {
     "name": "stderr",
     "output_type": "stream",
     "text": [
      "Epoch 1: 810it [3:43:55, 57.97s/it, mse_loss=6.3717, lr=1.00e-05]"
     ]
    },
    {
     "name": "stdout",
     "output_type": "stream",
     "text": [
      "💾 Intermediate checkpoint saved at step 50\n"
     ]
    },
    {
     "name": "stderr",
     "output_type": "stream",
     "text": [
      "Epoch 1: 811it [3:44:56, 58.93s/it, mse_loss=3.9165, lr=1.00e-05]"
     ]
    },
    {
     "name": "stdout",
     "output_type": "stream",
     "text": [
      "💾 Intermediate checkpoint saved at step 50\n"
     ]
    },
    {
     "name": "stderr",
     "output_type": "stream",
     "text": [
      "Epoch 1: 812it [3:45:47, 56.40s/it, mse_loss=7.3729, lr=1.00e-05]"
     ]
    },
    {
     "name": "stdout",
     "output_type": "stream",
     "text": [
      "💾 Intermediate checkpoint saved at step 50\n"
     ]
    },
    {
     "name": "stderr",
     "output_type": "stream",
     "text": [
      "Epoch 1: 813it [3:46:41, 55.70s/it, mse_loss=2.6566, lr=1.00e-05]"
     ]
    },
    {
     "name": "stdout",
     "output_type": "stream",
     "text": [
      "💾 Intermediate checkpoint saved at step 50\n"
     ]
    },
    {
     "name": "stderr",
     "output_type": "stream",
     "text": [
      "Epoch 1: 814it [3:47:37, 55.71s/it, mse_loss=3.7177, lr=1.00e-05]"
     ]
    },
    {
     "name": "stdout",
     "output_type": "stream",
     "text": [
      "💾 Intermediate checkpoint saved at step 50\n"
     ]
    },
    {
     "name": "stderr",
     "output_type": "stream",
     "text": [
      "Epoch 1: 815it [3:48:34, 56.28s/it, mse_loss=2.8300, lr=1.00e-05]"
     ]
    },
    {
     "name": "stdout",
     "output_type": "stream",
     "text": [
      "💾 Intermediate checkpoint saved at step 50\n"
     ]
    },
    {
     "name": "stderr",
     "output_type": "stream",
     "text": [
      "Epoch 1: 894it [4:09:09, 24.92s/it, mse_loss=2.0242, lr=1.00e-05] "
     ]
    },
    {
     "name": "stdout",
     "output_type": "stream",
     "text": [
      "💾 [step 55] new best TRAIN loss: 2.0242\n"
     ]
    },
    {
     "name": "stderr",
     "output_type": "stream",
     "text": [
      "Epoch 1: 920it [4:16:18, 25.25s/it, mse_loss=2.0156, lr=1.00e-05] "
     ]
    },
    {
     "name": "stdout",
     "output_type": "stream",
     "text": [
      "💾 [step 57] new best TRAIN loss: 2.0156\n"
     ]
    },
    {
     "name": "stderr",
     "output_type": "stream",
     "text": [
      "Epoch 1: 1343it [6:04:35, 25.31s/it, mse_loss=1.9722, lr=1.00e-05] "
     ]
    },
    {
     "name": "stdout",
     "output_type": "stream",
     "text": [
      "💾 [step 83] new best TRAIN loss: 1.9722\n"
     ]
    },
    {
     "name": "stderr",
     "output_type": "stream",
     "text": [
      "Epoch 1: 1349it [6:06:40, 26.43s/it, mse_loss=1.7978, lr=1.00e-05]"
     ]
    },
    {
     "name": "stdout",
     "output_type": "stream",
     "text": [
      "💾 [step 84] new best TRAIN loss: 1.7978\n"
     ]
    },
    {
     "name": "stderr",
     "output_type": "stream",
     "text": [
      "Epoch 1: 1600it [7:11:08, 27.60s/it, mse_loss=4.2185, lr=1.00e-05] "
     ]
    },
    {
     "name": "stdout",
     "output_type": "stream",
     "text": [
      "💾 Intermediate checkpoint saved at step 100\n"
     ]
    },
    {
     "name": "stderr",
     "output_type": "stream",
     "text": [
      "Epoch 1: 1601it [7:11:57, 33.95s/it, mse_loss=16.2810, lr=1.00e-05]"
     ]
    },
    {
     "name": "stdout",
     "output_type": "stream",
     "text": [
      "💾 Intermediate checkpoint saved at step 100\n"
     ]
    },
    {
     "name": "stderr",
     "output_type": "stream",
     "text": [
      "Epoch 1: 1602it [7:12:45, 38.17s/it, mse_loss=7.6403, lr=1.00e-05] "
     ]
    },
    {
     "name": "stdout",
     "output_type": "stream",
     "text": [
      "💾 Intermediate checkpoint saved at step 100\n"
     ]
    },
    {
     "name": "stderr",
     "output_type": "stream",
     "text": [
      "Epoch 1: 1603it [7:13:33, 40.98s/it, mse_loss=3.3566, lr=1.00e-05]"
     ]
    },
    {
     "name": "stdout",
     "output_type": "stream",
     "text": [
      "💾 Intermediate checkpoint saved at step 100\n"
     ]
    },
    {
     "name": "stderr",
     "output_type": "stream",
     "text": [
      "Epoch 1: 1604it [7:14:22, 43.41s/it, mse_loss=10.8867, lr=1.00e-05]"
     ]
    },
    {
     "name": "stdout",
     "output_type": "stream",
     "text": [
      "💾 Intermediate checkpoint saved at step 100\n"
     ]
    },
    {
     "name": "stderr",
     "output_type": "stream",
     "text": [
      "Epoch 1: 1605it [7:15:09, 44.53s/it, mse_loss=2.1233, lr=1.00e-05] "
     ]
    },
    {
     "name": "stdout",
     "output_type": "stream",
     "text": [
      "💾 Intermediate checkpoint saved at step 100\n"
     ]
    },
    {
     "name": "stderr",
     "output_type": "stream",
     "text": [
      "Epoch 1: 1606it [7:15:57, 45.68s/it, mse_loss=6.8280, lr=1.00e-05]"
     ]
    },
    {
     "name": "stdout",
     "output_type": "stream",
     "text": [
      "💾 Intermediate checkpoint saved at step 100\n"
     ]
    },
    {
     "name": "stderr",
     "output_type": "stream",
     "text": [
      "Epoch 1: 1607it [7:16:45, 46.16s/it, mse_loss=8.6281, lr=1.00e-05]"
     ]
    },
    {
     "name": "stdout",
     "output_type": "stream",
     "text": [
      "💾 Intermediate checkpoint saved at step 100\n"
     ]
    },
    {
     "name": "stderr",
     "output_type": "stream",
     "text": [
      "Epoch 1: 1608it [7:17:33, 46.69s/it, mse_loss=5.1079, lr=1.00e-05]"
     ]
    },
    {
     "name": "stdout",
     "output_type": "stream",
     "text": [
      "💾 Intermediate checkpoint saved at step 100\n"
     ]
    },
    {
     "name": "stderr",
     "output_type": "stream",
     "text": [
      "Epoch 1: 1609it [7:18:20, 46.88s/it, mse_loss=10.8158, lr=1.00e-05]"
     ]
    },
    {
     "name": "stdout",
     "output_type": "stream",
     "text": [
      "💾 Intermediate checkpoint saved at step 100\n"
     ]
    },
    {
     "name": "stderr",
     "output_type": "stream",
     "text": [
      "Epoch 1: 1610it [7:19:08, 47.26s/it, mse_loss=6.4729, lr=1.00e-05] "
     ]
    },
    {
     "name": "stdout",
     "output_type": "stream",
     "text": [
      "💾 Intermediate checkpoint saved at step 100\n"
     ]
    },
    {
     "name": "stderr",
     "output_type": "stream",
     "text": [
      "Epoch 1: 1611it [7:19:56, 47.59s/it, mse_loss=4.1859, lr=1.00e-05]"
     ]
    },
    {
     "name": "stdout",
     "output_type": "stream",
     "text": [
      "💾 Intermediate checkpoint saved at step 100\n"
     ]
    },
    {
     "name": "stderr",
     "output_type": "stream",
     "text": [
      "Epoch 1: 1612it [7:20:44, 47.55s/it, mse_loss=3.0339, lr=1.00e-05]"
     ]
    },
    {
     "name": "stdout",
     "output_type": "stream",
     "text": [
      "💾 Intermediate checkpoint saved at step 100\n"
     ]
    },
    {
     "name": "stderr",
     "output_type": "stream",
     "text": [
      "Epoch 1: 1613it [7:21:32, 47.75s/it, mse_loss=6.5297, lr=1.00e-05]"
     ]
    },
    {
     "name": "stdout",
     "output_type": "stream",
     "text": [
      "💾 Intermediate checkpoint saved at step 100\n"
     ]
    },
    {
     "name": "stderr",
     "output_type": "stream",
     "text": [
      "Epoch 1: 1614it [7:22:19, 47.54s/it, mse_loss=4.2595, lr=1.00e-05]"
     ]
    },
    {
     "name": "stdout",
     "output_type": "stream",
     "text": [
      "💾 Intermediate checkpoint saved at step 100\n"
     ]
    },
    {
     "name": "stderr",
     "output_type": "stream",
     "text": [
      "Epoch 1: 1615it [7:23:08, 47.84s/it, mse_loss=3.4977, lr=1.00e-05]"
     ]
    },
    {
     "name": "stdout",
     "output_type": "stream",
     "text": [
      "💾 Intermediate checkpoint saved at step 100\n"
     ]
    },
    {
     "name": "stderr",
     "output_type": "stream",
     "text": [
      "Epoch 1: 2314it [10:21:20, 15.25s/it, mse_loss=9.3583, lr=1.00e-05] IOPub message rate exceeded.\n",
      "The Jupyter server will temporarily stop sending output\n",
      "to the client in order to avoid crashing it.\n",
      "To change this limit, set the config variable\n",
      "`--ServerApp.iopub_msg_rate_limit`.\n",
      "\n",
      "Current values:\n",
      "ServerApp.iopub_msg_rate_limit=1000.0 (msgs/sec)\n",
      "ServerApp.rate_limit_window=3.0 (secs)\n",
      "\n",
      "Epoch 1: 3200it [14:16:32, 27.53s/it, mse_loss=4.0456, lr=1.00e-05] "
     ]
    },
    {
     "name": "stdout",
     "output_type": "stream",
     "text": [
      "💾 Intermediate checkpoint saved at step 200\n"
     ]
    },
    {
     "name": "stderr",
     "output_type": "stream",
     "text": [
      "Epoch 1: 3201it [14:17:23, 34.38s/it, mse_loss=8.0168, lr=1.00e-05]"
     ]
    },
    {
     "name": "stdout",
     "output_type": "stream",
     "text": [
      "💾 Intermediate checkpoint saved at step 200\n"
     ]
    },
    {
     "name": "stderr",
     "output_type": "stream",
     "text": [
      "Epoch 1: 3202it [14:18:11, 38.61s/it, mse_loss=9.0682, lr=1.00e-05]"
     ]
    },
    {
     "name": "stdout",
     "output_type": "stream",
     "text": [
      "💾 Intermediate checkpoint saved at step 200\n"
     ]
    },
    {
     "name": "stderr",
     "output_type": "stream",
     "text": [
      "Epoch 1: 3203it [14:19:01, 41.78s/it, mse_loss=11.9046, lr=1.00e-05]"
     ]
    },
    {
     "name": "stdout",
     "output_type": "stream",
     "text": [
      "💾 Intermediate checkpoint saved at step 200\n"
     ]
    },
    {
     "name": "stderr",
     "output_type": "stream",
     "text": [
      "Epoch 1: 3204it [14:19:51, 44.51s/it, mse_loss=3.6593, lr=1.00e-05] "
     ]
    },
    {
     "name": "stdout",
     "output_type": "stream",
     "text": [
      "💾 Intermediate checkpoint saved at step 200\n"
     ]
    },
    {
     "name": "stderr",
     "output_type": "stream",
     "text": [
      "Epoch 1: 3205it [14:20:42, 46.36s/it, mse_loss=8.7578, lr=1.00e-05]"
     ]
    },
    {
     "name": "stdout",
     "output_type": "stream",
     "text": [
      "💾 Intermediate checkpoint saved at step 200\n"
     ]
    },
    {
     "name": "stderr",
     "output_type": "stream",
     "text": [
      "Epoch 1: 3206it [14:21:34, 47.96s/it, mse_loss=10.1861, lr=1.00e-05]"
     ]
    },
    {
     "name": "stdout",
     "output_type": "stream",
     "text": [
      "💾 Intermediate checkpoint saved at step 200\n"
     ]
    },
    {
     "name": "stderr",
     "output_type": "stream",
     "text": [
      "Epoch 1: 3207it [14:22:25, 48.98s/it, mse_loss=6.8024, lr=1.00e-05] "
     ]
    },
    {
     "name": "stdout",
     "output_type": "stream",
     "text": [
      "💾 Intermediate checkpoint saved at step 200\n"
     ]
    },
    {
     "name": "stderr",
     "output_type": "stream",
     "text": [
      "Epoch 1: 3208it [14:23:16, 49.58s/it, mse_loss=8.3051, lr=1.00e-05]"
     ]
    },
    {
     "name": "stdout",
     "output_type": "stream",
     "text": [
      "💾 Intermediate checkpoint saved at step 200\n"
     ]
    },
    {
     "name": "stderr",
     "output_type": "stream",
     "text": [
      "Epoch 1: 3209it [14:24:08, 50.37s/it, mse_loss=15.9658, lr=1.00e-05]"
     ]
    },
    {
     "name": "stdout",
     "output_type": "stream",
     "text": [
      "💾 Intermediate checkpoint saved at step 200\n"
     ]
    },
    {
     "name": "stderr",
     "output_type": "stream",
     "text": [
      "Epoch 1: 3210it [14:24:59, 50.42s/it, mse_loss=2.5724, lr=1.00e-05] "
     ]
    },
    {
     "name": "stdout",
     "output_type": "stream",
     "text": [
      "💾 Intermediate checkpoint saved at step 200\n"
     ]
    },
    {
     "name": "stderr",
     "output_type": "stream",
     "text": [
      "Epoch 1: 3211it [14:25:49, 50.44s/it, mse_loss=3.4607, lr=1.00e-05]"
     ]
    },
    {
     "name": "stdout",
     "output_type": "stream",
     "text": [
      "💾 Intermediate checkpoint saved at step 200\n"
     ]
    },
    {
     "name": "stderr",
     "output_type": "stream",
     "text": [
      "Epoch 1: 3212it [14:26:39, 50.17s/it, mse_loss=4.8585, lr=1.00e-05]"
     ]
    },
    {
     "name": "stdout",
     "output_type": "stream",
     "text": [
      "💾 Intermediate checkpoint saved at step 200\n"
     ]
    },
    {
     "name": "stderr",
     "output_type": "stream",
     "text": [
      "Epoch 1: 3213it [14:27:32, 50.91s/it, mse_loss=3.1029, lr=1.00e-05]"
     ]
    },
    {
     "name": "stdout",
     "output_type": "stream",
     "text": [
      "💾 Intermediate checkpoint saved at step 200\n"
     ]
    },
    {
     "name": "stderr",
     "output_type": "stream",
     "text": [
      "Epoch 1: 3214it [14:28:25, 51.58s/it, mse_loss=8.4961, lr=1.00e-05]"
     ]
    },
    {
     "name": "stdout",
     "output_type": "stream",
     "text": [
      "💾 Intermediate checkpoint saved at step 200\n"
     ]
    },
    {
     "name": "stderr",
     "output_type": "stream",
     "text": [
      "Epoch 1: 3215it [14:29:16, 51.60s/it, mse_loss=4.8578, lr=1.00e-05]"
     ]
    },
    {
     "name": "stdout",
     "output_type": "stream",
     "text": [
      "💾 Intermediate checkpoint saved at step 200\n"
     ]
    },
    {
     "name": "stderr",
     "output_type": "stream",
     "text": [
      "Epoch 1: 4000it [17:49:46, 31.70s/it, mse_loss=7.0828, lr=1.00e-05] "
     ]
    },
    {
     "name": "stdout",
     "output_type": "stream",
     "text": [
      "💾 Intermediate checkpoint saved at step 250\n"
     ]
    },
    {
     "name": "stderr",
     "output_type": "stream",
     "text": [
      "Epoch 1: 4001it [17:50:35, 36.83s/it, mse_loss=3.8583, lr=1.00e-05]"
     ]
    },
    {
     "name": "stdout",
     "output_type": "stream",
     "text": [
      "💾 Intermediate checkpoint saved at step 250\n"
     ]
    },
    {
     "name": "stderr",
     "output_type": "stream",
     "text": [
      "Epoch 1: 4002it [17:51:23, 40.37s/it, mse_loss=18.2065, lr=1.00e-05]"
     ]
    },
    {
     "name": "stdout",
     "output_type": "stream",
     "text": [
      "💾 Intermediate checkpoint saved at step 250\n"
     ]
    },
    {
     "name": "stderr",
     "output_type": "stream",
     "text": [
      "Epoch 1: 4003it [17:52:13, 43.23s/it, mse_loss=4.6615, lr=1.00e-05] "
     ]
    },
    {
     "name": "stdout",
     "output_type": "stream",
     "text": [
      "💾 Intermediate checkpoint saved at step 250\n"
     ]
    },
    {
     "name": "stderr",
     "output_type": "stream",
     "text": [
      "Epoch 1: 4004it [17:53:02, 44.77s/it, mse_loss=9.0580, lr=1.00e-05]"
     ]
    },
    {
     "name": "stdout",
     "output_type": "stream",
     "text": [
      "💾 Intermediate checkpoint saved at step 250\n"
     ]
    },
    {
     "name": "stderr",
     "output_type": "stream",
     "text": [
      "Epoch 1: 4005it [17:53:51, 45.98s/it, mse_loss=7.6372, lr=1.00e-05]"
     ]
    },
    {
     "name": "stdout",
     "output_type": "stream",
     "text": [
      "💾 Intermediate checkpoint saved at step 250\n"
     ]
    },
    {
     "name": "stderr",
     "output_type": "stream",
     "text": [
      "Epoch 1: 4006it [17:54:44, 48.09s/it, mse_loss=6.5212, lr=1.00e-05]"
     ]
    },
    {
     "name": "stdout",
     "output_type": "stream",
     "text": [
      "💾 Intermediate checkpoint saved at step 250\n"
     ]
    },
    {
     "name": "stderr",
     "output_type": "stream",
     "text": [
      "Epoch 1: 4007it [17:55:34, 48.93s/it, mse_loss=10.7303, lr=1.00e-05]"
     ]
    },
    {
     "name": "stdout",
     "output_type": "stream",
     "text": [
      "💾 Intermediate checkpoint saved at step 250\n"
     ]
    },
    {
     "name": "stderr",
     "output_type": "stream",
     "text": [
      "Epoch 1: 4008it [17:56:25, 49.34s/it, mse_loss=6.4633, lr=1.00e-05] "
     ]
    },
    {
     "name": "stdout",
     "output_type": "stream",
     "text": [
      "💾 Intermediate checkpoint saved at step 250\n"
     ]
    },
    {
     "name": "stderr",
     "output_type": "stream",
     "text": [
      "Epoch 1: 4009it [17:57:13, 49.00s/it, mse_loss=3.8439, lr=1.00e-05]"
     ]
    },
    {
     "name": "stdout",
     "output_type": "stream",
     "text": [
      "💾 Intermediate checkpoint saved at step 250\n"
     ]
    },
    {
     "name": "stderr",
     "output_type": "stream",
     "text": [
      "Epoch 1: 4010it [17:58:02, 48.95s/it, mse_loss=15.3019, lr=1.00e-05]"
     ]
    },
    {
     "name": "stdout",
     "output_type": "stream",
     "text": [
      "💾 Intermediate checkpoint saved at step 250\n"
     ]
    },
    {
     "name": "stderr",
     "output_type": "stream",
     "text": [
      "Epoch 1: 4011it [17:58:51, 49.02s/it, mse_loss=4.4576, lr=1.00e-05] "
     ]
    },
    {
     "name": "stdout",
     "output_type": "stream",
     "text": [
      "💾 Intermediate checkpoint saved at step 250\n"
     ]
    },
    {
     "name": "stderr",
     "output_type": "stream",
     "text": [
      "Epoch 1: 4012it [17:59:40, 49.09s/it, mse_loss=2.4540, lr=1.00e-05]"
     ]
    },
    {
     "name": "stdout",
     "output_type": "stream",
     "text": [
      "💾 Intermediate checkpoint saved at step 250\n"
     ]
    },
    {
     "name": "stderr",
     "output_type": "stream",
     "text": [
      "Epoch 1: 4013it [18:00:41, 52.51s/it, mse_loss=3.6303, lr=1.00e-05]"
     ]
    },
    {
     "name": "stdout",
     "output_type": "stream",
     "text": [
      "💾 Intermediate checkpoint saved at step 250\n"
     ]
    },
    {
     "name": "stderr",
     "output_type": "stream",
     "text": [
      "Epoch 1: 4014it [18:01:30, 51.60s/it, mse_loss=11.4289, lr=1.00e-05]"
     ]
    },
    {
     "name": "stdout",
     "output_type": "stream",
     "text": [
      "💾 Intermediate checkpoint saved at step 250\n"
     ]
    },
    {
     "name": "stderr",
     "output_type": "stream",
     "text": [
      "Epoch 1: 4015it [18:02:19, 50.65s/it, mse_loss=4.9366, lr=1.00e-05] "
     ]
    },
    {
     "name": "stdout",
     "output_type": "stream",
     "text": [
      "💾 Intermediate checkpoint saved at step 250\n"
     ]
    },
    {
     "name": "stderr",
     "output_type": "stream",
     "text": [
      "Epoch 1: 4800it [21:22:14, 27.28s/it, mse_loss=3.8142, lr=1.00e-05] "
     ]
    },
    {
     "name": "stdout",
     "output_type": "stream",
     "text": [
      "💾 Intermediate checkpoint saved at step 300\n"
     ]
    },
    {
     "name": "stderr",
     "output_type": "stream",
     "text": [
      "Epoch 1: 4801it [21:23:02, 33.57s/it, mse_loss=2.1474, lr=1.00e-05]"
     ]
    },
    {
     "name": "stdout",
     "output_type": "stream",
     "text": [
      "💾 Intermediate checkpoint saved at step 300\n"
     ]
    },
    {
     "name": "stderr",
     "output_type": "stream",
     "text": [
      "Epoch 1: 4802it [21:23:50, 37.93s/it, mse_loss=4.7962, lr=1.00e-05]"
     ]
    },
    {
     "name": "stdout",
     "output_type": "stream",
     "text": [
      "💾 Intermediate checkpoint saved at step 300\n"
     ]
    },
    {
     "name": "stderr",
     "output_type": "stream",
     "text": [
      "Epoch 1: 4803it [21:24:38, 40.78s/it, mse_loss=5.1736, lr=1.00e-05]"
     ]
    },
    {
     "name": "stdout",
     "output_type": "stream",
     "text": [
      "💾 Intermediate checkpoint saved at step 300\n"
     ]
    },
    {
     "name": "stderr",
     "output_type": "stream",
     "text": [
      "Epoch 1: 4804it [21:25:25, 42.67s/it, mse_loss=5.5288, lr=1.00e-05]"
     ]
    },
    {
     "name": "stdout",
     "output_type": "stream",
     "text": [
      "💾 Intermediate checkpoint saved at step 300\n"
     ]
    },
    {
     "name": "stderr",
     "output_type": "stream",
     "text": [
      "Epoch 1: 4805it [21:26:12, 44.15s/it, mse_loss=4.0372, lr=1.00e-05]"
     ]
    },
    {
     "name": "stdout",
     "output_type": "stream",
     "text": [
      "💾 Intermediate checkpoint saved at step 300\n"
     ]
    },
    {
     "name": "stderr",
     "output_type": "stream",
     "text": [
      "Epoch 1: 4806it [21:27:00, 45.09s/it, mse_loss=3.9153, lr=1.00e-05]"
     ]
    },
    {
     "name": "stdout",
     "output_type": "stream",
     "text": [
      "💾 Intermediate checkpoint saved at step 300\n"
     ]
    },
    {
     "name": "stderr",
     "output_type": "stream",
     "text": [
      "Epoch 1: 4807it [21:27:47, 45.74s/it, mse_loss=7.9505, lr=1.00e-05]"
     ]
    },
    {
     "name": "stdout",
     "output_type": "stream",
     "text": [
      "💾 Intermediate checkpoint saved at step 300\n"
     ]
    },
    {
     "name": "stderr",
     "output_type": "stream",
     "text": [
      "Epoch 1: 4808it [21:28:34, 46.20s/it, mse_loss=3.2280, lr=1.00e-05]"
     ]
    },
    {
     "name": "stdout",
     "output_type": "stream",
     "text": [
      "💾 Intermediate checkpoint saved at step 300\n"
     ]
    },
    {
     "name": "stderr",
     "output_type": "stream",
     "text": [
      "Epoch 1: 4809it [21:29:22, 46.59s/it, mse_loss=6.1844, lr=1.00e-05]"
     ]
    },
    {
     "name": "stdout",
     "output_type": "stream",
     "text": [
      "💾 Intermediate checkpoint saved at step 300\n"
     ]
    },
    {
     "name": "stderr",
     "output_type": "stream",
     "text": [
      "Epoch 1: 4810it [21:30:09, 46.77s/it, mse_loss=9.6430, lr=1.00e-05]"
     ]
    },
    {
     "name": "stdout",
     "output_type": "stream",
     "text": [
      "💾 Intermediate checkpoint saved at step 300\n"
     ]
    },
    {
     "name": "stderr",
     "output_type": "stream",
     "text": [
      "Epoch 1: 4811it [21:30:56, 46.92s/it, mse_loss=17.6454, lr=1.00e-05]"
     ]
    },
    {
     "name": "stdout",
     "output_type": "stream",
     "text": [
      "💾 Intermediate checkpoint saved at step 300\n"
     ]
    },
    {
     "name": "stderr",
     "output_type": "stream",
     "text": [
      "Epoch 1: 4812it [21:31:43, 47.03s/it, mse_loss=3.3851, lr=1.00e-05] "
     ]
    },
    {
     "name": "stdout",
     "output_type": "stream",
     "text": [
      "💾 Intermediate checkpoint saved at step 300\n"
     ]
    },
    {
     "name": "stderr",
     "output_type": "stream",
     "text": [
      "Epoch 1: 4813it [21:32:31, 47.11s/it, mse_loss=3.6576, lr=1.00e-05]"
     ]
    },
    {
     "name": "stdout",
     "output_type": "stream",
     "text": [
      "💾 Intermediate checkpoint saved at step 300\n"
     ]
    },
    {
     "name": "stderr",
     "output_type": "stream",
     "text": [
      "Epoch 1: 4814it [21:33:18, 47.11s/it, mse_loss=11.5380, lr=1.00e-05]"
     ]
    },
    {
     "name": "stdout",
     "output_type": "stream",
     "text": [
      "💾 Intermediate checkpoint saved at step 300\n"
     ]
    },
    {
     "name": "stderr",
     "output_type": "stream",
     "text": [
      "Epoch 1: 4815it [21:34:05, 47.11s/it, mse_loss=5.9708, lr=1.00e-05] "
     ]
    },
    {
     "name": "stdout",
     "output_type": "stream",
     "text": [
      "💾 Intermediate checkpoint saved at step 300\n"
     ]
    },
    {
     "name": "stderr",
     "output_type": "stream",
     "text": [
      "Epoch 1: 5600it [24:54:05, 30.67s/it, mse_loss=11.8278, lr=1.00e-05]"
     ]
    },
    {
     "name": "stdout",
     "output_type": "stream",
     "text": [
      "💾 Intermediate checkpoint saved at step 350\n"
     ]
    },
    {
     "name": "stderr",
     "output_type": "stream",
     "text": [
      "Epoch 1: 5601it [24:54:58, 37.58s/it, mse_loss=5.3501, lr=1.00e-05] "
     ]
    },
    {
     "name": "stdout",
     "output_type": "stream",
     "text": [
      "💾 Intermediate checkpoint saved at step 350\n"
     ]
    },
    {
     "name": "stderr",
     "output_type": "stream",
     "text": [
      "Epoch 1: 5602it [24:55:52, 42.32s/it, mse_loss=5.5973, lr=1.00e-05]"
     ]
    },
    {
     "name": "stdout",
     "output_type": "stream",
     "text": [
      "💾 Intermediate checkpoint saved at step 350\n"
     ]
    },
    {
     "name": "stderr",
     "output_type": "stream",
     "text": [
      "Epoch 1: 5603it [24:56:40, 44.18s/it, mse_loss=2.4236, lr=1.00e-05]"
     ]
    },
    {
     "name": "stdout",
     "output_type": "stream",
     "text": [
      "💾 Intermediate checkpoint saved at step 350\n"
     ]
    },
    {
     "name": "stderr",
     "output_type": "stream",
     "text": [
      "Epoch 1: 5604it [24:57:27, 45.02s/it, mse_loss=7.4366, lr=1.00e-05]"
     ]
    },
    {
     "name": "stdout",
     "output_type": "stream",
     "text": [
      "💾 Intermediate checkpoint saved at step 350\n"
     ]
    },
    {
     "name": "stderr",
     "output_type": "stream",
     "text": [
      "Epoch 1: 5605it [24:58:21, 47.54s/it, mse_loss=3.9631, lr=1.00e-05]"
     ]
    },
    {
     "name": "stdout",
     "output_type": "stream",
     "text": [
      "💾 Intermediate checkpoint saved at step 350\n"
     ]
    },
    {
     "name": "stderr",
     "output_type": "stream",
     "text": [
      "Epoch 1: 5606it [24:59:11, 48.34s/it, mse_loss=8.6140, lr=1.00e-05]"
     ]
    },
    {
     "name": "stdout",
     "output_type": "stream",
     "text": [
      "💾 Intermediate checkpoint saved at step 350\n"
     ]
    },
    {
     "name": "stderr",
     "output_type": "stream",
     "text": [
      "Epoch 1: 5607it [24:59:58, 47.90s/it, mse_loss=3.1945, lr=1.00e-05]"
     ]
    },
    {
     "name": "stdout",
     "output_type": "stream",
     "text": [
      "💾 Intermediate checkpoint saved at step 350\n"
     ]
    },
    {
     "name": "stderr",
     "output_type": "stream",
     "text": [
      "Epoch 1: 5608it [25:00:52, 49.68s/it, mse_loss=4.5742, lr=1.00e-05]"
     ]
    },
    {
     "name": "stdout",
     "output_type": "stream",
     "text": [
      "💾 Intermediate checkpoint saved at step 350\n"
     ]
    },
    {
     "name": "stderr",
     "output_type": "stream",
     "text": [
      "Epoch 1: 5609it [25:01:40, 49.40s/it, mse_loss=3.7722, lr=1.00e-05]"
     ]
    },
    {
     "name": "stdout",
     "output_type": "stream",
     "text": [
      "💾 Intermediate checkpoint saved at step 350\n"
     ]
    },
    {
     "name": "stderr",
     "output_type": "stream",
     "text": [
      "Epoch 1: 5610it [25:02:59, 58.05s/it, mse_loss=9.8199, lr=1.00e-05]"
     ]
    },
    {
     "name": "stdout",
     "output_type": "stream",
     "text": [
      "💾 Intermediate checkpoint saved at step 350\n"
     ]
    },
    {
     "name": "stderr",
     "output_type": "stream",
     "text": [
      "Epoch 1: 5611it [25:03:47, 55.14s/it, mse_loss=7.1927, lr=1.00e-05]"
     ]
    },
    {
     "name": "stdout",
     "output_type": "stream",
     "text": [
      "💾 Intermediate checkpoint saved at step 350\n"
     ]
    },
    {
     "name": "stderr",
     "output_type": "stream",
     "text": [
      "Epoch 1: 5612it [25:04:35, 53.13s/it, mse_loss=17.6045, lr=1.00e-05]"
     ]
    },
    {
     "name": "stdout",
     "output_type": "stream",
     "text": [
      "💾 Intermediate checkpoint saved at step 350\n"
     ]
    },
    {
     "name": "stderr",
     "output_type": "stream",
     "text": [
      "Epoch 1: 5613it [25:05:24, 51.80s/it, mse_loss=14.8316, lr=1.00e-05]"
     ]
    },
    {
     "name": "stdout",
     "output_type": "stream",
     "text": [
      "💾 Intermediate checkpoint saved at step 350\n"
     ]
    },
    {
     "name": "stderr",
     "output_type": "stream",
     "text": [
      "Epoch 1: 5614it [25:06:13, 50.89s/it, mse_loss=3.0765, lr=1.00e-05] "
     ]
    },
    {
     "name": "stdout",
     "output_type": "stream",
     "text": [
      "💾 Intermediate checkpoint saved at step 350\n"
     ]
    },
    {
     "name": "stderr",
     "output_type": "stream",
     "text": [
      "Epoch 1: 5615it [25:07:01, 50.10s/it, mse_loss=6.2878, lr=1.00e-05]"
     ]
    },
    {
     "name": "stdout",
     "output_type": "stream",
     "text": [
      "💾 Intermediate checkpoint saved at step 350\n"
     ]
    },
    {
     "name": "stderr",
     "output_type": "stream",
     "text": [
      "Epoch 1: 5677it [25:22:49, 16.09s/it, mse_loss=3.6801, lr=1.00e-05] \n"
     ]
    },
    {
     "ename": "KeyboardInterrupt",
     "evalue": "",
     "output_type": "error",
     "traceback": [
      "\u001b[0;31m---------------------------------------------------------------------------\u001b[0m",
      "\u001b[0;31mKeyboardInterrupt\u001b[0m                         Traceback (most recent call last)",
      "Cell \u001b[0;32mIn[41], line 2\u001b[0m\n\u001b[1;32m      1\u001b[0m \u001b[38;5;66;03m# Train the model\u001b[39;00m\n\u001b[0;32m----> 2\u001b[0m training_results \u001b[38;5;241m=\u001b[39m \u001b[43mtrain_model_custom\u001b[49m\u001b[43m(\u001b[49m\n\u001b[1;32m      3\u001b[0m \u001b[43m    \u001b[49m\u001b[43mmodel\u001b[49m\u001b[38;5;241;43m=\u001b[39;49m\u001b[43mmodel\u001b[49m\u001b[43m,\u001b[49m\n\u001b[1;32m      4\u001b[0m \u001b[43m    \u001b[49m\u001b[43mtokenizer\u001b[49m\u001b[38;5;241;43m=\u001b[39;49m\u001b[43mtokenizer\u001b[49m\u001b[43m,\u001b[49m\n\u001b[1;32m      5\u001b[0m \u001b[43m    \u001b[49m\u001b[43mtrain_loader\u001b[49m\u001b[38;5;241;43m=\u001b[39;49m\u001b[43mtrain_loader\u001b[49m\u001b[43m,\u001b[49m\n\u001b[1;32m      6\u001b[0m \u001b[43m    \u001b[49m\u001b[43mval_loader\u001b[49m\u001b[38;5;241;43m=\u001b[39;49m\u001b[43mvalid_loader\u001b[49m\u001b[43m,\u001b[49m\n\u001b[1;32m      7\u001b[0m \u001b[43m    \u001b[49m\u001b[43mtest_loader\u001b[49m\u001b[38;5;241;43m=\u001b[39;49m\u001b[43mtest_loader\u001b[49m\u001b[43m,\u001b[49m\n\u001b[1;32m      8\u001b[0m \u001b[43m    \u001b[49m\u001b[43mnum_epochs\u001b[49m\u001b[38;5;241;43m=\u001b[39;49m\u001b[38;5;241;43m3\u001b[39;49m\u001b[43m,\u001b[49m\n\u001b[1;32m      9\u001b[0m \u001b[43m    \u001b[49m\u001b[43mlearning_rate\u001b[49m\u001b[38;5;241;43m=\u001b[39;49m\u001b[38;5;241;43m1e-5\u001b[39;49m\u001b[43m,\u001b[49m\n\u001b[1;32m     10\u001b[0m \u001b[43m    \u001b[49m\u001b[38;5;66;43;03m# batch_size=1,  # Start small due to memory constraints\u001b[39;49;00m\n\u001b[1;32m     11\u001b[0m \n\u001b[1;32m     12\u001b[0m \u001b[43m    \u001b[49m\u001b[43mdevice\u001b[49m\u001b[38;5;241;43m=\u001b[39;49m\u001b[43mdevice\u001b[49m\u001b[43m,\u001b[49m\n\u001b[1;32m     13\u001b[0m \u001b[43m    \u001b[49m\u001b[43muse_wandb\u001b[49m\u001b[38;5;241;43m=\u001b[39;49m\u001b[38;5;28;43;01mFalse\u001b[39;49;00m\u001b[43m,\u001b[49m\u001b[43m  \u001b[49m\n\u001b[1;32m     14\u001b[0m \u001b[43m    \u001b[49m\u001b[43mgradient_accumulation_steps\u001b[49m\u001b[38;5;241;43m=\u001b[39;49m\u001b[38;5;241;43m16\u001b[39;49m\u001b[43m,\u001b[49m\u001b[43m  \u001b[49m\u001b[38;5;66;43;03m# Effective batch size = 1 * 8 = 8\u001b[39;49;00m\n\u001b[1;32m     15\u001b[0m \u001b[43m)\u001b[49m\n",
      "Cell \u001b[0;32mIn[40], line 211\u001b[0m, in \u001b[0;36mtrain_model_custom\u001b[0;34m(model, tokenizer, train_loader, val_loader, test_loader, num_epochs, learning_rate, weight_decay, warmup_steps, max_grad_norm, save_dir, save_steps, early_stopping_patience, device, use_wandb, gradient_accumulation_steps)\u001b[0m\n\u001b[1;32m    207\u001b[0m \u001b[38;5;66;03m# input_ids = input_ids.to(model.dtype)\u001b[39;00m\n\u001b[1;32m    208\u001b[0m \u001b[38;5;66;03m# attention_mask = attention_mask.to(model.dtype)\u001b[39;00m\n\u001b[1;32m    210\u001b[0m \u001b[38;5;28;01mwith\u001b[39;00m torch\u001b[38;5;241m.\u001b[39mcuda\u001b[38;5;241m.\u001b[39mamp\u001b[38;5;241m.\u001b[39mautocast():\n\u001b[0;32m--> 211\u001b[0m     outputs \u001b[38;5;241m=\u001b[39m \u001b[43mmodel\u001b[49m\u001b[43m(\u001b[49m\u001b[43minput_ids\u001b[49m\u001b[38;5;241;43m=\u001b[39;49m\u001b[43minput_ids\u001b[49m\u001b[43m,\u001b[49m\u001b[43mattention_mask\u001b[49m\u001b[38;5;241;43m=\u001b[39;49m\u001b[43mattention_mask\u001b[49m\u001b[43m)\u001b[49m\n\u001b[1;32m    212\u001b[0m     logits \u001b[38;5;241m=\u001b[39m outputs[\u001b[38;5;124m'\u001b[39m\u001b[38;5;124mlogits\u001b[39m\u001b[38;5;124m'\u001b[39m]\n\u001b[1;32m    214\u001b[0m     \u001b[38;5;28;01mif\u001b[39;00m labels\u001b[38;5;241m.\u001b[39mdim() \u001b[38;5;241m>\u001b[39m \u001b[38;5;241m1\u001b[39m:\n",
      "File \u001b[0;32m~/mambaforge/envs/dnalongbench/lib/python3.9/site-packages/torch/nn/modules/module.py:1751\u001b[0m, in \u001b[0;36mModule._wrapped_call_impl\u001b[0;34m(self, *args, **kwargs)\u001b[0m\n\u001b[1;32m   1749\u001b[0m     \u001b[38;5;28;01mreturn\u001b[39;00m \u001b[38;5;28mself\u001b[39m\u001b[38;5;241m.\u001b[39m_compiled_call_impl(\u001b[38;5;241m*\u001b[39margs, \u001b[38;5;241m*\u001b[39m\u001b[38;5;241m*\u001b[39mkwargs)  \u001b[38;5;66;03m# type: ignore[misc]\u001b[39;00m\n\u001b[1;32m   1750\u001b[0m \u001b[38;5;28;01melse\u001b[39;00m:\n\u001b[0;32m-> 1751\u001b[0m     \u001b[38;5;28;01mreturn\u001b[39;00m \u001b[38;5;28;43mself\u001b[39;49m\u001b[38;5;241;43m.\u001b[39;49m\u001b[43m_call_impl\u001b[49m\u001b[43m(\u001b[49m\u001b[38;5;241;43m*\u001b[39;49m\u001b[43margs\u001b[49m\u001b[43m,\u001b[49m\u001b[43m \u001b[49m\u001b[38;5;241;43m*\u001b[39;49m\u001b[38;5;241;43m*\u001b[39;49m\u001b[43mkwargs\u001b[49m\u001b[43m)\u001b[49m\n",
      "File \u001b[0;32m~/mambaforge/envs/dnalongbench/lib/python3.9/site-packages/torch/nn/modules/module.py:1762\u001b[0m, in \u001b[0;36mModule._call_impl\u001b[0;34m(self, *args, **kwargs)\u001b[0m\n\u001b[1;32m   1757\u001b[0m \u001b[38;5;66;03m# If we don't have any hooks, we want to skip the rest of the logic in\u001b[39;00m\n\u001b[1;32m   1758\u001b[0m \u001b[38;5;66;03m# this function, and just call forward.\u001b[39;00m\n\u001b[1;32m   1759\u001b[0m \u001b[38;5;28;01mif\u001b[39;00m \u001b[38;5;129;01mnot\u001b[39;00m (\u001b[38;5;28mself\u001b[39m\u001b[38;5;241m.\u001b[39m_backward_hooks \u001b[38;5;129;01mor\u001b[39;00m \u001b[38;5;28mself\u001b[39m\u001b[38;5;241m.\u001b[39m_backward_pre_hooks \u001b[38;5;129;01mor\u001b[39;00m \u001b[38;5;28mself\u001b[39m\u001b[38;5;241m.\u001b[39m_forward_hooks \u001b[38;5;129;01mor\u001b[39;00m \u001b[38;5;28mself\u001b[39m\u001b[38;5;241m.\u001b[39m_forward_pre_hooks\n\u001b[1;32m   1760\u001b[0m         \u001b[38;5;129;01mor\u001b[39;00m _global_backward_pre_hooks \u001b[38;5;129;01mor\u001b[39;00m _global_backward_hooks\n\u001b[1;32m   1761\u001b[0m         \u001b[38;5;129;01mor\u001b[39;00m _global_forward_hooks \u001b[38;5;129;01mor\u001b[39;00m _global_forward_pre_hooks):\n\u001b[0;32m-> 1762\u001b[0m     \u001b[38;5;28;01mreturn\u001b[39;00m \u001b[43mforward_call\u001b[49m\u001b[43m(\u001b[49m\u001b[38;5;241;43m*\u001b[39;49m\u001b[43margs\u001b[49m\u001b[43m,\u001b[49m\u001b[43m \u001b[49m\u001b[38;5;241;43m*\u001b[39;49m\u001b[38;5;241;43m*\u001b[39;49m\u001b[43mkwargs\u001b[49m\u001b[43m)\u001b[49m\n\u001b[1;32m   1764\u001b[0m result \u001b[38;5;241m=\u001b[39m \u001b[38;5;28;01mNone\u001b[39;00m\n\u001b[1;32m   1765\u001b[0m called_always_called_hooks \u001b[38;5;241m=\u001b[39m \u001b[38;5;28mset\u001b[39m()\n",
      "Cell \u001b[0;32mIn[28], line 53\u001b[0m, in \u001b[0;36mRegulatorySignalPredictor.forward\u001b[0;34m(self, input_ids, attention_mask)\u001b[0m\n\u001b[1;32m     50\u001b[0m sub_input_ids \u001b[38;5;241m=\u001b[39m input_ids[:, start_idx:end_idx]\n\u001b[1;32m     51\u001b[0m sub_attention_mask \u001b[38;5;241m=\u001b[39m attention_mask[:, start_idx:end_idx]\n\u001b[0;32m---> 53\u001b[0m outputs \u001b[38;5;241m=\u001b[39m \u001b[38;5;28;43mself\u001b[39;49m\u001b[38;5;241;43m.\u001b[39;49m\u001b[43mbase_model\u001b[49m\u001b[43m(\u001b[49m\u001b[43minput_ids\u001b[49m\u001b[38;5;241;43m=\u001b[39;49m\u001b[43msub_input_ids\u001b[49m\u001b[43m,\u001b[49m\u001b[43m \u001b[49m\u001b[43mattention_mask\u001b[49m\u001b[38;5;241;43m=\u001b[39;49m\u001b[43msub_attention_mask\u001b[49m\u001b[43m)\u001b[49m\n\u001b[1;32m     54\u001b[0m last_hidden_state \u001b[38;5;241m=\u001b[39m outputs\u001b[38;5;241m.\u001b[39mlast_hidden_state\n\u001b[1;32m     55\u001b[0m cls_embedding \u001b[38;5;241m=\u001b[39m last_hidden_state[:, \u001b[38;5;241m-\u001b[39m\u001b[38;5;241m1\u001b[39m, :]\n",
      "File \u001b[0;32m~/mambaforge/envs/dnalongbench/lib/python3.9/site-packages/torch/nn/modules/module.py:1751\u001b[0m, in \u001b[0;36mModule._wrapped_call_impl\u001b[0;34m(self, *args, **kwargs)\u001b[0m\n\u001b[1;32m   1749\u001b[0m     \u001b[38;5;28;01mreturn\u001b[39;00m \u001b[38;5;28mself\u001b[39m\u001b[38;5;241m.\u001b[39m_compiled_call_impl(\u001b[38;5;241m*\u001b[39margs, \u001b[38;5;241m*\u001b[39m\u001b[38;5;241m*\u001b[39mkwargs)  \u001b[38;5;66;03m# type: ignore[misc]\u001b[39;00m\n\u001b[1;32m   1750\u001b[0m \u001b[38;5;28;01melse\u001b[39;00m:\n\u001b[0;32m-> 1751\u001b[0m     \u001b[38;5;28;01mreturn\u001b[39;00m \u001b[38;5;28;43mself\u001b[39;49m\u001b[38;5;241;43m.\u001b[39;49m\u001b[43m_call_impl\u001b[49m\u001b[43m(\u001b[49m\u001b[38;5;241;43m*\u001b[39;49m\u001b[43margs\u001b[49m\u001b[43m,\u001b[49m\u001b[43m \u001b[49m\u001b[38;5;241;43m*\u001b[39;49m\u001b[38;5;241;43m*\u001b[39;49m\u001b[43mkwargs\u001b[49m\u001b[43m)\u001b[49m\n",
      "File \u001b[0;32m~/mambaforge/envs/dnalongbench/lib/python3.9/site-packages/torch/nn/modules/module.py:1762\u001b[0m, in \u001b[0;36mModule._call_impl\u001b[0;34m(self, *args, **kwargs)\u001b[0m\n\u001b[1;32m   1757\u001b[0m \u001b[38;5;66;03m# If we don't have any hooks, we want to skip the rest of the logic in\u001b[39;00m\n\u001b[1;32m   1758\u001b[0m \u001b[38;5;66;03m# this function, and just call forward.\u001b[39;00m\n\u001b[1;32m   1759\u001b[0m \u001b[38;5;28;01mif\u001b[39;00m \u001b[38;5;129;01mnot\u001b[39;00m (\u001b[38;5;28mself\u001b[39m\u001b[38;5;241m.\u001b[39m_backward_hooks \u001b[38;5;129;01mor\u001b[39;00m \u001b[38;5;28mself\u001b[39m\u001b[38;5;241m.\u001b[39m_backward_pre_hooks \u001b[38;5;129;01mor\u001b[39;00m \u001b[38;5;28mself\u001b[39m\u001b[38;5;241m.\u001b[39m_forward_hooks \u001b[38;5;129;01mor\u001b[39;00m \u001b[38;5;28mself\u001b[39m\u001b[38;5;241m.\u001b[39m_forward_pre_hooks\n\u001b[1;32m   1760\u001b[0m         \u001b[38;5;129;01mor\u001b[39;00m _global_backward_pre_hooks \u001b[38;5;129;01mor\u001b[39;00m _global_backward_hooks\n\u001b[1;32m   1761\u001b[0m         \u001b[38;5;129;01mor\u001b[39;00m _global_forward_hooks \u001b[38;5;129;01mor\u001b[39;00m _global_forward_pre_hooks):\n\u001b[0;32m-> 1762\u001b[0m     \u001b[38;5;28;01mreturn\u001b[39;00m \u001b[43mforward_call\u001b[49m\u001b[43m(\u001b[49m\u001b[38;5;241;43m*\u001b[39;49m\u001b[43margs\u001b[49m\u001b[43m,\u001b[49m\u001b[43m \u001b[49m\u001b[38;5;241;43m*\u001b[39;49m\u001b[38;5;241;43m*\u001b[39;49m\u001b[43mkwargs\u001b[49m\u001b[43m)\u001b[49m\n\u001b[1;32m   1764\u001b[0m result \u001b[38;5;241m=\u001b[39m \u001b[38;5;28;01mNone\u001b[39;00m\n\u001b[1;32m   1765\u001b[0m called_always_called_hooks \u001b[38;5;241m=\u001b[39m \u001b[38;5;28mset\u001b[39m()\n",
      "File \u001b[0;32m~/mambaforge/envs/dnalongbench/lib/python3.9/site-packages/transformers/utils/generic.py:965\u001b[0m, in \u001b[0;36mcan_return_tuple.<locals>.wrapper\u001b[0;34m(self, *args, **kwargs)\u001b[0m\n\u001b[1;32m    962\u001b[0m     set_attribute_for_modules(\u001b[38;5;28mself\u001b[39m, \u001b[38;5;124m\"\u001b[39m\u001b[38;5;124m_is_top_level_module\u001b[39m\u001b[38;5;124m\"\u001b[39m, \u001b[38;5;28;01mFalse\u001b[39;00m)\n\u001b[1;32m    964\u001b[0m \u001b[38;5;28;01mtry\u001b[39;00m:\n\u001b[0;32m--> 965\u001b[0m     output \u001b[38;5;241m=\u001b[39m \u001b[43mfunc\u001b[49m\u001b[43m(\u001b[49m\u001b[38;5;28;43mself\u001b[39;49m\u001b[43m,\u001b[49m\u001b[43m \u001b[49m\u001b[38;5;241;43m*\u001b[39;49m\u001b[43margs\u001b[49m\u001b[43m,\u001b[49m\u001b[43m \u001b[49m\u001b[38;5;241;43m*\u001b[39;49m\u001b[38;5;241;43m*\u001b[39;49m\u001b[43mkwargs\u001b[49m\u001b[43m)\u001b[49m\n\u001b[1;32m    966\u001b[0m     \u001b[38;5;28;01mif\u001b[39;00m is_requested_to_return_tuple \u001b[38;5;129;01mor\u001b[39;00m (is_configured_to_return_tuple \u001b[38;5;129;01mand\u001b[39;00m is_top_level_module):\n\u001b[1;32m    967\u001b[0m         output \u001b[38;5;241m=\u001b[39m output\u001b[38;5;241m.\u001b[39mto_tuple()\n",
      "File \u001b[0;32m~/mambaforge/envs/dnalongbench/lib/python3.9/site-packages/transformers/models/llama/modeling_llama.py:559\u001b[0m, in \u001b[0;36mLlamaModel.forward\u001b[0;34m(self, input_ids, attention_mask, position_ids, past_key_values, inputs_embeds, use_cache, output_attentions, output_hidden_states, cache_position, **flash_attn_kwargs)\u001b[0m\n\u001b[1;32m    556\u001b[0m     all_hidden_states \u001b[38;5;241m+\u001b[39m\u001b[38;5;241m=\u001b[39m (hidden_states,)\n\u001b[1;32m    558\u001b[0m \u001b[38;5;28;01mif\u001b[39;00m \u001b[38;5;28mself\u001b[39m\u001b[38;5;241m.\u001b[39mgradient_checkpointing \u001b[38;5;129;01mand\u001b[39;00m \u001b[38;5;28mself\u001b[39m\u001b[38;5;241m.\u001b[39mtraining:\n\u001b[0;32m--> 559\u001b[0m     layer_outputs \u001b[38;5;241m=\u001b[39m \u001b[38;5;28;43mself\u001b[39;49m\u001b[38;5;241;43m.\u001b[39;49m\u001b[43m_gradient_checkpointing_func\u001b[49m\u001b[43m(\u001b[49m\n\u001b[1;32m    560\u001b[0m \u001b[43m        \u001b[49m\u001b[43mpartial\u001b[49m\u001b[43m(\u001b[49m\u001b[43mdecoder_layer\u001b[49m\u001b[38;5;241;43m.\u001b[39;49m\u001b[38;5;21;43m__call__\u001b[39;49m\u001b[43m,\u001b[49m\u001b[43m \u001b[49m\u001b[38;5;241;43m*\u001b[39;49m\u001b[38;5;241;43m*\u001b[39;49m\u001b[43mflash_attn_kwargs\u001b[49m\u001b[43m)\u001b[49m\u001b[43m,\u001b[49m\n\u001b[1;32m    561\u001b[0m \u001b[43m        \u001b[49m\u001b[43mhidden_states\u001b[49m\u001b[43m,\u001b[49m\n\u001b[1;32m    562\u001b[0m \u001b[43m        \u001b[49m\u001b[43mcausal_mask\u001b[49m\u001b[43m,\u001b[49m\n\u001b[1;32m    563\u001b[0m \u001b[43m        \u001b[49m\u001b[43mposition_ids\u001b[49m\u001b[43m,\u001b[49m\n\u001b[1;32m    564\u001b[0m \u001b[43m        \u001b[49m\u001b[43mpast_key_values\u001b[49m\u001b[43m,\u001b[49m\n\u001b[1;32m    565\u001b[0m \u001b[43m        \u001b[49m\u001b[43moutput_attentions\u001b[49m\u001b[43m,\u001b[49m\n\u001b[1;32m    566\u001b[0m \u001b[43m        \u001b[49m\u001b[43muse_cache\u001b[49m\u001b[43m,\u001b[49m\n\u001b[1;32m    567\u001b[0m \u001b[43m        \u001b[49m\u001b[43mcache_position\u001b[49m\u001b[43m,\u001b[49m\n\u001b[1;32m    568\u001b[0m \u001b[43m        \u001b[49m\u001b[43mposition_embeddings\u001b[49m\u001b[43m,\u001b[49m\n\u001b[1;32m    569\u001b[0m \u001b[43m    \u001b[49m\u001b[43m)\u001b[49m\n\u001b[1;32m    570\u001b[0m \u001b[38;5;28;01melse\u001b[39;00m:\n\u001b[1;32m    571\u001b[0m     layer_outputs \u001b[38;5;241m=\u001b[39m decoder_layer(\n\u001b[1;32m    572\u001b[0m         hidden_states,\n\u001b[1;32m    573\u001b[0m         attention_mask\u001b[38;5;241m=\u001b[39mcausal_mask,\n\u001b[0;32m   (...)\u001b[0m\n\u001b[1;32m    580\u001b[0m         \u001b[38;5;241m*\u001b[39m\u001b[38;5;241m*\u001b[39mflash_attn_kwargs,\n\u001b[1;32m    581\u001b[0m     )\n",
      "File \u001b[0;32m~/mambaforge/envs/dnalongbench/lib/python3.9/site-packages/torch/_compile.py:51\u001b[0m, in \u001b[0;36m_disable_dynamo.<locals>.inner\u001b[0;34m(*args, **kwargs)\u001b[0m\n\u001b[1;32m     48\u001b[0m     disable_fn \u001b[38;5;241m=\u001b[39m torch\u001b[38;5;241m.\u001b[39m_dynamo\u001b[38;5;241m.\u001b[39mdisable(fn, recursive)\n\u001b[1;32m     49\u001b[0m     fn\u001b[38;5;241m.\u001b[39m__dynamo_disable \u001b[38;5;241m=\u001b[39m disable_fn  \u001b[38;5;66;03m# type: ignore[attr-defined]\u001b[39;00m\n\u001b[0;32m---> 51\u001b[0m \u001b[38;5;28;01mreturn\u001b[39;00m \u001b[43mdisable_fn\u001b[49m\u001b[43m(\u001b[49m\u001b[38;5;241;43m*\u001b[39;49m\u001b[43margs\u001b[49m\u001b[43m,\u001b[49m\u001b[43m \u001b[49m\u001b[38;5;241;43m*\u001b[39;49m\u001b[38;5;241;43m*\u001b[39;49m\u001b[43mkwargs\u001b[49m\u001b[43m)\u001b[49m\n",
      "File \u001b[0;32m~/mambaforge/envs/dnalongbench/lib/python3.9/site-packages/torch/_dynamo/eval_frame.py:838\u001b[0m, in \u001b[0;36mDisableContext.__call__.<locals>._fn\u001b[0;34m(*args, **kwargs)\u001b[0m\n\u001b[1;32m    836\u001b[0m _maybe_set_eval_frame(_callback_from_stance(\u001b[38;5;28mself\u001b[39m\u001b[38;5;241m.\u001b[39mcallback))\n\u001b[1;32m    837\u001b[0m \u001b[38;5;28;01mtry\u001b[39;00m:\n\u001b[0;32m--> 838\u001b[0m     \u001b[38;5;28;01mreturn\u001b[39;00m \u001b[43mfn\u001b[49m\u001b[43m(\u001b[49m\u001b[38;5;241;43m*\u001b[39;49m\u001b[43margs\u001b[49m\u001b[43m,\u001b[49m\u001b[43m \u001b[49m\u001b[38;5;241;43m*\u001b[39;49m\u001b[38;5;241;43m*\u001b[39;49m\u001b[43mkwargs\u001b[49m\u001b[43m)\u001b[49m\n\u001b[1;32m    839\u001b[0m \u001b[38;5;28;01mfinally\u001b[39;00m:\n\u001b[1;32m    840\u001b[0m     set_eval_frame(\u001b[38;5;28;01mNone\u001b[39;00m)\n",
      "File \u001b[0;32m~/mambaforge/envs/dnalongbench/lib/python3.9/site-packages/torch/utils/checkpoint.py:488\u001b[0m, in \u001b[0;36mcheckpoint\u001b[0;34m(function, use_reentrant, context_fn, determinism_check, debug, *args, **kwargs)\u001b[0m\n\u001b[1;32m    483\u001b[0m     \u001b[38;5;28;01mif\u001b[39;00m context_fn \u001b[38;5;129;01mis\u001b[39;00m \u001b[38;5;129;01mnot\u001b[39;00m noop_context_fn \u001b[38;5;129;01mor\u001b[39;00m debug \u001b[38;5;129;01mis\u001b[39;00m \u001b[38;5;129;01mnot\u001b[39;00m \u001b[38;5;28;01mFalse\u001b[39;00m:\n\u001b[1;32m    484\u001b[0m         \u001b[38;5;28;01mraise\u001b[39;00m \u001b[38;5;167;01mValueError\u001b[39;00m(\n\u001b[1;32m    485\u001b[0m             \u001b[38;5;124m\"\u001b[39m\u001b[38;5;124mPassing `context_fn` or `debug` is only supported when \u001b[39m\u001b[38;5;124m\"\u001b[39m\n\u001b[1;32m    486\u001b[0m             \u001b[38;5;124m\"\u001b[39m\u001b[38;5;124muse_reentrant=False.\u001b[39m\u001b[38;5;124m\"\u001b[39m\n\u001b[1;32m    487\u001b[0m         )\n\u001b[0;32m--> 488\u001b[0m     \u001b[38;5;28;01mreturn\u001b[39;00m \u001b[43mCheckpointFunction\u001b[49m\u001b[38;5;241;43m.\u001b[39;49m\u001b[43mapply\u001b[49m\u001b[43m(\u001b[49m\u001b[43mfunction\u001b[49m\u001b[43m,\u001b[49m\u001b[43m \u001b[49m\u001b[43mpreserve\u001b[49m\u001b[43m,\u001b[49m\u001b[43m \u001b[49m\u001b[38;5;241;43m*\u001b[39;49m\u001b[43margs\u001b[49m\u001b[43m)\u001b[49m\n\u001b[1;32m    489\u001b[0m \u001b[38;5;28;01melse\u001b[39;00m:\n\u001b[1;32m    490\u001b[0m     gen \u001b[38;5;241m=\u001b[39m _checkpoint_without_reentrant_generator(\n\u001b[1;32m    491\u001b[0m         function, preserve, context_fn, determinism_check, debug, \u001b[38;5;241m*\u001b[39margs, \u001b[38;5;241m*\u001b[39m\u001b[38;5;241m*\u001b[39mkwargs\n\u001b[1;32m    492\u001b[0m     )\n",
      "File \u001b[0;32m~/mambaforge/envs/dnalongbench/lib/python3.9/site-packages/torch/autograd/function.py:575\u001b[0m, in \u001b[0;36mFunction.apply\u001b[0;34m(cls, *args, **kwargs)\u001b[0m\n\u001b[1;32m    572\u001b[0m \u001b[38;5;28;01mif\u001b[39;00m \u001b[38;5;129;01mnot\u001b[39;00m torch\u001b[38;5;241m.\u001b[39m_C\u001b[38;5;241m.\u001b[39m_are_functorch_transforms_active():\n\u001b[1;32m    573\u001b[0m     \u001b[38;5;66;03m# See NOTE: [functorch vjp and autograd interaction]\u001b[39;00m\n\u001b[1;32m    574\u001b[0m     args \u001b[38;5;241m=\u001b[39m _functorch\u001b[38;5;241m.\u001b[39mutils\u001b[38;5;241m.\u001b[39munwrap_dead_wrappers(args)\n\u001b[0;32m--> 575\u001b[0m     \u001b[38;5;28;01mreturn\u001b[39;00m \u001b[38;5;28;43msuper\u001b[39;49m\u001b[43m(\u001b[49m\u001b[43m)\u001b[49m\u001b[38;5;241;43m.\u001b[39;49m\u001b[43mapply\u001b[49m\u001b[43m(\u001b[49m\u001b[38;5;241;43m*\u001b[39;49m\u001b[43margs\u001b[49m\u001b[43m,\u001b[49m\u001b[43m \u001b[49m\u001b[38;5;241;43m*\u001b[39;49m\u001b[38;5;241;43m*\u001b[39;49m\u001b[43mkwargs\u001b[49m\u001b[43m)\u001b[49m  \u001b[38;5;66;03m# type: ignore[misc]\u001b[39;00m\n\u001b[1;32m    577\u001b[0m \u001b[38;5;28;01mif\u001b[39;00m \u001b[38;5;129;01mnot\u001b[39;00m is_setup_ctx_defined:\n\u001b[1;32m    578\u001b[0m     \u001b[38;5;28;01mraise\u001b[39;00m \u001b[38;5;167;01mRuntimeError\u001b[39;00m(\n\u001b[1;32m    579\u001b[0m         \u001b[38;5;124m\"\u001b[39m\u001b[38;5;124mIn order to use an autograd.Function with functorch transforms \u001b[39m\u001b[38;5;124m\"\u001b[39m\n\u001b[1;32m    580\u001b[0m         \u001b[38;5;124m\"\u001b[39m\u001b[38;5;124m(vmap, grad, jvp, jacrev, ...), it must override the setup_context \u001b[39m\u001b[38;5;124m\"\u001b[39m\n\u001b[1;32m    581\u001b[0m         \u001b[38;5;124m\"\u001b[39m\u001b[38;5;124mstaticmethod. For more details, please see \u001b[39m\u001b[38;5;124m\"\u001b[39m\n\u001b[1;32m    582\u001b[0m         \u001b[38;5;124m\"\u001b[39m\u001b[38;5;124mhttps://pytorch.org/docs/main/notes/extending.func.html\u001b[39m\u001b[38;5;124m\"\u001b[39m\n\u001b[1;32m    583\u001b[0m     )\n",
      "File \u001b[0;32m~/mambaforge/envs/dnalongbench/lib/python3.9/site-packages/torch/utils/checkpoint.py:263\u001b[0m, in \u001b[0;36mCheckpointFunction.forward\u001b[0;34m(ctx, run_function, preserve_rng_state, *args)\u001b[0m\n\u001b[1;32m    260\u001b[0m ctx\u001b[38;5;241m.\u001b[39msave_for_backward(\u001b[38;5;241m*\u001b[39mtensor_inputs)\n\u001b[1;32m    262\u001b[0m \u001b[38;5;28;01mwith\u001b[39;00m torch\u001b[38;5;241m.\u001b[39mno_grad():\n\u001b[0;32m--> 263\u001b[0m     outputs \u001b[38;5;241m=\u001b[39m \u001b[43mrun_function\u001b[49m\u001b[43m(\u001b[49m\u001b[38;5;241;43m*\u001b[39;49m\u001b[43margs\u001b[49m\u001b[43m)\u001b[49m\n\u001b[1;32m    264\u001b[0m \u001b[38;5;28;01mreturn\u001b[39;00m outputs\n",
      "File \u001b[0;32m~/mambaforge/envs/dnalongbench/lib/python3.9/site-packages/torch/nn/modules/module.py:1751\u001b[0m, in \u001b[0;36mModule._wrapped_call_impl\u001b[0;34m(self, *args, **kwargs)\u001b[0m\n\u001b[1;32m   1749\u001b[0m     \u001b[38;5;28;01mreturn\u001b[39;00m \u001b[38;5;28mself\u001b[39m\u001b[38;5;241m.\u001b[39m_compiled_call_impl(\u001b[38;5;241m*\u001b[39margs, \u001b[38;5;241m*\u001b[39m\u001b[38;5;241m*\u001b[39mkwargs)  \u001b[38;5;66;03m# type: ignore[misc]\u001b[39;00m\n\u001b[1;32m   1750\u001b[0m \u001b[38;5;28;01melse\u001b[39;00m:\n\u001b[0;32m-> 1751\u001b[0m     \u001b[38;5;28;01mreturn\u001b[39;00m \u001b[38;5;28;43mself\u001b[39;49m\u001b[38;5;241;43m.\u001b[39;49m\u001b[43m_call_impl\u001b[49m\u001b[43m(\u001b[49m\u001b[38;5;241;43m*\u001b[39;49m\u001b[43margs\u001b[49m\u001b[43m,\u001b[49m\u001b[43m \u001b[49m\u001b[38;5;241;43m*\u001b[39;49m\u001b[38;5;241;43m*\u001b[39;49m\u001b[43mkwargs\u001b[49m\u001b[43m)\u001b[49m\n",
      "File \u001b[0;32m~/mambaforge/envs/dnalongbench/lib/python3.9/site-packages/torch/nn/modules/module.py:1762\u001b[0m, in \u001b[0;36mModule._call_impl\u001b[0;34m(self, *args, **kwargs)\u001b[0m\n\u001b[1;32m   1757\u001b[0m \u001b[38;5;66;03m# If we don't have any hooks, we want to skip the rest of the logic in\u001b[39;00m\n\u001b[1;32m   1758\u001b[0m \u001b[38;5;66;03m# this function, and just call forward.\u001b[39;00m\n\u001b[1;32m   1759\u001b[0m \u001b[38;5;28;01mif\u001b[39;00m \u001b[38;5;129;01mnot\u001b[39;00m (\u001b[38;5;28mself\u001b[39m\u001b[38;5;241m.\u001b[39m_backward_hooks \u001b[38;5;129;01mor\u001b[39;00m \u001b[38;5;28mself\u001b[39m\u001b[38;5;241m.\u001b[39m_backward_pre_hooks \u001b[38;5;129;01mor\u001b[39;00m \u001b[38;5;28mself\u001b[39m\u001b[38;5;241m.\u001b[39m_forward_hooks \u001b[38;5;129;01mor\u001b[39;00m \u001b[38;5;28mself\u001b[39m\u001b[38;5;241m.\u001b[39m_forward_pre_hooks\n\u001b[1;32m   1760\u001b[0m         \u001b[38;5;129;01mor\u001b[39;00m _global_backward_pre_hooks \u001b[38;5;129;01mor\u001b[39;00m _global_backward_hooks\n\u001b[1;32m   1761\u001b[0m         \u001b[38;5;129;01mor\u001b[39;00m _global_forward_hooks \u001b[38;5;129;01mor\u001b[39;00m _global_forward_pre_hooks):\n\u001b[0;32m-> 1762\u001b[0m     \u001b[38;5;28;01mreturn\u001b[39;00m \u001b[43mforward_call\u001b[49m\u001b[43m(\u001b[49m\u001b[38;5;241;43m*\u001b[39;49m\u001b[43margs\u001b[49m\u001b[43m,\u001b[49m\u001b[43m \u001b[49m\u001b[38;5;241;43m*\u001b[39;49m\u001b[38;5;241;43m*\u001b[39;49m\u001b[43mkwargs\u001b[49m\u001b[43m)\u001b[49m\n\u001b[1;32m   1764\u001b[0m result \u001b[38;5;241m=\u001b[39m \u001b[38;5;28;01mNone\u001b[39;00m\n\u001b[1;32m   1765\u001b[0m called_always_called_hooks \u001b[38;5;241m=\u001b[39m \u001b[38;5;28mset\u001b[39m()\n",
      "File \u001b[0;32m~/mambaforge/envs/dnalongbench/lib/python3.9/site-packages/transformers/models/llama/modeling_llama.py:315\u001b[0m, in \u001b[0;36mLlamaDecoderLayer.forward\u001b[0;34m(self, hidden_states, attention_mask, position_ids, past_key_value, output_attentions, use_cache, cache_position, position_embeddings, **kwargs)\u001b[0m\n\u001b[1;32m    301\u001b[0m \u001b[38;5;28;01mdef\u001b[39;00m \u001b[38;5;21mforward\u001b[39m(\n\u001b[1;32m    302\u001b[0m     \u001b[38;5;28mself\u001b[39m,\n\u001b[1;32m    303\u001b[0m     hidden_states: torch\u001b[38;5;241m.\u001b[39mTensor,\n\u001b[0;32m   (...)\u001b[0m\n\u001b[1;32m    311\u001b[0m     \u001b[38;5;241m*\u001b[39m\u001b[38;5;241m*\u001b[39mkwargs: Unpack[FlashAttentionKwargs],\n\u001b[1;32m    312\u001b[0m ) \u001b[38;5;241m-\u001b[39m\u001b[38;5;241m>\u001b[39m Tuple[torch\u001b[38;5;241m.\u001b[39mFloatTensor, Optional[Tuple[torch\u001b[38;5;241m.\u001b[39mFloatTensor, torch\u001b[38;5;241m.\u001b[39mFloatTensor]]]:\n\u001b[1;32m    313\u001b[0m     residual \u001b[38;5;241m=\u001b[39m hidden_states\n\u001b[0;32m--> 315\u001b[0m     hidden_states \u001b[38;5;241m=\u001b[39m \u001b[38;5;28;43mself\u001b[39;49m\u001b[38;5;241;43m.\u001b[39;49m\u001b[43minput_layernorm\u001b[49m\u001b[43m(\u001b[49m\u001b[43mhidden_states\u001b[49m\u001b[43m)\u001b[49m\n\u001b[1;32m    317\u001b[0m     \u001b[38;5;66;03m# Self Attention\u001b[39;00m\n\u001b[1;32m    318\u001b[0m     hidden_states, self_attn_weights \u001b[38;5;241m=\u001b[39m \u001b[38;5;28mself\u001b[39m\u001b[38;5;241m.\u001b[39mself_attn(\n\u001b[1;32m    319\u001b[0m         hidden_states\u001b[38;5;241m=\u001b[39mhidden_states,\n\u001b[1;32m    320\u001b[0m         attention_mask\u001b[38;5;241m=\u001b[39mattention_mask,\n\u001b[0;32m   (...)\u001b[0m\n\u001b[1;32m    327\u001b[0m         \u001b[38;5;241m*\u001b[39m\u001b[38;5;241m*\u001b[39mkwargs,\n\u001b[1;32m    328\u001b[0m     )\n",
      "File \u001b[0;32m~/mambaforge/envs/dnalongbench/lib/python3.9/site-packages/torch/nn/modules/module.py:1751\u001b[0m, in \u001b[0;36mModule._wrapped_call_impl\u001b[0;34m(self, *args, **kwargs)\u001b[0m\n\u001b[1;32m   1749\u001b[0m     \u001b[38;5;28;01mreturn\u001b[39;00m \u001b[38;5;28mself\u001b[39m\u001b[38;5;241m.\u001b[39m_compiled_call_impl(\u001b[38;5;241m*\u001b[39margs, \u001b[38;5;241m*\u001b[39m\u001b[38;5;241m*\u001b[39mkwargs)  \u001b[38;5;66;03m# type: ignore[misc]\u001b[39;00m\n\u001b[1;32m   1750\u001b[0m \u001b[38;5;28;01melse\u001b[39;00m:\n\u001b[0;32m-> 1751\u001b[0m     \u001b[38;5;28;01mreturn\u001b[39;00m \u001b[38;5;28;43mself\u001b[39;49m\u001b[38;5;241;43m.\u001b[39;49m\u001b[43m_call_impl\u001b[49m\u001b[43m(\u001b[49m\u001b[38;5;241;43m*\u001b[39;49m\u001b[43margs\u001b[49m\u001b[43m,\u001b[49m\u001b[43m \u001b[49m\u001b[38;5;241;43m*\u001b[39;49m\u001b[38;5;241;43m*\u001b[39;49m\u001b[43mkwargs\u001b[49m\u001b[43m)\u001b[49m\n",
      "File \u001b[0;32m~/mambaforge/envs/dnalongbench/lib/python3.9/site-packages/torch/nn/modules/module.py:1762\u001b[0m, in \u001b[0;36mModule._call_impl\u001b[0;34m(self, *args, **kwargs)\u001b[0m\n\u001b[1;32m   1757\u001b[0m \u001b[38;5;66;03m# If we don't have any hooks, we want to skip the rest of the logic in\u001b[39;00m\n\u001b[1;32m   1758\u001b[0m \u001b[38;5;66;03m# this function, and just call forward.\u001b[39;00m\n\u001b[1;32m   1759\u001b[0m \u001b[38;5;28;01mif\u001b[39;00m \u001b[38;5;129;01mnot\u001b[39;00m (\u001b[38;5;28mself\u001b[39m\u001b[38;5;241m.\u001b[39m_backward_hooks \u001b[38;5;129;01mor\u001b[39;00m \u001b[38;5;28mself\u001b[39m\u001b[38;5;241m.\u001b[39m_backward_pre_hooks \u001b[38;5;129;01mor\u001b[39;00m \u001b[38;5;28mself\u001b[39m\u001b[38;5;241m.\u001b[39m_forward_hooks \u001b[38;5;129;01mor\u001b[39;00m \u001b[38;5;28mself\u001b[39m\u001b[38;5;241m.\u001b[39m_forward_pre_hooks\n\u001b[1;32m   1760\u001b[0m         \u001b[38;5;129;01mor\u001b[39;00m _global_backward_pre_hooks \u001b[38;5;129;01mor\u001b[39;00m _global_backward_hooks\n\u001b[1;32m   1761\u001b[0m         \u001b[38;5;129;01mor\u001b[39;00m _global_forward_hooks \u001b[38;5;129;01mor\u001b[39;00m _global_forward_pre_hooks):\n\u001b[0;32m-> 1762\u001b[0m     \u001b[38;5;28;01mreturn\u001b[39;00m \u001b[43mforward_call\u001b[49m\u001b[43m(\u001b[49m\u001b[38;5;241;43m*\u001b[39;49m\u001b[43margs\u001b[49m\u001b[43m,\u001b[49m\u001b[43m \u001b[49m\u001b[38;5;241;43m*\u001b[39;49m\u001b[38;5;241;43m*\u001b[39;49m\u001b[43mkwargs\u001b[49m\u001b[43m)\u001b[49m\n\u001b[1;32m   1764\u001b[0m result \u001b[38;5;241m=\u001b[39m \u001b[38;5;28;01mNone\u001b[39;00m\n\u001b[1;32m   1765\u001b[0m called_always_called_hooks \u001b[38;5;241m=\u001b[39m \u001b[38;5;28mset\u001b[39m()\n",
      "File \u001b[0;32m~/mambaforge/envs/dnalongbench/lib/python3.9/site-packages/transformers/models/llama/modeling_llama.py:83\u001b[0m, in \u001b[0;36mLlamaRMSNorm.forward\u001b[0;34m(self, hidden_states)\u001b[0m\n\u001b[1;32m     81\u001b[0m variance \u001b[38;5;241m=\u001b[39m hidden_states\u001b[38;5;241m.\u001b[39mpow(\u001b[38;5;241m2\u001b[39m)\u001b[38;5;241m.\u001b[39mmean(\u001b[38;5;241m-\u001b[39m\u001b[38;5;241m1\u001b[39m, keepdim\u001b[38;5;241m=\u001b[39m\u001b[38;5;28;01mTrue\u001b[39;00m)\n\u001b[1;32m     82\u001b[0m hidden_states \u001b[38;5;241m=\u001b[39m hidden_states \u001b[38;5;241m*\u001b[39m torch\u001b[38;5;241m.\u001b[39mrsqrt(variance \u001b[38;5;241m+\u001b[39m \u001b[38;5;28mself\u001b[39m\u001b[38;5;241m.\u001b[39mvariance_epsilon)\n\u001b[0;32m---> 83\u001b[0m \u001b[38;5;28;01mreturn\u001b[39;00m \u001b[38;5;28;43mself\u001b[39;49m\u001b[38;5;241;43m.\u001b[39;49m\u001b[43mweight\u001b[49m\u001b[43m \u001b[49m\u001b[38;5;241;43m*\u001b[39;49m\u001b[43m \u001b[49m\u001b[43mhidden_states\u001b[49m\u001b[38;5;241;43m.\u001b[39;49m\u001b[43mto\u001b[49m\u001b[43m(\u001b[49m\u001b[43minput_dtype\u001b[49m\u001b[43m)\u001b[49m\n",
      "\u001b[0;31mKeyboardInterrupt\u001b[0m: "
     ]
    }
   ],
   "source": [
    "\n",
    "\n",
    "# Train the model\n",
    "training_results = train_model_custom(\n",
    "    model=model,\n",
    "    tokenizer=tokenizer,\n",
    "    train_loader=train_loader,\n",
    "    val_loader=valid_loader,\n",
    "    test_loader=test_loader,\n",
    "    num_epochs=3,\n",
    "    learning_rate=1e-5,\n",
    "    # batch_size=1,  # Start small due to memory constraints\n",
    "\n",
    "    device=device,\n",
    "    use_wandb=False,  \n",
    "    gradient_accumulation_steps=16,  # Effective batch size = 1 * 8 = 8\n",
    ")\n",
    "\n"
   ]
  },
  {
   "cell_type": "code",
   "execution_count": 42,
   "id": "8f9a42c8-da82-4c10-a0b0-a956d74f83b7",
   "metadata": {},
   "outputs": [
    {
     "data": {
      "text/plain": [
       "<All keys matched successfully>"
      ]
     },
     "execution_count": 42,
     "metadata": {},
     "output_type": "execute_result"
    }
   ],
   "source": [
    "checkpoint = torch.load(f\"/work/magroup/wenduoc/DNALongBench/experiments/GENERator/results/RSAP/human/v2/best_model.pt\", map_location=device)\n",
    "\n",
    "model.load_state_dict(checkpoint['model_state_dict'])"
   ]
  },
  {
   "cell_type": "code",
   "execution_count": null,
   "id": "2d1597a7-80c7-4b32-b920-68229f6aa952",
   "metadata": {},
   "outputs": [],
   "source": [
    "import math\n",
    "import torch\n",
    "from tqdm import tqdm\n",
    "from typing import Dict\n",
    "from scipy.stats import t as t_dist\n",
    "\n",
    "def evaluate_model_custom(\n",
    "    model: torch.nn.Module,\n",
    "    data_loader: torch.utils.data.DataLoader,\n",
    "    device: str,\n",
    "    criterion: torch.nn.Module\n",
    ") -> Dict[str, float]:\n",
    "    \"\"\"\n",
    "    Streaming evaluation: regression metrics (MSE, MAE, RMSE, R², PCC)\n",
    "    entirely in PyTorch to avoid NumPy import issues.\n",
    "    \"\"\"\n",
    "    model.eval()\n",
    "\n",
    "    # Streaming accumulators (all Python floats)\n",
    "    n = 0\n",
    "    sum_loss     = 0.0\n",
    "    sum_sq_err   = 0.0\n",
    "    sum_abs_err  = 0.0\n",
    "    sum_pred     = 0.0\n",
    "    sum_lbl      = 0.0\n",
    "    sum_pred_sq  = 0.0\n",
    "    sum_lbl_sq   = 0.0\n",
    "    sum_pred_lbl = 0.0\n",
    "\n",
    "    with torch.no_grad():\n",
    "        for batch in tqdm(data_loader, desc=\"Evaluating\"):\n",
    "            input_ids      = batch['input_ids'].to(device)\n",
    "            attention_mask = batch['attention_mask'].to(device)\n",
    "            labels         = batch['y'].view(-1).float().to(device)\n",
    "\n",
    "            outputs  = model(input_ids=input_ids, attention_mask=attention_mask)\n",
    "            preds_t  = outputs['logits'].view(-1)  # might be bfloat16\n",
    "            preds_f  = preds_t.float()             # cast to float32\n",
    "            b        = preds_f.size(0)\n",
    "            n       += b\n",
    "\n",
    "            # loss\n",
    "            loss_b = criterion(preds_t, labels).item()\n",
    "            sum_loss += loss_b * b\n",
    "\n",
    "            # streaming stats in torch\n",
    "            diff      = preds_f - labels\n",
    "            sum_sq_err   += diff.pow(2).sum().item()\n",
    "            sum_abs_err  += diff.abs().sum().item()\n",
    "            sum_pred     += preds_f.sum().item()\n",
    "            sum_lbl      += labels.sum().item()\n",
    "            sum_pred_sq  += preds_f.pow(2).sum().item()\n",
    "            sum_lbl_sq   += labels.pow(2).sum().item()\n",
    "            sum_pred_lbl += (preds_f * labels).sum().item()\n",
    "\n",
    "    # compute final metrics\n",
    "    mse  = sum_sq_err / n\n",
    "    mae  = sum_abs_err / n\n",
    "    rmse = math.sqrt(mse)\n",
    "\n",
    "    ss_tot = sum_lbl_sq - (sum_lbl**2) / n\n",
    "    r2     = 1 - (sum_sq_err / ss_tot) if ss_tot > 0 else float('nan')\n",
    "\n",
    "    num = n * sum_pred_lbl - sum_pred * sum_lbl\n",
    "    den = math.sqrt((n * sum_pred_sq - sum_pred**2) * (n * sum_lbl_sq - sum_lbl**2))\n",
    "    pcc = num / den if den > 0 else 0.0\n",
    "\n",
    "    if n > 2:\n",
    "        t_stat = pcc * math.sqrt((n - 2) / (1 - pcc**2))\n",
    "        p_val  = 2 * (1 - t_dist.cdf(abs(t_stat), df=n-2))\n",
    "    else:\n",
    "        p_val = float('nan')\n",
    "\n",
    "    return {\n",
    "        'loss':        sum_loss / n,\n",
    "        'mse':         mse,\n",
    "        'mae':         mae,\n",
    "        'rmse':        rmse,\n",
    "        'r2':          r2,\n",
    "        'pcc':         pcc,\n",
    "        'pcc_p_value': p_val,\n",
    "        'num_samples': n\n",
    "    }\n"
   ]
  },
  {
   "cell_type": "code",
   "execution_count": 43,
   "id": "c5a747dc-331b-4d75-82e6-ec7c3a9d79bb",
   "metadata": {},
   "outputs": [
    {
     "name": "stdout",
     "output_type": "stream",
     "text": [
      "\n",
      "🧪 Evaluating on test set...\n"
     ]
    },
    {
     "name": "stderr",
     "output_type": "stream",
     "text": [
      "Evaluating: 484it [2:06:54, 15.76s/it]2025-07-10 02:42:25.494796: I tensorflow/core/framework/local_rendezvous.cc:404] Local rendezvous is aborting with status: OUT_OF_RANGE: End of sequence\n",
      "Evaluating: 485it [2:06:58, 15.71s/it]"
     ]
    },
    {
     "name": "stdout",
     "output_type": "stream",
     "text": [
      "📊 Final Test Metrics:\n",
      "  loss: 7.9204\n",
      "  mse: 7.9204\n",
      "  mae: 1.0208\n",
      "  rmse: 2.8143\n",
      "  r2: -0.1476\n",
      "  pcc: 0.0000\n",
      "  pcc_p_value: 0.0459\n",
      "  num_samples: 9220987776.0000\n",
      "{'test_metrics': {'loss': 7.920360825144266, 'mse': 7.920361022502238, 'mae': 1.0207566303794653, 'rmse': 2.8143135970432005, 'r2': -0.14755374438828572, 'pcc': 2.0789503475330543e-05, 'pcc_p_value': 0.04589776118305866, 'num_samples': 9220987776}}\n"
     ]
    },
    {
     "name": "stderr",
     "output_type": "stream",
     "text": [
      "\n"
     ]
    }
   ],
   "source": [
    "# Final evaluation on test set if provided\n",
    "final_metrics = {}\n",
    "\n",
    "test_loader_custom = DataLoader(\n",
    "            test_loader.dataset,\n",
    "            batch_size=4,\n",
    "            collate_fn=lambda b: collate_fn(b, tokenizer)\n",
    "        )\n",
    "\n",
    "criterion = nn.MSELoss()\n",
    "\n",
    "print(\"\\n🧪 Evaluating on test set...\")\n",
    "test_metrics = evaluate_model_custom(model, test_loader_custom, device, criterion)\n",
    "final_metrics['test_metrics'] = test_metrics\n",
    "\n",
    "print(\"📊 Final Test Metrics:\")\n",
    "for key, value in test_metrics.items():\n",
    "    print(f\"  {key}: {value:.4f}\")\n",
    "\n",
    "print(final_metrics)"
   ]
  },
  {
   "cell_type": "code",
   "execution_count": null,
   "id": "60ddcfb2-22ef-4ad0-b1f3-146304eba260",
   "metadata": {},
   "outputs": [],
   "source": []
  }
 ],
 "metadata": {
  "kernelspec": {
   "display_name": "Python 3 (ipykernel)",
   "language": "python",
   "name": "python3"
  },
  "language_info": {
   "codemirror_mode": {
    "name": "ipython",
    "version": 3
   },
   "file_extension": ".py",
   "mimetype": "text/x-python",
   "name": "python",
   "nbconvert_exporter": "python",
   "pygments_lexer": "ipython3",
   "version": "3.9.20"
  }
 },
 "nbformat": 4,
 "nbformat_minor": 5
}
