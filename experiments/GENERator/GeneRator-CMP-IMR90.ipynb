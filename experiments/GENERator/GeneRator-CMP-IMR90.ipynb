{
 "cells": [
  {
   "cell_type": "code",
   "execution_count": 1,
   "id": "22b46412-a357-4ad9-9e40-b7e24994aeb0",
   "metadata": {},
   "outputs": [
    {
     "name": "stdout",
     "output_type": "stream",
     "text": [
      "Wed Jun 18 00:58:28 2025       \n",
      "+-----------------------------------------------------------------------------------------+\n",
      "| NVIDIA-SMI 565.57.01              Driver Version: 565.57.01      CUDA Version: 12.7     |\n",
      "|-----------------------------------------+------------------------+----------------------+\n",
      "| GPU  Name                 Persistence-M | Bus-Id          Disp.A | Volatile Uncorr. ECC |\n",
      "| Fan  Temp   Perf          Pwr:Usage/Cap |           Memory-Usage | GPU-Util  Compute M. |\n",
      "|                                         |                        |               MIG M. |\n",
      "|=========================================+========================+======================|\n",
      "|   0  NVIDIA A100 80GB PCIe          On  |   00000000:52:00.0 Off |                    0 |\n",
      "| N/A   33C    P0             46W /  270W |       1MiB /  81920MiB |      0%      Default |\n",
      "|                                         |                        |             Disabled |\n",
      "+-----------------------------------------+------------------------+----------------------+\n",
      "                                                                                         \n",
      "+-----------------------------------------------------------------------------------------+\n",
      "| Processes:                                                                              |\n",
      "|  GPU   GI   CI        PID   Type   Process name                              GPU Memory |\n",
      "|        ID   ID                                                               Usage      |\n",
      "|=========================================================================================|\n",
      "|  No running processes found                                                             |\n",
      "+-----------------------------------------------------------------------------------------+\n"
     ]
    }
   ],
   "source": [
    "! nvidia-smi"
   ]
  },
  {
   "cell_type": "code",
   "execution_count": 2,
   "id": "a69885fa-a6b6-4fc6-b76e-c8807a91b3e2",
   "metadata": {},
   "outputs": [
    {
     "name": "stderr",
     "output_type": "stream",
     "text": [
      "/home/wenduoc/mambaforge/envs/dnalongbench/lib/python3.9/site-packages/torchvision/io/image.py:13: UserWarning: Failed to load image Python extension: '/home/wenduoc/mambaforge/envs/dnalongbench/lib/python3.9/site-packages/torchvision/image.so: undefined symbol: _ZN3c1017RegisterOperatorsD1Ev'If you don't plan on using image functionality from `torchvision.io`, you can ignore this warning. Otherwise, there might be something wrong with your environment. Did you have `libjpeg` or `libpng` installed before building `torchvision` from source?\n",
      "  warn(\n",
      "2025-06-18 00:58:34.178990: I tensorflow/core/util/port.cc:153] oneDNN custom operations are on. You may see slightly different numerical results due to floating-point round-off errors from different computation orders. To turn them off, set the environment variable `TF_ENABLE_ONEDNN_OPTS=0`.\n",
      "2025-06-18 00:58:34.192934: E external/local_xla/xla/stream_executor/cuda/cuda_fft.cc:485] Unable to register cuFFT factory: Attempting to register factory for plugin cuFFT when one has already been registered\n",
      "2025-06-18 00:58:34.209622: E external/local_xla/xla/stream_executor/cuda/cuda_dnn.cc:8454] Unable to register cuDNN factory: Attempting to register factory for plugin cuDNN when one has already been registered\n",
      "2025-06-18 00:58:34.214537: E external/local_xla/xla/stream_executor/cuda/cuda_blas.cc:1452] Unable to register cuBLAS factory: Attempting to register factory for plugin cuBLAS when one has already been registered\n",
      "2025-06-18 00:58:34.226312: I tensorflow/core/platform/cpu_feature_guard.cc:210] This TensorFlow binary is optimized to use available CPU instructions in performance-critical operations.\n",
      "To enable the following instructions: AVX2 AVX512F AVX512_VNNI FMA, in other operations, rebuild TensorFlow with the appropriate compiler flags.\n",
      "2025-06-18 00:58:35.267455: W tensorflow/compiler/tf2tensorrt/utils/py_utils.cc:38] TF-TRT Warning: Could not find TensorRT\n"
     ]
    }
   ],
   "source": [
    "import argparse\n",
    "import os\n",
    "import time\n",
    "from typing import Dict, Tuple, Union, Optional, Callable, List, Any\n",
    "from torch.utils.data import Dataset, DataLoader, Subset\n",
    "import numpy as np\n",
    "import torch\n",
    "import torch.distributed as dist\n",
    "import transformers\n",
    "import yaml\n",
    "from datasets import (\n",
    "    Dataset,\n",
    "    load_dataset,\n",
    "    DatasetDict,\n",
    "    IterableDatasetDict,\n",
    "    IterableDataset,\n",
    ")\n",
    "from datasets import Dataset as HFDataset, DatasetDict\n",
    "from sklearn.metrics import f1_score, matthews_corrcoef\n",
    "from sklearn.model_selection import KFold\n",
    "from transformers import (\n",
    "    AutoTokenizer,\n",
    "    AutoModelForSequenceClassification,\n",
    "    PreTrainedTokenizer,\n",
    "    TrainingArguments,\n",
    "    Trainer,\n",
    "    EarlyStoppingCallback,\n",
    "    DataCollatorWithPadding,\n",
    "    PreTrainedModel,\n",
    "    AutoConfig,\n",
    ")\n",
    "\n"
   ]
  },
  {
   "cell_type": "code",
   "execution_count": 3,
   "id": "642111a7-d8be-4d3a-900d-33815d3b2f19",
   "metadata": {},
   "outputs": [],
   "source": [
    "import tensorflow as tf\n",
    "import torch\n",
    "import numpy as np\n",
    "import os\n",
    "import json\n",
    "from natsort import natsorted\n",
    "import glob"
   ]
  },
  {
   "cell_type": "code",
   "execution_count": 4,
   "id": "d74aad94-1612-48fc-8ec1-afa62ab45e2e",
   "metadata": {},
   "outputs": [
    {
     "data": {
      "text/plain": [
       "[PhysicalDevice(name='/physical_device:GPU:0', device_type='GPU')]"
      ]
     },
     "execution_count": 4,
     "metadata": {},
     "output_type": "execute_result"
    }
   ],
   "source": [
    "tf.config.list_physical_devices('GPU')"
   ]
  },
  {
   "cell_type": "code",
   "execution_count": 5,
   "id": "d8e79aad-dd8e-48a7-a5d6-f16b73a5b1b7",
   "metadata": {},
   "outputs": [],
   "source": [
    "tf.config.set_visible_devices([], 'GPU')"
   ]
  },
  {
   "cell_type": "code",
   "execution_count": 6,
   "id": "a506db58-f01b-4e2f-b9ab-8c3182afcfe0",
   "metadata": {},
   "outputs": [
    {
     "name": "stdout",
     "output_type": "stream",
     "text": [
      "Wed Jun 18 00:58:36 2025       \n",
      "+-----------------------------------------------------------------------------------------+\n",
      "| NVIDIA-SMI 565.57.01              Driver Version: 565.57.01      CUDA Version: 12.7     |\n",
      "|-----------------------------------------+------------------------+----------------------+\n",
      "| GPU  Name                 Persistence-M | Bus-Id          Disp.A | Volatile Uncorr. ECC |\n",
      "| Fan  Temp   Perf          Pwr:Usage/Cap |           Memory-Usage | GPU-Util  Compute M. |\n",
      "|                                         |                        |               MIG M. |\n",
      "|=========================================+========================+======================|\n",
      "|   0  NVIDIA A100 80GB PCIe          On  |   00000000:52:00.0 Off |                    0 |\n",
      "| N/A   33C    P0             46W /  270W |       4MiB /  81920MiB |      0%      Default |\n",
      "|                                         |                        |             Disabled |\n",
      "+-----------------------------------------+------------------------+----------------------+\n",
      "                                                                                         \n",
      "+-----------------------------------------------------------------------------------------+\n",
      "| Processes:                                                                              |\n",
      "|  GPU   GI   CI        PID   Type   Process name                              GPU Memory |\n",
      "|        ID   ID                                                               Usage      |\n",
      "|=========================================================================================|\n",
      "|  No running processes found                                                             |\n",
      "+-----------------------------------------------------------------------------------------+\n"
     ]
    }
   ],
   "source": [
    "!nvidia-smi"
   ]
  },
  {
   "cell_type": "code",
   "execution_count": 7,
   "id": "ca9da447-70f2-4df8-82b5-00f8ff569dda",
   "metadata": {},
   "outputs": [
    {
     "name": "stdout",
     "output_type": "stream",
     "text": [
      "cuda:0\n"
     ]
    }
   ],
   "source": [
    "device = torch.device(\"cuda:0\" if torch.cuda.is_available() else \"cpu\")\n",
    "print(device)"
   ]
  },
  {
   "cell_type": "code",
   "execution_count": 8,
   "id": "49fea7cb-a3b8-4295-945d-865d0dff1dce",
   "metadata": {},
   "outputs": [],
   "source": [
    "root = '/work/magroup/shared/DNA_LLM/DNALongBench/'"
   ]
  },
  {
   "cell_type": "code",
   "execution_count": 9,
   "id": "4cb68617-d10c-4780-91da-e66a55028290",
   "metadata": {},
   "outputs": [],
   "source": [
    "cell_type=\"IMR90\"\n",
    "batch_size=4"
   ]
  },
  {
   "cell_type": "code",
   "execution_count": 10,
   "id": "23c20899-4613-427c-b9e0-c63bbf0c9d72",
   "metadata": {},
   "outputs": [],
   "source": [
    "train_data_path = root + 'contact_map_prediction/targets/train-*.tfr'\n",
    "valid_data_path = root + 'contact_map_prediction/targets/valid-*.tfr'\n",
    "test_data_path = root + 'contact_map_prediction/targets/test-*.tfr'\n",
    "SEQUENCE_LENGTH = 1048576\n",
    "TARGET_LENGTH = 99681"
   ]
  },
  {
   "cell_type": "code",
   "execution_count": 11,
   "id": "9916f5af-a205-4dd7-9fad-93f244661b85",
   "metadata": {},
   "outputs": [],
   "source": [
    "class AkitaDataset(torch.utils.data.IterableDataset):\n",
    "    def __init__(self, tfr_pattern, cell_type):\n",
    "        super(AkitaDataset).__init__()\n",
    "        self.dataset = self.read_tfr(tfr_pattern)\n",
    "        self.cell_type = cell_type\n",
    "        target_ind_dict = {'HFF': 0, 'H1hESC': 1, 'GM12878': 2, 'IMR90': 3, 'HCT116': 4}\n",
    "        self.target_ind = target_ind_dict[self.cell_type]\n",
    "\n",
    "    def file_to_records(self, filename):\n",
    "        return tf.data.TFRecordDataset(filename, compression_type='ZLIB')\n",
    "\n",
    "    def parse_proto(self, example_protos):\n",
    "        features = {\n",
    "            'sequence': tf.io.FixedLenFeature([], tf.string),\n",
    "            'target': tf.io.FixedLenFeature([], tf.string)\n",
    "          }\n",
    "        parsed_features = tf.io.parse_example(example_protos, features=features)\n",
    "        seq = tf.io.decode_raw(parsed_features['sequence'], tf.uint8)\n",
    "        targets = tf.io.decode_raw(parsed_features['target'], tf.float16)\n",
    "        return seq, targets\n",
    "\n",
    "    def read_tfr(self, tfr_pattern):\n",
    "        tfr_files = natsorted(glob.glob(tfr_pattern))\n",
    "        if tfr_files:\n",
    "            dataset = tf.data.Dataset.list_files(tf.constant(tfr_files), shuffle=False)\n",
    "        else:\n",
    "            print('Cannot order TFRecords %s' % tfr_pattern, file=sys.stderr)\n",
    "            dataset = tf.data.Dataset.list_files(tfr_pattern)\n",
    "        dataset = dataset.flat_map(self.file_to_records)\n",
    "        dataset = dataset.map(self.parse_proto)\n",
    "        dataset = dataset.batch(1)\n",
    "        return dataset\n",
    "\n",
    "    def __iter__(self):\n",
    "        num = 200\n",
    "        for seq_raw, targets_raw in self.dataset:\n",
    "            # print(seq_raw.shape, targets_raw.shape)\\n\",\n",
    "            seq = seq_raw.cpu().numpy().reshape(-1, 4).astype('int8')\n",
    "            targets = targets_raw.cpu().numpy().reshape(TARGET_LENGTH, -1).astype('float16')\n",
    "            # yield {\"sequence\": seq, \"target\": targets[:, self.target_ind]}\n",
    "            # seq = seq[-372736: -65536, :]\n",
    "            seq = seq[-475136: -65536, :]\n",
    "            # seq = np.argmax(seq, axis=-1)\n",
    "            targets = targets[:, self.target_ind]\n",
    "            # targets = targets[-11026:]\n",
    "            targets = targets[-19701:]\n",
    "            scores = np.eye(num)\n",
    "            index = 0\n",
    "            for i in range(num):\n",
    "                if i < num - 1:\n",
    "                    scores[i][i + 1] = 1\n",
    "                for j in range(i + 2, num):\n",
    "                    scores[i][j] = targets[index]\n",
    "                    index += 1\n",
    "            for i in range(num):\n",
    "                for j in range(i - 1):\n",
    "                    scores[i][j] = scores[j][i]\n",
    "            scores = torch.FloatTensor(scores).reshape(-1)\n",
    "            yield (seq, scores)"
   ]
  },
  {
   "cell_type": "code",
   "execution_count": 12,
   "id": "3f9c43a3-4dc6-4d2b-b08e-2ff54f79e330",
   "metadata": {},
   "outputs": [],
   "source": [
    "\n",
    "\n",
    "train_dataset = AkitaDataset(train_data_path, cell_type = cell_type)\n",
    "valid_dataset = AkitaDataset(valid_data_path, cell_type = cell_type)\n",
    "test_dataset = AkitaDataset(test_data_path, cell_type = cell_type)\n",
    "\n",
    "\n",
    "train_loader = torch.utils.data.DataLoader(train_dataset, batch_size=batch_size, num_workers=0)\n",
    "valid_loader = torch.utils.data.DataLoader(valid_dataset, batch_size=batch_size, num_workers=0)\n",
    "test_loader = torch.utils.data.DataLoader(test_dataset, batch_size=batch_size, num_workers=0)"
   ]
  },
  {
   "cell_type": "code",
   "execution_count": 13,
   "id": "1b9244c1-f707-4ec1-8853-a1239c01b996",
   "metadata": {},
   "outputs": [
    {
     "name": "stdout",
     "output_type": "stream",
     "text": [
      "WARNING:tensorflow:From /tmp/ipykernel_1116178/2959360472.py:38: _EagerTensorBase.cpu (from tensorflow.python.framework.ops) is deprecated and will be removed in a future version.\n",
      "Instructions for updating:\n",
      "Use tf.identity with explicit device placement instead.\n",
      "x: torch.Size([4, 409600, 4])\n",
      "y: torch.Size([4, 40000])\n"
     ]
    },
    {
     "name": "stderr",
     "output_type": "stream",
     "text": [
      "2025-06-18 00:58:37.562860: E tensorflow/core/util/util.cc:131] oneDNN supports DT_HALF only on platforms with AVX-512. Falling back to the default Eigen-based implementation if present.\n"
     ]
    }
   ],
   "source": [
    "for batch in train_loader: \n",
    "        x, y = batch\n",
    "        print('x:',x.size())\n",
    "        print('y:',y.size())\n",
    "        break\n"
   ]
  },
  {
   "cell_type": "code",
   "execution_count": 14,
   "id": "612795de-5eeb-4ff4-8930-d525239a54f5",
   "metadata": {},
   "outputs": [
    {
     "name": "stdout",
     "output_type": "stream",
     "text": [
      "Wed Jun 18 00:58:37 2025       \n",
      "+-----------------------------------------------------------------------------------------+\n",
      "| NVIDIA-SMI 565.57.01              Driver Version: 565.57.01      CUDA Version: 12.7     |\n",
      "|-----------------------------------------+------------------------+----------------------+\n",
      "| GPU  Name                 Persistence-M | Bus-Id          Disp.A | Volatile Uncorr. ECC |\n",
      "| Fan  Temp   Perf          Pwr:Usage/Cap |           Memory-Usage | GPU-Util  Compute M. |\n",
      "|                                         |                        |               MIG M. |\n",
      "|=========================================+========================+======================|\n",
      "|   0  NVIDIA A100 80GB PCIe          On  |   00000000:52:00.0 Off |                    0 |\n",
      "| N/A   33C    P0             65W /  270W |       4MiB /  81920MiB |      0%      Default |\n",
      "|                                         |                        |             Disabled |\n",
      "+-----------------------------------------+------------------------+----------------------+\n",
      "                                                                                         \n",
      "+-----------------------------------------------------------------------------------------+\n",
      "| Processes:                                                                              |\n",
      "|  GPU   GI   CI        PID   Type   Process name                              GPU Memory |\n",
      "|        ID   ID                                                               Usage      |\n",
      "|=========================================================================================|\n",
      "|  No running processes found                                                             |\n",
      "+-----------------------------------------------------------------------------------------+\n"
     ]
    }
   ],
   "source": [
    "!nvidia-smi"
   ]
  },
  {
   "cell_type": "code",
   "execution_count": 15,
   "id": "32940061-b7b5-430b-9770-9e3c4b30130e",
   "metadata": {},
   "outputs": [],
   "source": [
    "\n",
    "# Set logging level for transformers\n",
    "transformers.logging.set_verbosity_info()\n",
    "\n",
    "# Define optimization direction for each metric (whether higher or lower is better)\n",
    "METRICS_DIRECTION: Dict[str, str] = {\n",
    "    \"accuracy\": \"max\",\n",
    "    \"f1_score\": \"max\",\n",
    "    \"mcc\": \"max\",\n",
    "    \"f1_max\": \"max\",\n",
    "    \"auprc_micro\": \"max\",\n",
    "    \"mse\": \"min\",\n",
    "    \"mae\": \"min\",\n",
    "    \"r2\": \"max\",\n",
    "    \"pearson\": \"max\",\n",
    "}\n",
    "\n",
    "\n",
    "def is_main_process() -> bool:\n",
    "    \"\"\"\n",
    "    Check if current process is the main process (rank 0) in distributed training.\n",
    "\n",
    "    Returns:\n",
    "        bool: True if this is the main process, False otherwise\n",
    "    \"\"\"\n",
    "    if dist.is_initialized():\n",
    "        return dist.get_rank() == 0\n",
    "    return True\n",
    "\n",
    "\n",
    "def dist_print(*args, **kwargs) -> None:\n",
    "    \"\"\"\n",
    "    Print only from the main process (rank 0) in distributed training.\n",
    "    Prevents duplicate outputs in multi-GPU settings.\n",
    "\n",
    "    Args:\n",
    "        *args: Arguments to pass to print function\n",
    "        **kwargs: Keyword arguments to pass to print function\n",
    "    \"\"\"\n",
    "    if is_main_process():\n",
    "        print(*args, **kwargs)\n"
   ]
  },
  {
   "cell_type": "code",
   "execution_count": 16,
   "id": "bc616855-3d44-48a2-a59f-d01df69b2e7e",
   "metadata": {},
   "outputs": [],
   "source": [
    "def setup_tokenizer(\n",
    "    model_name: str, padding_and_truncation_side: str\n",
    ") -> PreTrainedTokenizer:\n",
    "    \"\"\"\n",
    "    Load and configure tokenizer for sequence understanding.\n",
    "\n",
    "    Args:\n",
    "        model_name: Name or path of the HuggingFace model\n",
    "        padding_and_truncation_side: Side for padding and truncation (left or right)\n",
    "\n",
    "    Returns:\n",
    "        PreTrainedTokenizer: Configured tokenizer for the model\n",
    "    \"\"\"\n",
    "    dist_print(f\"🔤 Loading tokenizer from: {model_name}\")\n",
    "    start_time = time.time()\n",
    "\n",
    "    # Load tokenizer with trust_remote_code to support custom models\n",
    "    tokenizer = AutoTokenizer.from_pretrained(model_name, trust_remote_code=True)\n",
    "\n",
    "    # Configure padding and truncation settings\n",
    "    tokenizer.padding_side = padding_and_truncation_side\n",
    "    tokenizer.truncation_side = padding_and_truncation_side\n",
    "\n",
    "    # Set pad_token to eos_token if not defined\n",
    "    if tokenizer.pad_token is None:\n",
    "        tokenizer.pad_token = tokenizer.eos_token\n",
    "\n",
    "    dist_print(\n",
    "        f\"⏱️ Tokenizer loading completed in {time.time() - start_time:.2f} seconds\"\n",
    "    )\n",
    "\n",
    "    return tokenizer"
   ]
  },
  {
   "cell_type": "code",
   "execution_count": 17,
   "id": "98c0e9e8-420c-454c-ae4f-4acc2ddec4da",
   "metadata": {},
   "outputs": [
    {
     "name": "stderr",
     "output_type": "stream",
     "text": [
      "loading file added_tokens.json from cache at None\n",
      "loading file special_tokens_map.json from cache at /home/wenduoc/.cache/huggingface/hub/models--GenerTeam--GENERator-eukaryote-1.2b-base/snapshots/3be4abf390afbb7f4d8ccb3370f599338523f1cd/special_tokens_map.json\n",
      "loading file tokenizer_config.json from cache at /home/wenduoc/.cache/huggingface/hub/models--GenerTeam--GENERator-eukaryote-1.2b-base/snapshots/3be4abf390afbb7f4d8ccb3370f599338523f1cd/tokenizer_config.json\n",
      "loading file tokenizer.json from cache at None\n",
      "loading file chat_template.jinja from cache at None\n"
     ]
    }
   ],
   "source": [
    "tokenizer = AutoTokenizer.from_pretrained(\"GenerTeam/GENERator-eukaryote-1.2b-base\", trust_remote_code=True) # \"GenerTeam/GENERator-eukaryote-3b-base\""
   ]
  },
  {
   "cell_type": "code",
   "execution_count": 18,
   "id": "f668f563-b119-4576-9f7d-3ee93ce9c9b4",
   "metadata": {},
   "outputs": [
    {
     "data": {
      "text/plain": [
       "DNAKmerTokenizer(name_or_path='GenerTeam/GENERator-eukaryote-1.2b-base', vocab_size=4128, model_max_length=1000000000000000019884624838656, is_fast=False, padding_side='right', truncation_side='right', special_tokens={'bos_token': '<s>', 'eos_token': '</s>', 'unk_token': '<oov>', 'pad_token': '<pad>'}, clean_up_tokenization_spaces=True, added_tokens_decoder={\n",
       "\t0: AddedToken(\"<oov>\", rstrip=False, lstrip=False, single_word=False, normalized=False, special=True),\n",
       "\t1: AddedToken(\"<s>\", rstrip=False, lstrip=False, single_word=False, normalized=False, special=True),\n",
       "\t2: AddedToken(\"</s>\", rstrip=False, lstrip=False, single_word=False, normalized=False, special=True),\n",
       "\t3: AddedToken(\"<pad>\", rstrip=False, lstrip=False, single_word=False, normalized=False, special=True),\n",
       "}\n",
       ")"
      ]
     },
     "execution_count": 18,
     "metadata": {},
     "output_type": "execute_result"
    }
   ],
   "source": [
    "tokenizer"
   ]
  },
  {
   "cell_type": "code",
   "execution_count": 19,
   "id": "fadb668d-3e26-4f95-aeb9-9730e4e9c228",
   "metadata": {},
   "outputs": [],
   "source": [
    "def collate_fn(batch, tokenizer, max_length=409600):\n",
    "    \"\"\"\n",
    "    Custom collate function for DNA data that converts one-hot encoded sequences to raw sequences\n",
    "    and tokenizes them.\n",
    "    \n",
    "    Args:\n",
    "        batch: List of tuples where each tuple is (x, y)\n",
    "               x is one-hot encoded DNA sequence of shape (seq_len, 4)\n",
    "               y is gene expression data of shape (10, seq_len)\n",
    "        tokenizer: The GENERator tokenizer\n",
    "        max_length: Maximum sequence length for tokenization\n",
    "    \n",
    "    Returns:\n",
    "        Dictionary with tokenized inputs and original gene expression data\n",
    "    \"\"\"\n",
    "    # Separate x and y from the batch\n",
    "    x_batch, y_batch = zip(*batch)\n",
    "    \n",
    "    # Convert one-hot encoded sequences to raw sequences\n",
    "    raw_sequences = []\n",
    "    nucleotides = ['A', 'C', 'G', 'T']\n",
    "    for one_hot_seq in x_batch:\n",
    "        # Ensure one_hot_seq is a PyTorch tensor\n",
    "        if not isinstance(one_hot_seq, torch.Tensor):\n",
    "            one_hot_seq = torch.tensor(one_hot_seq)\n",
    "        \n",
    "        # Get indices of 1s in one-hot encoding (argmax along axis 1)\n",
    "        indices = torch.argmax(one_hot_seq, dim=1).cpu().numpy()\n",
    "        \n",
    "        # Convert indices to nucleotides\n",
    "        raw_seq = ''.join([nucleotides[idx] for idx in indices])\n",
    "        raw_sequences.append(raw_seq)\n",
    "    \n",
    "    # Tokenize the raw sequences\n",
    "    tokenizer.padding_side = \"right\"\n",
    "    inputs = tokenizer(\n",
    "        raw_sequences,\n",
    "        add_special_tokens=True,\n",
    "        return_tensors=\"pt\",\n",
    "        padding=False,\n",
    "        truncation=True,\n",
    "        # max_length=max_length\n",
    "    )\n",
    "\n",
    "    \n",
    "    # Convert y arrays to tensors and stack them\n",
    "    y_tensors = []\n",
    "    for y in y_batch:\n",
    "        if not isinstance(y, torch.Tensor):\n",
    "            y = torch.tensor(y, dtype=torch.float32)\n",
    "        y_tensors.append(y)\n",
    "    \n",
    "    y_stacked = torch.stack(y_tensors)\n",
    "    \n",
    "    # Return tokenized inputs and original y\n",
    "    return {\n",
    "        \"input_ids\": inputs[\"input_ids\"],\n",
    "        \"attention_mask\": inputs[\"attention_mask\"],\n",
    "        \"y\": y_stacked\n",
    "    }"
   ]
  },
  {
   "cell_type": "code",
   "execution_count": 20,
   "id": "c3fffca8-f632-4a1f-ba54-87f1b855aff4",
   "metadata": {},
   "outputs": [],
   "source": [
    "train_loader2 = DataLoader(\n",
    "        train_loader.dataset,\n",
    "        batch_size=1,\n",
    "        collate_fn=lambda b: collate_fn(b, tokenizer, max_length=409600)\n",
    "    )\n"
   ]
  },
  {
   "cell_type": "code",
   "execution_count": 21,
   "id": "91b01a09-65cb-4dcf-8f9a-21d0183c6b1f",
   "metadata": {},
   "outputs": [
    {
     "name": "stderr",
     "output_type": "stream",
     "text": [
      "Asking to truncate to max_length but no maximum length is provided and the model has no predefined maximum length. Default to no truncation.\n"
     ]
    },
    {
     "name": "stdout",
     "output_type": "stream",
     "text": [
      "{'input_ids': tensor([[   1,   47, 2167,  ...,  868,    0,    2]]), 'attention_mask': tensor([[1, 1, 1,  ..., 1, 1, 1]]), 'y': tensor([[1.0000, 1.0000, 0.0611,  ..., 0.0790, 0.0000, 1.0000]])}\n"
     ]
    }
   ],
   "source": [
    "for batch in train_loader2: \n",
    "        print(batch)\n",
    "        break\n"
   ]
  },
  {
   "cell_type": "code",
   "execution_count": 22,
   "id": "9a5219d6-1673-4651-8373-27b163235a34",
   "metadata": {},
   "outputs": [
    {
     "data": {
      "text/plain": [
       "(torch.Size([1, 68269]), torch.Size([1, 68269]), torch.Size([1, 40000]))"
      ]
     },
     "execution_count": 22,
     "metadata": {},
     "output_type": "execute_result"
    }
   ],
   "source": [
    "batch['input_ids'].shape, batch['attention_mask'].shape, batch['y'].shape"
   ]
  },
  {
   "cell_type": "code",
   "execution_count": 23,
   "id": "30339bb5-2e58-4538-acd9-f9f1e612cf19",
   "metadata": {},
   "outputs": [
    {
     "name": "stdout",
     "output_type": "stream",
     "text": [
      "Wed Jun 18 00:58:39 2025       \n",
      "+-----------------------------------------------------------------------------------------+\n",
      "| NVIDIA-SMI 565.57.01              Driver Version: 565.57.01      CUDA Version: 12.7     |\n",
      "|-----------------------------------------+------------------------+----------------------+\n",
      "| GPU  Name                 Persistence-M | Bus-Id          Disp.A | Volatile Uncorr. ECC |\n",
      "| Fan  Temp   Perf          Pwr:Usage/Cap |           Memory-Usage | GPU-Util  Compute M. |\n",
      "|                                         |                        |               MIG M. |\n",
      "|=========================================+========================+======================|\n",
      "|   0  NVIDIA A100 80GB PCIe          On  |   00000000:52:00.0 Off |                    0 |\n",
      "| N/A   33C    P0             65W /  270W |       4MiB /  81920MiB |      0%      Default |\n",
      "|                                         |                        |             Disabled |\n",
      "+-----------------------------------------+------------------------+----------------------+\n",
      "                                                                                         \n",
      "+-----------------------------------------------------------------------------------------+\n",
      "| Processes:                                                                              |\n",
      "|  GPU   GI   CI        PID   Type   Process name                              GPU Memory |\n",
      "|        ID   ID                                                               Usage      |\n",
      "|=========================================================================================|\n",
      "|  No running processes found                                                             |\n",
      "+-----------------------------------------------------------------------------------------+\n"
     ]
    }
   ],
   "source": [
    "!nvidia-smi"
   ]
  },
  {
   "cell_type": "code",
   "execution_count": 24,
   "id": "33ff3c97-ba01-4edd-a3b9-c3ebaaf79dd1",
   "metadata": {},
   "outputs": [],
   "source": [
    "import torch\n",
    "import torch.nn as nn\n",
    "from transformers import AutoModel\n",
    "\n",
    "class LongSequenceRegressionModel(nn.Module):\n",
    "    def __init__(\n",
    "        self,\n",
    "        base_model_name: str,\n",
    "        num_labels: int = 2,\n",
    "        max_subsequence_length: int = 9375,\n",
    "        num_subsequences: int = 8,\n",
    "        gradient_checkpointing: bool = True\n",
    "    ):\n",
    "        super().__init__()\n",
    "        self.base_model = AutoModel.from_pretrained(base_model_name, trust_remote_code=True)\n",
    "        if gradient_checkpointing:\n",
    "            self.base_model.gradient_checkpointing_enable()\n",
    "\n",
    "        hidden_size = self.base_model.config.hidden_size\n",
    "        self.regression_head = nn.Linear(num_subsequences * hidden_size, num_labels, bias=False)\n",
    "\n",
    "        self.max_subsequence_length = max_subsequence_length\n",
    "        self.num_subsequences      = num_subsequences\n",
    "\n",
    "    def forward(self, input_ids: torch.Tensor, attention_mask: torch.Tensor = None):\n",
    "        \"\"\"\n",
    "        input_ids:        [B, L]\n",
    "        attention_mask:   [B, L] (optional — if None, we treat it as all 1’s)\n",
    "        \"\"\"\n",
    "        # if no mask provided, assume everything is valid\n",
    "        if attention_mask is None:\n",
    "            attention_mask = torch.ones_like(input_ids)\n",
    "\n",
    "        hidden_states = []\n",
    "        for i in range(self.num_subsequences):\n",
    "            start_idx = i * self.max_subsequence_length\n",
    "            end_idx   = (i + 1) * self.max_subsequence_length\n",
    "\n",
    "            sub_input_ids      = input_ids[:, start_idx:end_idx]\n",
    "            sub_attention_mask = attention_mask[:, start_idx:end_idx]\n",
    "\n",
    "            outputs = self.base_model(\n",
    "                input_ids=sub_input_ids,\n",
    "                attention_mask=sub_attention_mask\n",
    "            )\n",
    "            # take the CLS token embedding\n",
    "            cls_embedding = outputs.last_hidden_state[:, -1, :]\n",
    "            hidden_states.append(cls_embedding)\n",
    "\n",
    "        combined = torch.cat(hidden_states, dim=-1)   # [B, num_subseq * H]\n",
    "        logits   = self.regression_head(combined)     # [B, num_labels]\n",
    "        return {\"logits\": logits}\n"
   ]
  },
  {
   "cell_type": "code",
   "execution_count": 25,
   "id": "4b8c3522-e14e-4b4f-b09c-2b75147f2779",
   "metadata": {},
   "outputs": [
    {
     "name": "stderr",
     "output_type": "stream",
     "text": [
      "loading configuration file config.json from cache at /home/wenduoc/.cache/huggingface/hub/models--GenerTeam--GENERator-eukaryote-1.2b-base/snapshots/3be4abf390afbb7f4d8ccb3370f599338523f1cd/config.json\n",
      "Model config LlamaConfig {\n",
      "  \"architectures\": [\n",
      "    \"LlamaForCausalLM\"\n",
      "  ],\n",
      "  \"attention_bias\": false,\n",
      "  \"attention_dropout\": 0.0,\n",
      "  \"bos_token_id\": 1,\n",
      "  \"eos_token_id\": 2,\n",
      "  \"head_dim\": 64,\n",
      "  \"hidden_act\": \"silu\",\n",
      "  \"hidden_size\": 2048,\n",
      "  \"initializer_range\": 0.02,\n",
      "  \"intermediate_size\": 5632,\n",
      "  \"max_position_embeddings\": 16384,\n",
      "  \"mlp_bias\": false,\n",
      "  \"model_type\": \"llama\",\n",
      "  \"num_attention_heads\": 32,\n",
      "  \"num_hidden_layers\": 26,\n",
      "  \"num_key_value_heads\": 4,\n",
      "  \"pretraining_tp\": 1,\n",
      "  \"rms_norm_eps\": 1e-05,\n",
      "  \"rope_scaling\": null,\n",
      "  \"rope_theta\": 500000.0,\n",
      "  \"tie_word_embeddings\": false,\n",
      "  \"torch_dtype\": \"float32\",\n",
      "  \"transformers_version\": \"4.51.3\",\n",
      "  \"use_cache\": true,\n",
      "  \"vocab_size\": 4128\n",
      "}\n",
      "\n",
      "loading weights file model.safetensors from cache at /home/wenduoc/.cache/huggingface/hub/models--GenerTeam--GENERator-eukaryote-1.2b-base/snapshots/3be4abf390afbb7f4d8ccb3370f599338523f1cd/model.safetensors\n",
      "Some weights of the model checkpoint at GenerTeam/GENERator-eukaryote-1.2b-base were not used when initializing LlamaModel: ['lm_head.weight']\n",
      "- This IS expected if you are initializing LlamaModel from the checkpoint of a model trained on another task or with another architecture (e.g. initializing a BertForSequenceClassification model from a BertForPreTraining model).\n",
      "- This IS NOT expected if you are initializing LlamaModel from the checkpoint of a model that you expect to be exactly identical (initializing a BertForSequenceClassification model from a BertForSequenceClassification model).\n",
      "All the weights of LlamaModel were initialized from the model checkpoint at GenerTeam/GENERator-eukaryote-1.2b-base.\n",
      "If your task is similar to the task the model of the checkpoint was trained on, you can already use LlamaModel for predictions without further training.\n"
     ]
    }
   ],
   "source": [
    "model = LongSequenceRegressionModel(\n",
    "    base_model_name=\"GenerTeam/GENERator-eukaryote-1.2b-base\",\n",
    "    num_labels=40000,\n",
    "    max_subsequence_length=8534,\n",
    "    num_subsequences=8\n",
    ")"
   ]
  },
  {
   "cell_type": "code",
   "execution_count": 26,
   "id": "87ccfa33-9d1e-405b-aaea-ed4b050cc365",
   "metadata": {},
   "outputs": [],
   "source": [
    "model=model.to(torch.bfloat16).to(device)"
   ]
  },
  {
   "cell_type": "code",
   "execution_count": 27,
   "id": "49dd4b0e-ebaa-49ee-91b4-482b5f8007e6",
   "metadata": {},
   "outputs": [
    {
     "data": {
      "text/plain": [
       "LongSequenceRegressionModel(\n",
       "  (base_model): LlamaModel(\n",
       "    (embed_tokens): Embedding(4128, 2048)\n",
       "    (layers): ModuleList(\n",
       "      (0-25): 26 x LlamaDecoderLayer(\n",
       "        (self_attn): LlamaAttention(\n",
       "          (q_proj): Linear(in_features=2048, out_features=2048, bias=False)\n",
       "          (k_proj): Linear(in_features=2048, out_features=256, bias=False)\n",
       "          (v_proj): Linear(in_features=2048, out_features=256, bias=False)\n",
       "          (o_proj): Linear(in_features=2048, out_features=2048, bias=False)\n",
       "        )\n",
       "        (mlp): LlamaMLP(\n",
       "          (gate_proj): Linear(in_features=2048, out_features=5632, bias=False)\n",
       "          (up_proj): Linear(in_features=2048, out_features=5632, bias=False)\n",
       "          (down_proj): Linear(in_features=5632, out_features=2048, bias=False)\n",
       "          (act_fn): SiLU()\n",
       "        )\n",
       "        (input_layernorm): LlamaRMSNorm((2048,), eps=1e-05)\n",
       "        (post_attention_layernorm): LlamaRMSNorm((2048,), eps=1e-05)\n",
       "      )\n",
       "    )\n",
       "    (norm): LlamaRMSNorm((2048,), eps=1e-05)\n",
       "    (rotary_emb): LlamaRotaryEmbedding()\n",
       "  )\n",
       "  (regression_head): Linear(in_features=16384, out_features=40000, bias=False)\n",
       ")"
      ]
     },
     "execution_count": 27,
     "metadata": {},
     "output_type": "execute_result"
    }
   ],
   "source": [
    "model"
   ]
  },
  {
   "cell_type": "code",
   "execution_count": 28,
   "id": "f78fe115-95a7-465f-8de5-c73cf9a45ee5",
   "metadata": {},
   "outputs": [
    {
     "name": "stdout",
     "output_type": "stream",
     "text": [
      "{'input_ids': tensor([[   1,   47, 2167,  ...,  868,    0,    2]]), 'attention_mask': tensor([[1, 1, 1,  ..., 1, 1, 1]]), 'y': tensor([[1.0000, 1.0000, 0.0611,  ..., 0.0790, 0.0000, 1.0000]])}\n"
     ]
    }
   ],
   "source": [
    "for batch in train_loader2: \n",
    "        print(batch)\n",
    "        break\n"
   ]
  },
  {
   "cell_type": "code",
   "execution_count": 29,
   "id": "8d2c144b-e757-4ddb-893c-9b65d37d0cdf",
   "metadata": {},
   "outputs": [
    {
     "data": {
      "text/plain": [
       "torch.Size([1, 68269])"
      ]
     },
     "execution_count": 29,
     "metadata": {},
     "output_type": "execute_result"
    }
   ],
   "source": [
    "batch['input_ids'].shape"
   ]
  },
  {
   "cell_type": "code",
   "execution_count": 32,
   "id": "ab2658c6-dec3-4c89-8415-0baed55c0f08",
   "metadata": {},
   "outputs": [],
   "source": [
    "from tqdm import tqdm\n",
    "import torch\n",
    "import torch.nn as nn\n",
    "import numpy as np\n",
    "from scipy.stats import pearsonr\n",
    "from sklearn.metrics import mean_squared_error, mean_absolute_error, r2_score\n",
    "import time\n",
    "import os\n",
    "from typing import Dict, Any, Optional\n",
    "from torch.utils.data import DataLoader\n",
    "from transformers import PreTrainedModel, PreTrainedTokenizer\n",
    "\n",
    "\n",
    "def evaluate_model_custom(\n",
    "    model: PreTrainedModel,\n",
    "    data_loader: DataLoader,\n",
    "    device: str,\n",
    "    criterion: nn.Module\n",
    ") -> Dict[str, float]:\n",
    "    \"\"\"\n",
    "    Evaluate regression model on a dataset.\n",
    "    \n",
    "    Args:\n",
    "        model: Model to evaluate\n",
    "        data_loader: DataLoader for evaluation\n",
    "        device: Device to run evaluation on\n",
    "        criterion: Loss function (MSE)\n",
    "    \n",
    "    Returns:\n",
    "        Dictionary of evaluation metrics (MSE, MAE, R², PCC)\n",
    "    \"\"\"\n",
    "    model.eval()\n",
    "    total_loss = 0.0\n",
    "    all_predictions = []\n",
    "    all_labels = []\n",
    "    num_batches = 0\n",
    "    \n",
    "    with torch.no_grad():\n",
    "        for batch in tqdm(data_loader, desc=\"Evaluating\"):\n",
    "            input_ids = batch['input_ids'].to(device)\n",
    "            attention_mask = batch['attention_mask'].to(device)\n",
    "            labels = batch['y'].to(device)\n",
    "\n",
    "            # input_ids = input_ids.to(model.dtype)\n",
    "            # attention_mask = attention_mask.to(model.dtype)\n",
    "            \n",
    "            outputs = model(input_ids=input_ids,attention_mask=attention_mask)\n",
    "            logits = outputs['logits']\n",
    "            \n",
    "            # Process labels for regression\n",
    "            if labels.dim() > 1:\n",
    "                labels = labels.view(-1).float()\n",
    "            \n",
    "            # Calculate MSE loss\n",
    "            loss = criterion(logits.view(-1), labels)\n",
    "            \n",
    "            # Get predictions (no activation function needed for regression)\n",
    "            predictions = logits.float().cpu().numpy()\n",
    "     \n",
    "            total_loss += loss.item()\n",
    "            \n",
    "            # Store for metrics\n",
    "            all_predictions.extend(predictions.flatten())\n",
    "            all_labels.extend(labels.cpu().numpy().flatten())\n",
    "                \n",
    "            num_batches += 1\n",
    "    \n",
    "    # Compute average loss\n",
    "    avg_loss = total_loss / num_batches\n",
    "    \n",
    "    # Convert lists to numpy arrays\n",
    "    all_predictions = np.array(all_predictions)\n",
    "    all_labels = np.array(all_labels)\n",
    "    \n",
    "    # Mean Squared Error\n",
    "    mse = mean_squared_error(all_labels, all_predictions)\n",
    "    \n",
    "    # Mean Absolute Error\n",
    "    mae = mean_absolute_error(all_labels, all_predictions)\n",
    "    \n",
    "    # R-squared score\n",
    "    r2 = r2_score(all_labels, all_predictions)\n",
    "    \n",
    "    # Pearson Correlation Coefficient\n",
    "    pcc, p_value = pearsonr(all_labels, all_predictions)\n",
    "    \n",
    "    # Root Mean Squared Error\n",
    "    rmse = np.sqrt(mse)\n",
    "    \n",
    "    return {\n",
    "        'loss': avg_loss,\n",
    "        'mse': mse,\n",
    "        'mae': mae,\n",
    "        'rmse': rmse,\n",
    "        'r2': r2,\n",
    "        'pcc': pcc,\n",
    "        'pcc_p_value': p_value,\n",
    "        'num_samples': len(all_predictions)\n",
    "    }\n",
    "\n",
    "\n",
    "def train_model_custom(\n",
    "    model: PreTrainedModel,\n",
    "    tokenizer: PreTrainedTokenizer,\n",
    "    train_loader: DataLoader,\n",
    "    val_loader: DataLoader,\n",
    "    test_loader: Optional[DataLoader] = None,\n",
    "    num_epochs: int = 10,\n",
    "    learning_rate: float = 1e-4,\n",
    "    weight_decay: float = 0.01,\n",
    "    warmup_steps: int = 0,\n",
    "    max_grad_norm: float = 1.0,\n",
    "    save_dir: str = \"/work/magroup/wenduoc/DNALongBench/experiments/GENERator/results/CMP/GM12878\",\n",
    "    save_steps: int = 1000,\n",
    "    early_stopping_patience: int = 5,\n",
    "    device: str = \"cuda\",\n",
    "    use_wandb: bool = False,\n",
    "    gradient_accumulation_steps: int = 1,\n",
    "    max_length: int = 75002,\n",
    ") -> Dict[str, Any]:\n",
    "    \"\"\"\n",
    "    Custom training function for DNA sequence models with gene expression prediction (regression).\n",
    "    Modified to evaluate after each epoch and save model based on lowest validation loss (MSE).\n",
    "    \"\"\"\n",
    "    model = model.to(device)\n",
    "    model.train()\n",
    "\n",
    "    train_loader_custom = DataLoader(\n",
    "        train_loader.dataset,\n",
    "        batch_size=1,\n",
    "        collate_fn=lambda b: collate_fn(b, tokenizer)\n",
    "    )\n",
    "\n",
    "    val_loader_custom = DataLoader(\n",
    "        val_loader.dataset,\n",
    "        batch_size=1,\n",
    "        collate_fn=lambda b: collate_fn(b, tokenizer)\n",
    "    )\n",
    "\n",
    "    if test_loader is not None:\n",
    "        test_loader_custom = DataLoader(\n",
    "            test_loader.dataset,\n",
    "            batch_size=1,\n",
    "            collate_fn=lambda b: collate_fn(b, tokenizer)\n",
    "        )\n",
    "\n",
    "    optimizer = torch.optim.AdamW(\n",
    "        model.parameters(),\n",
    "        lr=learning_rate,\n",
    "        weight_decay=weight_decay\n",
    "    )\n",
    "\n",
    "    scheduler = torch.optim.lr_scheduler.LinearLR(\n",
    "        optimizer,\n",
    "        start_factor=0.1,\n",
    "        end_factor=1.0,\n",
    "        total_iters=warmup_steps\n",
    "    )\n",
    "\n",
    "    # Use MSE loss for regression\n",
    "    criterion = nn.MSELoss()\n",
    "\n",
    "    best_val_loss = float('inf')\n",
    "    best_val_pcc = -1.0  # Track best PCC as well\n",
    "    patience_counter = 0\n",
    "    global_step = 0\n",
    "    training_history = {\n",
    "        'train_loss': [],\n",
    "        'val_loss': [],\n",
    "        'val_pcc': [],\n",
    "        'val_r2': [],\n",
    "        'learning_rates': []\n",
    "    }\n",
    "\n",
    "    print(f\"🚀 Starting regression training for {num_epochs} epochs...\")\n",
    "    print(f\"🔧 Gradient accumulation steps: {gradient_accumulation_steps}\")\n",
    "    print(f\"📊 Evaluation will occur after each epoch\")\n",
    "    print(f\"💾 Model will be saved based on lowest validation MSE loss\")\n",
    "\n",
    "    start_time = time.time()\n",
    "\n",
    "    for epoch in range(num_epochs):\n",
    "        print(f\"\\n{'='*50}\")\n",
    "        print(f\"Epoch {epoch + 1}/{num_epochs}\")\n",
    "        print(f\"{'='*50}\")\n",
    "\n",
    "        model.train()\n",
    "        epoch_train_loss = 0.0\n",
    "        train_steps = 0\n",
    "\n",
    "        progress_bar = tqdm(train_loader_custom, desc=f\"Epoch {epoch + 1}\")\n",
    "\n",
    "        for step, batch in enumerate(progress_bar):\n",
    "            input_ids = batch['input_ids'].to(device)\n",
    "            attention_mask = batch['attention_mask'].to(device)\n",
    "            labels = batch['y'].to(device)\n",
    "\n",
    "            # input_ids = input_ids.to(model.dtype)\n",
    "            # attention_mask = attention_mask.to(model.dtype)\n",
    "\n",
    "            with torch.cuda.amp.autocast():\n",
    "                outputs = model(input_ids=input_ids,attention_mask=attention_mask)\n",
    "                logits = outputs['logits']\n",
    "\n",
    "                if labels.dim() > 1:\n",
    "                    labels = labels.view(-1).float()\n",
    "\n",
    "                # MSE loss for regression\n",
    "                loss = criterion(logits.view(-1), labels)\n",
    "                loss = loss / gradient_accumulation_steps\n",
    "\n",
    "            loss.backward()\n",
    "\n",
    "            if (step + 1) % gradient_accumulation_steps == 0:\n",
    "                torch.nn.utils.clip_grad_norm_(model.parameters(), max_grad_norm)\n",
    "                optimizer.step()\n",
    "                scheduler.step()\n",
    "                optimizer.zero_grad()\n",
    "                global_step += 1\n",
    "\n",
    "            epoch_train_loss += loss.item() * gradient_accumulation_steps\n",
    "            train_steps += 1\n",
    "\n",
    "            progress_bar.set_postfix({\n",
    "                'mse_loss': f\"{(loss.item() * gradient_accumulation_steps):.4f}\",\n",
    "                'lr': f\"{scheduler.get_last_lr()[0]:.2e}\"\n",
    "            })\n",
    "\n",
    "            # if global_step % save_steps == 0:\n",
    "            #     checkpoint_path = os.path.join(save_dir, f'checkpoint_step_{global_step}.pt')\n",
    "            #     torch.save({\n",
    "            #         'epoch': epoch,\n",
    "            #         'model_state_dict': model.state_dict(),\n",
    "            #         'optimizer_state_dict': optimizer.state_dict(),\n",
    "            #         'scheduler_state_dict': scheduler.state_dict(),\n",
    "            #         'global_step': global_step\n",
    "            #     }, checkpoint_path)\n",
    "            #     print(f\"💾 Intermediate checkpoint saved at step {global_step}\")\n",
    "         \n",
    "\n",
    "        avg_train_loss = epoch_train_loss / train_steps\n",
    "        training_history['train_loss'].append(avg_train_loss)\n",
    "        training_history['learning_rates'].append(scheduler.get_last_lr()[0])\n",
    "\n",
    "        print(f\"\\n🔄 Evaluating after epoch {epoch + 1}...\")\n",
    "        val_metrics = evaluate_model_custom(model, val_loader_custom, device, criterion)\n",
    "        training_history['val_loss'].append(val_metrics['loss'])\n",
    "        training_history['val_pcc'].append(val_metrics['pcc'])\n",
    "        training_history['val_r2'].append(val_metrics['r2'])\n",
    "\n",
    "        print(f\"\\n📈 Epoch {epoch + 1} Summary:\")\n",
    "        print(f\"  Train MSE Loss: {avg_train_loss:.4f}\")\n",
    "        print(f\"  Val MSE Loss: {val_metrics['loss']:.4f}\")\n",
    "        print(f\"  Val PCC: {val_metrics['pcc']:.4f}\")\n",
    "        print(f\"  Val R²: {val_metrics['r2']:.4f}\")\n",
    "        print(f\"  Val RMSE: {val_metrics['rmse']:.4f}\")\n",
    "        print(f\"  Learning Rate: {scheduler.get_last_lr()[0]:.2e}\")\n",
    "\n",
    "        # Save model based on lowest validation loss\n",
    "        if val_metrics['loss'] < best_val_loss:\n",
    "            best_val_loss = val_metrics['loss']\n",
    "            best_val_pcc = val_metrics['pcc']\n",
    "            patience_counter = 0\n",
    "\n",
    "            torch.save({\n",
    "                'epoch': epoch,\n",
    "                'model_state_dict': model.state_dict(),\n",
    "                'optimizer_state_dict': optimizer.state_dict(),\n",
    "                'scheduler_state_dict': scheduler.state_dict(),\n",
    "                'best_val_loss': best_val_loss,\n",
    "                'best_val_pcc': best_val_pcc,\n",
    "                'global_step': global_step\n",
    "            }, os.path.join(save_dir, 'best_model.pt'))\n",
    "\n",
    "            print(f\"💾 New best model saved! Val MSE: {best_val_loss:.4f}, Val PCC: {best_val_pcc:.4f}\")\n",
    "        else:\n",
    "            patience_counter += 1\n",
    "            print(f\"⏳ No improvement in MSE loss. Patience: {patience_counter}/{early_stopping_patience}\")\n",
    "\n",
    "        epoch_checkpoint_path = os.path.join(save_dir, f'model_epoch_{epoch + 1}.pt')\n",
    "        torch.save({\n",
    "            'epoch': epoch,\n",
    "            'model_state_dict': model.state_dict(),\n",
    "            'optimizer_state_dict': optimizer.state_dict(),\n",
    "            'scheduler_state_dict': scheduler.state_dict(),\n",
    "            'val_loss': val_metrics['loss'],\n",
    "            'val_pcc': val_metrics['pcc'],\n",
    "            'global_step': global_step\n",
    "        }, epoch_checkpoint_path)\n",
    "        print(f\"💾 Epoch {epoch + 1} checkpoint saved\")\n",
    "\n",
    "        if patience_counter >= early_stopping_patience:\n",
    "            print(f\"🛑 Early stopping triggered after {patience_counter} epochs without MSE loss improvement\")\n",
    "            break\n",
    "\n",
    "        model.train()\n",
    "\n",
    "    total_time = time.time() - start_time\n",
    "    print(f\"\\n✅ Training completed in {total_time/60:.2f} minutes\")\n",
    "    print(f\"🏆 Best validation MSE loss achieved: {best_val_loss:.4f}\")\n",
    "    print(f\"🏆 Best validation PCC achieved: {best_val_pcc:.4f}\")\n",
    "\n",
    "    final_metrics = {\n",
    "        'training_history': training_history, \n",
    "        'best_val_loss': best_val_loss,\n",
    "        'best_val_pcc': best_val_pcc\n",
    "    }\n",
    "    \n",
    "    if test_loader is not None:\n",
    "        print(\"\\n🧪 Evaluating on test set...\")\n",
    "        test_metrics = evaluate_model_custom(model, test_loader_custom, device, criterion)\n",
    "        final_metrics['test_metrics'] = test_metrics\n",
    "\n",
    "        print(\"📊 Final Test Metrics:\")\n",
    "        print(f\"  MSE: {test_metrics['mse']:.4f}\")\n",
    "        print(f\"  RMSE: {test_metrics['rmse']:.4f}\")\n",
    "        print(f\"  MAE: {test_metrics['mae']:.4f}\")\n",
    "        print(f\"  R²: {test_metrics['r2']:.4f}\")\n",
    "        print(f\"  PCC: {test_metrics['pcc']:.4f}\")\n",
    "        print(f\"  PCC p-value: {test_metrics['pcc_p_value']:.6f}\")\n",
    "\n",
    "    return final_metrics"
   ]
  },
  {
   "cell_type": "code",
   "execution_count": null,
   "id": "4eb59db2-5e32-4123-a357-b3db405bc0ff",
   "metadata": {},
   "outputs": [
    {
     "name": "stdout",
     "output_type": "stream",
     "text": [
      "🚀 Starting regression training for 5 epochs...\n",
      "🔧 Gradient accumulation steps: 8\n",
      "📊 Evaluation will occur after each epoch\n",
      "💾 Model will be saved based on lowest validation MSE loss\n",
      "\n",
      "==================================================\n",
      "Epoch 1/5\n",
      "==================================================\n"
     ]
    },
    {
     "name": "stderr",
     "output_type": "stream",
     "text": [
      "Epoch 1: 0it [00:00, ?it/s]/tmp/ipykernel_1116178/1156599230.py:201: FutureWarning: `torch.cuda.amp.autocast(args...)` is deprecated. Please use `torch.amp.autocast('cuda', args...)` instead.\n",
      "  with torch.cuda.amp.autocast():\n",
      "Epoch 1: 1754it [3:52:08,  7.97s/it, mse_loss=0.1937, lr=1.00e-05]IOPub message rate exceeded.\n",
      "The Jupyter server will temporarily stop sending output\n",
      "to the client in order to avoid crashing it.\n",
      "To change this limit, set the config variable\n",
      "`--ServerApp.iopub_msg_rate_limit`.\n",
      "\n",
      "Current values:\n",
      "ServerApp.iopub_msg_rate_limit=1000.0 (msgs/sec)\n",
      "ServerApp.rate_limit_window=3.0 (secs)\n",
      "\n",
      "Epoch 1: 7008it [15:24:12,  7.90s/it, mse_loss=0.1025, lr=1.00e-05]2025-06-18 16:35:07.075243: I tensorflow/core/framework/local_rendezvous.cc:404] Local rendezvous is aborting with status: OUT_OF_RANGE: End of sequence\n",
      "Epoch 1: 7008it [15:24:12,  7.91s/it, mse_loss=0.1025, lr=1.00e-05]\n"
     ]
    },
    {
     "name": "stdout",
     "output_type": "stream",
     "text": [
      "\n",
      "🔄 Evaluating after epoch 1...\n"
     ]
    },
    {
     "name": "stderr",
     "output_type": "stream",
     "text": [
      "Evaluating: 419it [14:19,  2.06s/it]2025-06-18 16:49:26.563260: I tensorflow/core/framework/local_rendezvous.cc:404] Local rendezvous is aborting with status: OUT_OF_RANGE: End of sequence\n",
      "Evaluating: 419it [14:19,  2.05s/it]\n"
     ]
    },
    {
     "name": "stdout",
     "output_type": "stream",
     "text": [
      "\n",
      "📈 Epoch 1 Summary:\n",
      "  Train MSE Loss: 0.6878\n",
      "  Val MSE Loss: 0.1310\n",
      "  Val PCC: 0.2006\n",
      "  Val R²: -0.0528\n",
      "  Val RMSE: 0.3620\n",
      "  Learning Rate: 1.00e-05\n",
      "💾 New best model saved! Val MSE: 0.1310, Val PCC: 0.2006\n",
      "💾 Epoch 1 checkpoint saved\n",
      "\n",
      "==================================================\n",
      "Epoch 2/5\n",
      "==================================================\n"
     ]
    },
    {
     "name": "stderr",
     "output_type": "stream",
     "text": [
      "Epoch 2: 0it [00:00, ?it/s]/tmp/ipykernel_1116178/1156599230.py:201: FutureWarning: `torch.cuda.amp.autocast(args...)` is deprecated. Please use `torch.amp.autocast('cuda', args...)` instead.\n",
      "  with torch.cuda.amp.autocast():\n",
      "Epoch 2: 417it [54:47,  7.90s/it, mse_loss=0.1516, lr=1.00e-05]"
     ]
    }
   ],
   "source": [
    "\n",
    "\n",
    "# Train the model\n",
    "training_results = train_model_custom(\n",
    "    model=model,\n",
    "    tokenizer=tokenizer,\n",
    "    train_loader=train_loader,\n",
    "    val_loader=valid_loader,\n",
    "    test_loader=test_loader,\n",
    "    num_epochs=5,\n",
    "    learning_rate=1e-4,\n",
    "    # batch_size=1,  # Start small due to memory constraints\n",
    "    max_length=68269,\n",
    "    device=device,\n",
    "    use_wandb=False,  \n",
    "    gradient_accumulation_steps=8,  # Effective batch size = 1 * 8 = 8\n",
    ")\n",
    "\n"
   ]
  },
  {
   "cell_type": "code",
   "execution_count": null,
   "id": "762980a8-6732-420b-898e-cc1647bbf490",
   "metadata": {},
   "outputs": [],
   "source": [
    "# Final evaluation on test set if provided\n",
    "final_metrics = {}\n",
    "\n",
    "test_loader_custom = DataLoader(\n",
    "            test_loader.dataset,\n",
    "            batch_size=1,\n",
    "            collate_fn=lambda b: collate_fn(b, tokenizer)\n",
    "        )\n",
    "\n",
    "criterion = nn.MSELoss()\n",
    "\n",
    "print(\"\\n🧪 Evaluating on test set...\")\n",
    "test_metrics = evaluate_model_custom(model, test_loader_custom, device, criterion)\n",
    "final_metrics['test_metrics'] = test_metrics\n",
    "\n",
    "print(\"📊 Final Test Metrics:\")\n",
    "for key, value in test_metrics.items():\n",
    "    print(f\"  {key}: {value:.4f}\")\n",
    "\n",
    "print(final_metrics)"
   ]
  },
  {
   "cell_type": "code",
   "execution_count": null,
   "id": "3f7fc2ca-b1bd-4490-aa60-daece22bc9c4",
   "metadata": {},
   "outputs": [],
   "source": []
  }
 ],
 "metadata": {
  "kernelspec": {
   "display_name": "Python 3 (ipykernel)",
   "language": "python",
   "name": "python3"
  },
  "language_info": {
   "codemirror_mode": {
    "name": "ipython",
    "version": 3
   },
   "file_extension": ".py",
   "mimetype": "text/x-python",
   "name": "python",
   "nbconvert_exporter": "python",
   "pygments_lexer": "ipython3",
   "version": "3.9.20"
  }
 },
 "nbformat": 4,
 "nbformat_minor": 5
}
